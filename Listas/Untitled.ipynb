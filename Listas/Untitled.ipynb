{
 "cells": [
  {
   "cell_type": "markdown",
   "id": "armed-plaintiff",
   "metadata": {},
   "source": [
    "# Lista de Exercícios 2"
   ]
  },
  {
   "cell_type": "markdown",
   "id": "simplified-ownership",
   "metadata": {},
   "source": [
    "01) Lista de Exercícios da CPE723 Edição Presencial - Exercício 1. No item 1(b), onde está escrito \"três números aleatórios equiprováveis\", leia-se \"três números aleatórios, sorteados de PDF uniforme entre 0 e 1\". \n",
    "\n",
    "02) Lista de Exercícios da CPE723 Edição Presencial - Exercício 2.\n",
    "\n",
    "03) Lista de Exercícios da CPE723 Edição Presencial - Exercício 3.\n",
    "\n",
    "04) Prova de 2009 - Questão 2, itens (a) e (c) (resolvida em aula no dia 12/04/2022).\n",
    "\n",
    "05) Prova de 2011 - Questão 2, itens (a), (b), e (e).\n",
    "\n",
    "06) (Opcional/Desafio) Prova de 2012 - Questão 3.\n",
    "\n",
    "07) Prova de 2016 - Questão 2.\n",
    "\n",
    "08) Prova de 2016 - Questão 3.\n",
    "\n",
    "09) Prova de 2017 - Questão 3, itens (b) e (c).\n",
    "\n",
    "10) Prova de 2018 - Questão 3."
   ]
  },
  {
   "cell_type": "markdown",
   "id": "handmade-catch",
   "metadata": {},
   "source": [
    "# 01) Lista de Exercícios da CPE723 Edição Presencial - Exercício 1. No item 1(b), onde está escrito \"três números aleatórios equiprováveis\", leia-se \"três números aleatórios, sorteados de PDF uniforme entre 0 e 1\"."
   ]
  },
  {
   "cell_type": "markdown",
   "id": "white-challenge",
   "metadata": {},
   "source": [
    "## a)\n",
    "\n",
    "Nesse caso, $X(n)$ será dado por:\n",
    "\n",
    "$$p(X(n)) = p_0M^n$$"
   ]
  },
  {
   "cell_type": "code",
   "execution_count": 20,
   "id": "wooden-marshall",
   "metadata": {},
   "outputs": [
    {
     "name": "stdout",
     "output_type": "stream",
     "text": [
      "Distribuição p3:  [[0.3328125 0.334375  0.3328125]]\n"
     ]
    }
   ],
   "source": [
    "import numpy as np\n",
    "\n",
    "M = np.array([[0.5, 0.25, 0.25],[0.25, 0.5, 0.25],[0.25, 0.25, 0.5]])\n",
    "p0 = np.array([0.3, 0.4, 0.3]).reshape(1, 3)\n",
    "\n",
    "pX3 = np.matmul(p0, np.linalg.matrix_power(M, 3))\n",
    "\n",
    "print(\"Distribuição p3: \", pX3)"
   ]
  },
  {
   "cell_type": "markdown",
   "id": "requested-converter",
   "metadata": {},
   "source": [
    "## b)\n",
    "\n"
   ]
  },
  {
   "cell_type": "code",
   "execution_count": 22,
   "id": "acting-theta",
   "metadata": {},
   "outputs": [],
   "source": [
    "X = [1]\n",
    "rs = []\n",
    "\n",
    "for i in range(0, 3):\n",
    "    r = np.random.uniform(0, 1)\n",
    "    rs.append(r)\n",
    "    for j in range(0, 3):\n",
    "        if r <= M[j, X[i]]:\n",
    "            X.append(j)\n",
    "            break\n",
    "        else:\n",
    "            r -= M[j, X[i]]\n",
    "    "
   ]
  },
  {
   "cell_type": "code",
   "execution_count": 23,
   "id": "oriented-recall",
   "metadata": {},
   "outputs": [
    {
     "data": {
      "text/plain": [
       "[0.1869942011606095, 0.9050524523264631, 0.30171368180696134]"
      ]
     },
     "execution_count": 23,
     "metadata": {},
     "output_type": "execute_result"
    }
   ],
   "source": [
    "rs"
   ]
  },
  {
   "cell_type": "code",
   "execution_count": 24,
   "id": "gothic-cutting",
   "metadata": {},
   "outputs": [
    {
     "data": {
      "text/plain": [
       "[1, 0, 2, 1]"
      ]
     },
     "execution_count": 24,
     "metadata": {},
     "output_type": "execute_result"
    }
   ],
   "source": [
    "X"
   ]
  }
 ],
 "metadata": {
  "kernelspec": {
   "display_name": "Python 3",
   "language": "python",
   "name": "python3"
  },
  "language_info": {
   "codemirror_mode": {
    "name": "ipython",
    "version": 3
   },
   "file_extension": ".py",
   "mimetype": "text/x-python",
   "name": "python",
   "nbconvert_exporter": "python",
   "pygments_lexer": "ipython3",
   "version": "3.8.7"
  }
 },
 "nbformat": 4,
 "nbformat_minor": 5
}
