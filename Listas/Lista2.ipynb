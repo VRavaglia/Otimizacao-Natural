{
 "cells": [
  {
   "cell_type": "markdown",
   "id": "turkish-catering",
   "metadata": {},
   "source": [
    "# Lista de Exercícios 2"
   ]
  },
  {
   "cell_type": "markdown",
   "id": "armed-stereo",
   "metadata": {},
   "source": [
    "* 01) Lista de Exercícios da CPE723 Edição Presencial - Exercício 1. No item 1(b), onde está escrito \"três números aleatórios equiprováveis\", leia-se \"três números aleatórios, sorteados de PDF uniforme entre 0 e 1\". \n",
    "\n",
    "* 02) Lista de Exercícios da CPE723 Edição Presencial - Exercício 2.\n",
    "\n",
    "* 03) Lista de Exercícios da CPE723 Edição Presencial - Exercício 3.\n",
    "\n",
    "* 04) Prova de 2009 - Questão 2, itens (a) e (c) (resolvida em aula no dia 12/04/2022).\n",
    "\n",
    "* 05) Prova de 2011 - Questão 2, itens (a), (b), e (e).\n",
    "\n",
    "* 06) (Opcional/Desafio) Prova de 2012 - Questão 3.\n",
    "\n",
    "* 07) Prova de 2016 - Questão 2.\n",
    "\n",
    "* 08) Prova de 2016 - Questão 3.\n",
    "\n",
    "* 09) Prova de 2017 - Questão 3, itens (b) e (c).\n",
    "\n",
    "* 10) Prova de 2018 - Questão 3."
   ]
  },
  {
   "cell_type": "markdown",
   "id": "mobile-circumstances",
   "metadata": {},
   "source": [
    "# 01) Lista de Exercícios da CPE723 Edição Presencial - Exercício 1. No item 1(b), onde está escrito \"três números aleatórios equiprováveis\", leia-se \"três números aleatórios, sorteados de PDF uniforme entre 0 e 1\"."
   ]
  },
  {
   "cell_type": "markdown",
   "id": "finnish-stamp",
   "metadata": {},
   "source": [
    "## a)\n",
    "\n",
    "Nesse caso, $X(n)$ será dado por:\n",
    "\n",
    "$$p(X(n)) = p_0M^n$$"
   ]
  },
  {
   "cell_type": "code",
   "execution_count": 16,
   "id": "authorized-authority",
   "metadata": {},
   "outputs": [
    {
     "name": "stdout",
     "output_type": "stream",
     "text": [
      "Distribuição p3:  [[0.3328125 0.334375  0.3328125]]\n"
     ]
    }
   ],
   "source": [
    "import numpy as np\n",
    "\n",
    "M = np.array([[0.5, 0.25, 0.25],[0.25, 0.5, 0.25],[0.25, 0.25, 0.5]])\n",
    "p0 = np.array([0.3, 0.4, 0.3]).reshape(1, 3)\n",
    "\n",
    "pX3 = np.matmul(p0, np.linalg.matrix_power(M, 3))\n",
    "\n",
    "print(\"Distribuição p3: \", pX3)"
   ]
  },
  {
   "cell_type": "markdown",
   "id": "becoming-phoenix",
   "metadata": {},
   "source": [
    "## b)\n",
    "\n"
   ]
  },
  {
   "cell_type": "code",
   "execution_count": 17,
   "id": "alpine-preview",
   "metadata": {
    "scrolled": true
   },
   "outputs": [
    {
     "data": {
      "image/png": "[encoded data removed]",
      "text/plain": [
       "<Figure size 432x288 with 1 Axes>"
      ]
     },
     "metadata": {
      "needs_background": "light"
     },
     "output_type": "display_data"
    }
   ],
   "source": [
    "import matplotlib.pyplot as plt \n",
    "import random\n",
    "import numpy as np\n",
    "\n",
    "X = [1]\n",
    "rs = []\n",
    "\n",
    "for i in range(0, 3):\n",
    "    r = random.uniform(0, 1)\n",
    "    rs.append(r)\n",
    "    for j in range(0, 3):\n",
    "        if r <= M[j, X[i]]:\n",
    "            X.append(j)\n",
    "            break\n",
    "        else:\n",
    "            r -= M[j, X[i]]\n",
    " \n",
    "plt.scatter(range(0, 4), X)\n",
    "plt.title(\"Trajetoria de X\")\n",
    "plt.show()"
   ]
  },
  {
   "cell_type": "markdown",
   "id": "finnish-counter",
   "metadata": {},
   "source": [
    "## c)"
   ]
  },
  {
   "cell_type": "code",
   "execution_count": 18,
   "id": "located-cricket",
   "metadata": {},
   "outputs": [],
   "source": [
    "import matplotlib.pyplot as plt \n",
    "import random\n",
    "\n",
    "Xs = []\n",
    "\n",
    "for k in range(0, 100):\n",
    "    X = [random.randint(0, 2)]\n",
    "\n",
    "    for i in range(0, 3):\n",
    "        r = np.random.uniform(0, 1)\n",
    "        for j in range(0, 3):\n",
    "            if r <= M[j, X[i]]:\n",
    "                X.append(j)\n",
    "                break\n",
    "            else:\n",
    "                r -= M[j, X[i]]\n",
    "    \n",
    "    Xs.append(X)\n",
    "    \n",
    "#Xs contem as transicoes de estados\n",
    "Xs = np.array(Xs)"
   ]
  },
  {
   "cell_type": "markdown",
   "id": "guided-resolution",
   "metadata": {},
   "source": [
    "## d)"
   ]
  },
  {
   "cell_type": "code",
   "execution_count": 19,
   "id": "infectious-baseline",
   "metadata": {
    "scrolled": true
   },
   "outputs": [
    {
     "data": {
      "image/png": "[encoded data removed]",
      "text/plain": [
       "<Figure size 432x288 with 4 Axes>"
      ]
     },
     "metadata": {
      "needs_background": "light"
     },
     "output_type": "display_data"
    }
   ],
   "source": [
    "ps = []\n",
    "\n",
    "for i in range(0, 4):\n",
    "    cs = []\n",
    "    for j in range(0, 3):\n",
    "        cs.append(np.sum(Xs[:, i] == j)/100)\n",
    "\n",
    "    ps.append(cs)\n",
    "\n",
    "ps = np.array(ps)\n",
    "\n",
    "fig, axs = plt.subplots(4)\n",
    "fig.suptitle('Distribuicoes de X para cada instante')\n",
    "for i in range(0,4):\n",
    "    axs[i].hist(Xs[:, i], bins=np.arange(0, 2.5, 0.1), density=True)\n",
    "\n",
    "plt.show()"
   ]
  },
  {
   "cell_type": "markdown",
   "id": "static-ireland",
   "metadata": {},
   "source": [
    "# 02) Lista de Exercícios da CPE723 Edição Presencial - Exercício 2.\n"
   ]
  },
  {
   "cell_type": "markdown",
   "id": "conditional-turning",
   "metadata": {},
   "source": [
    "## a)\n",
    "Adotando um algorítmo de Metropolis que sorteia um estado para transição dentre todos os possíveis,  com chances iguais (1/2), temos:"
   ]
  },
  {
   "cell_type": "code",
   "execution_count": 20,
   "id": "ordered-chest",
   "metadata": {
    "scrolled": true
   },
   "outputs": [
    {
     "name": "stdout",
     "output_type": "stream",
     "text": [
      "Matriz de transição M: \n",
      "[[0.         0.02489353 0.         0.         0.18393972]\n",
      " [0.5        0.79116675 0.5        0.         0.        ]\n",
      " [0.         0.18393972 0.         0.06766764 0.        ]\n",
      " [0.         0.         0.5        0.90743882 0.5       ]\n",
      " [0.5        0.         0.         0.02489353 0.31606028]]\n"
     ]
    }
   ],
   "source": [
    "import numpy as np\n",
    "\n",
    "T = 0.1\n",
    "\n",
    "Jx = [0.5, 0.2, 0.3, 0.1, 0.4]\n",
    "\n",
    "# Restorna se x é uma unidade maior ou menor que y para um tamanho maximo t\n",
    "# Se x = 0, seus vizinhos sao 1 e t\n",
    "# Se x = t, seus viznhos sao t-1 e 0\n",
    "# Caso contrario, seus vizinhos sao x-1 e x+1\n",
    "def vizinhos(x, y, t):\n",
    "    if x == 0:\n",
    "        return y == 1 or y == t\n",
    "    if x == t:\n",
    "        return y == 0 or y == t-1\n",
    "    \n",
    "    return y == x+1 or y == x-1\n",
    "    \n",
    "\n",
    "#Calculo da matriz de transição\n",
    "def geraMatriz(T):\n",
    "    M = []\n",
    "    for i in range(0, 5):\n",
    "        m = []\n",
    "        for j in range(0, 5):\n",
    "            if vizinhos(i, j, 4):\n",
    "                dJ = Jx[i] - Jx[j]\n",
    "                \n",
    "                if dJ < 0:\n",
    "                    m.append(1/2)\n",
    "                else:\n",
    "                    m.append(np.exp(-(Jx[i] - Jx[j])/T)*1/2)\n",
    "            else:\n",
    "                m.append(0)\n",
    "        M.append(m)\n",
    "        \n",
    "    M = np.array(M)\n",
    "    \n",
    "    for i in range(0,5):\n",
    "        M[i, i] = 1- np.sum(M[np.arange(0, 5) != i, i])\n",
    "    \n",
    "    return M\n",
    "\n",
    "#Matriz de transição\n",
    "\n",
    "M1 = geraMatriz(0.1)\n",
    "    \n",
    "print(\"Matriz de transição M: \")\n",
    "print(M1)"
   ]
  },
  {
   "cell_type": "markdown",
   "id": "earned-guard",
   "metadata": {},
   "source": [
    "## b) "
   ]
  },
  {
   "cell_type": "code",
   "execution_count": 21,
   "id": "elegant-collection",
   "metadata": {
    "scrolled": true
   },
   "outputs": [
    {
     "name": "stdout",
     "output_type": "stream",
     "text": [
      "Sequência de estados: \n",
      "[3 4 4 4]\n"
     ]
    }
   ],
   "source": [
    "import math\n",
    "\n",
    "# Metropolis\n",
    "X = [random.randint(0, 4)]\n",
    "T = 0.1\n",
    "\n",
    "for n in range(1, 4):\n",
    "    \n",
    "    xhat = random.randint(0, 4)\n",
    "        \n",
    "    dJ = Jx[xhat] - Jx[X[n-1]]\n",
    "    q = math.exp(-dJ/(T))\n",
    "    r = random.uniform(0, 1)\n",
    "    \n",
    "    if r < q:\n",
    "        X.append(xhat)\n",
    "    else:\n",
    "        X.append(X[n-1])\n",
    "\n",
    "X = np.array(X)\n",
    "\n",
    "print(\"Sequência de estados: \")\n",
    "print(X+1)"
   ]
  },
  {
   "cell_type": "markdown",
   "id": "damaged-footage",
   "metadata": {},
   "source": [
    "## c)\n",
    "\n"
   ]
  },
  {
   "cell_type": "code",
   "execution_count": 22,
   "id": "awful-restaurant",
   "metadata": {},
   "outputs": [
    {
     "name": "stdout",
     "output_type": "stream",
     "text": [
      "Matriz de transição M(T=0.1): \n",
      "[[0.         0.02489353 0.         0.         0.18393972]\n",
      " [0.5        0.79116675 0.5        0.         0.        ]\n",
      " [0.         0.18393972 0.         0.06766764 0.        ]\n",
      " [0.         0.         0.5        0.90743882 0.5       ]\n",
      " [0.5        0.         0.         0.02489353 0.31606028]]\n",
      "\n",
      "Vetor invariante para M(T=0.1): \n",
      "[0.01165623 0.23412166 0.08612854 0.63640865 0.03168492]\n"
     ]
    }
   ],
   "source": [
    "import numpy as np\n",
    "from numpy import linalg as LA\n",
    "\n",
    "\n",
    "    \n",
    "print(\"Matriz de transição M(T=0.1): \")\n",
    "print(M1)\n",
    "\n",
    "#Vetores invariantes\n",
    "w, v = LA.eig(M1)\n",
    "pi1 = v[:, 3]\n",
    "\n",
    "print(\"\\nVetor invariante para M(T=0.1): \")\n",
    "print(pi1/np.sum(pi1))\n"
   ]
  },
  {
   "cell_type": "markdown",
   "id": "worth-admission",
   "metadata": {},
   "source": [
    "## d)"
   ]
  },
  {
   "cell_type": "code",
   "execution_count": 23,
   "id": "productive-fields",
   "metadata": {},
   "outputs": [
    {
     "name": "stdout",
     "output_type": "stream",
     "text": [
      "\n",
      "Fator de Boltzman (T=0.1): \n",
      "[0.01165623 0.23412166 0.08612854 0.63640865 0.03168492]\n"
     ]
    }
   ],
   "source": [
    "T = 0.1\n",
    "boltz = []\n",
    "\n",
    "for i in range(0,5):\n",
    "    boltz.append(np.exp(-Jx[i]/T))\n",
    "    \n",
    "print(\"\\nFator de Boltzman (T=0.1): \")\n",
    "print(boltz/np.sum(boltz))"
   ]
  },
  {
   "cell_type": "markdown",
   "id": "chief-stream",
   "metadata": {},
   "source": [
    "## e)"
   ]
  },
  {
   "cell_type": "code",
   "execution_count": 24,
   "id": "international-compression",
   "metadata": {
    "scrolled": true
   },
   "outputs": [
    {
     "name": "stdout",
     "output_type": "stream",
     "text": [
      "Historico de estados e de K:\n"
     ]
    },
    {
     "data": {
      "image/png": "[encoded data removed]",
      "text/plain": [
       "<Figure size 432x288 with 2 Axes>"
      ]
     },
     "metadata": {
      "needs_background": "light"
     },
     "output_type": "display_data"
    }
   ],
   "source": [
    "import math\n",
    "\n",
    "# SA\n",
    "X = []\n",
    "x = random.randint(0, 4)\n",
    "xhat = 0\n",
    "Ts = [0.1, 0.0631, 0.05, 0.0431, 0.0387, 0.0356, 0.0333, 0.0315, 0.0301, 0.0289]\n",
    "Tlista = []\n",
    "Xs = np.zeros((5, len(Ts)))\n",
    "N = 1000\n",
    "\n",
    "# SA simples\n",
    "for k in range(0, len(Ts)):\n",
    "    T = Ts[k]\n",
    "    for n in range(1, N):\n",
    "\n",
    "        xhat = random.randint(0, 4)\n",
    "\n",
    "        dJ = Jx[xhat] - Jx[x]\n",
    "        q = math.exp(-dJ/(T))\n",
    "        r = random.uniform(0, 1)\n",
    "\n",
    "        if r < q:\n",
    "            x = xhat\n",
    "\n",
    "        X.append(x)\n",
    "        Tlista.append(T)\n",
    "        Xs[x, k] += 1\n",
    "        \n",
    "\n",
    "X = np.array(X)\n",
    "\n",
    "fig, axs = plt.subplots(2)\n",
    "print(\"Historico de estados e de K:\")\n",
    "axs[0].plot(X)\n",
    "axs[1].plot(Tlista)\n",
    "plt.show()"
   ]
  },
  {
   "cell_type": "code",
   "execution_count": 10,
   "id": "worldwide-vegetable",
   "metadata": {
    "scrolled": true
   },
   "outputs": [
    {
     "data": {
      "image/png": "[encoded data removed]",
      "text/plain": [
       "<Figure size 432x288 with 10 Axes>"
      ]
     },
     "metadata": {
      "needs_background": "light"
     },
     "output_type": "display_data"
    }
   ],
   "source": [
    "# Plot das distribuições\n",
    "fig, axs = plt.subplots(len(Ts))\n",
    "fig.suptitle('Distribuicoes de X por temperatura')\n",
    "for i in range(0,len(Ts)):\n",
    "    axs[i].bar(range(1, 6), Xs[:, i]/np.sum(Xs[:, i]))\n",
    "\n",
    "plt.show()"
   ]
  },
  {
   "cell_type": "markdown",
   "id": "radio-viewer",
   "metadata": {},
   "source": [
    "Como esperado, conforme a temperatura diminui, maior é a tendência do estado permanecer como sendo o de menor energia (x = 4)."
   ]
  },
  {
   "cell_type": "markdown",
   "id": "organizational-improvement",
   "metadata": {},
   "source": [
    "# 03) Lista de Exercícios da CPE723 Edição Presencial - Exercício 3.\n",
    "\n",
    "O problema proposto é o caixeiro viajante da lista anterior, mas com 10 cidades."
   ]
  },
  {
   "cell_type": "code",
   "execution_count": 11,
   "id": "finnish-thickness",
   "metadata": {
    "scrolled": true
   },
   "outputs": [
    {
     "name": "stderr",
     "output_type": "stream",
     "text": [
      "<ipython-input-11-f01bab6b216f>:59: RuntimeWarning: overflow encountered in exp\n",
      "  q = np.exp((Jatual-Jit)/T)\n"
     ]
    },
    {
     "data": {
      "image/png": "[encoded data removed]",
      "text/plain": [
       "<Figure size 288x288 with 1 Axes>"
      ]
     },
     "metadata": {
      "needs_background": "light"
     },
     "output_type": "display_data"
    }
   ],
   "source": [
    "import random\n",
    "import math\n",
    "import numpy as np\n",
    "import matplotlib.pyplot as plt\n",
    "\n",
    "# Ordem de caminhos inicial aleatoria\n",
    "ordem = np.arange(10)\n",
    "np.random.shuffle(ordem[1:])\n",
    "ordemHat = ordem\n",
    "\n",
    "\n",
    "# Pentagono com as posicoes de cada cidade\n",
    "x = []\n",
    "raio = 1\n",
    "for i in range(0, 10):\n",
    "    x.append([raio*np.cos(i*2*np.pi/10), raio*np.sin(i*2*np.pi/10)])\n",
    "\n",
    "x = np.array(x)\n",
    "\n",
    "N = 1e4\n",
    "ordemMin = ordem\n",
    "Jatual = 1e6\n",
    "Jmin = Jatual\n",
    "Js = []\n",
    "n = 0\n",
    "\n",
    "T0 = 1e-2\n",
    "T = T0\n",
    "Ts = []\n",
    "Kmax = 20\n",
    "distancias = []\n",
    "k = 1\n",
    "\n",
    "# O custo é a distancia total percurrida\n",
    "def J(ordem):\n",
    "    distTot = 0\n",
    "    iAnterior = 0\n",
    "    for i in ordem[1:]:\n",
    "        dist = np.linalg.norm(x[i]-x[iAnterior])\n",
    "        iAnterior = i\n",
    "        distTot += dist\n",
    "        \n",
    "    dist = np.linalg.norm(x[i]-x[0])\n",
    "    distTot += dist\n",
    "    return distTot\n",
    "\n",
    "\n",
    "# Simulated Annealing\n",
    "while k < Kmax:\n",
    "    n += 1\n",
    "    \n",
    "    # Troca duas cidades de ordem de maneira aleatoria, exceto a primeira que é sempre a mesma\n",
    "    idx = random.randint(1, 9)\n",
    "    idx2 = random.randint(1, 9) \n",
    "    ordemHat[idx], ordemHat[idx2] = ordem[idx2], ordem[idx]\n",
    "            \n",
    "    Jit = J(ordemHat)\n",
    "    \n",
    "    q = np.exp((Jatual-Jit)/T)\n",
    "    r = random.uniform(0, 1)\n",
    "    \n",
    "    if r < q:\n",
    "        ordem = ordemHat\n",
    "        Jatual = Jit\n",
    "        \n",
    "    \n",
    "    if Jit < Jmin:\n",
    "        Jmin = Jit\n",
    "        ordemMin = ordemHat   \n",
    "             \n",
    "    if n % N == 0:\n",
    "        k += 1\n",
    "        T = T0/(np.log2(1 + k))\n",
    "\n",
    "    distancias.append(Jit)\n",
    "\n",
    "# Visualização do resultado final\n",
    "fig, ax = plt.subplots(figsize=(4, 4))\n",
    "ax.scatter(x[:,0], x[:,1])\n",
    "ax.scatter(0, 0)\n",
    "ax.add_patch(plt.Circle((0, 0), 1, color='r', fill=False))\n",
    "plt.xlim([-1.5, 1.5])\n",
    "plt.ylim([-1.5, 1.5])\n",
    "\n",
    "\n",
    "for i in ordemMin[1:]:\n",
    "    plt.annotate(text=str(i-1), xy=(x[i]), xytext=(x[i-1]), color='r', arrowprops=dict(arrowstyle='->'))\n",
    "\n",
    "plt.annotate(text=str(9), xy=(x[0]), xytext=(x[9]), color='r', arrowprops=dict(arrowstyle='->'))\n",
    "plt.annotate(text=\"Distancia minima: \" + str(Jmin), xy=(-0.8,1.2), xytext=(-0.8,1.2))\n",
    "\n",
    "plt.show()"
   ]
  },
  {
   "cell_type": "markdown",
   "id": "romantic-superintendent",
   "metadata": {},
   "source": [
    "Assim como no exercício original, o caminho mais enficiente é seguindo a própria circunferência."
   ]
  },
  {
   "cell_type": "markdown",
   "id": "excellent-trail",
   "metadata": {},
   "source": [
    "# 04) Prova de 2009 - Questão 2, itens (a) e (c) (resolvida em aula no dia 12/04/2022)."
   ]
  },
  {
   "cell_type": "markdown",
   "id": "alike-snake",
   "metadata": {},
   "source": [
    "## a) "
   ]
  },
  {
   "cell_type": "code",
   "execution_count": 12,
   "id": "stainless-vietnamese",
   "metadata": {},
   "outputs": [
    {
     "name": "stdout",
     "output_type": "stream",
     "text": [
      "Fator x = 1 : T = 0.1: 0.049787068367863965\n",
      "Fator x = 2 : T = 0.1: 0.36787944117144233\n",
      "Fator x = 3 : T = 0.1: 0.36787944117144233\n",
      "Fator x = 4 : T = 0.1: 0.1353352832366127\n",
      "Fator x = 1 : T = 1.0: 0.7408182206817179\n",
      "Fator x = 2 : T = 1.0: 0.9048374180359595\n",
      "Fator x = 3 : T = 1.0: 0.9048374180359595\n",
      "Fator x = 4 : T = 1.0: 0.8187307530779818\n"
     ]
    }
   ],
   "source": [
    "Jx = [0.3, 0.1, 0.1, 0.2]\n",
    "\n",
    "T = 0.1\n",
    "bolt1 = []\n",
    "bolt2 =[]\n",
    "\n",
    "for i in range(0,4):\n",
    "    bolt1.append(np.exp(-Jx[i]/T))\n",
    "    print(\"Fator x =\", i+1,\": T = 0.1:\", bolt1[i])\n",
    "    \n",
    "T = 1\n",
    "\n",
    "for i in range(0,4):\n",
    "    bolt2.append(np.exp(-Jx[i]/T))\n",
    "    print(\"Fator x =\", i+1,\": T = 1.0:\", bolt2[i])"
   ]
  },
  {
   "cell_type": "markdown",
   "id": "toxic-portland",
   "metadata": {},
   "source": [
    "# c)\n",
    "\n",
    "Adotando um algorítmo de Metropolis que sorteia um estado acima ou abaixo do atual, temos:"
   ]
  },
  {
   "cell_type": "code",
   "execution_count": 13,
   "id": "complex-scoop",
   "metadata": {},
   "outputs": [
    {
     "name": "stdout",
     "output_type": "stream",
     "text": [
      "Matriz de transição M(T=0.1): \n",
      "[[0.         0.06766764 0.         0.18393972]\n",
      " [0.5        0.43233236 0.5        0.        ]\n",
      " [0.         0.5        0.31606028 0.5       ]\n",
      " [0.5        0.         0.18393972 0.31606028]]\n",
      "Matriz de transição M(T=1): \n",
      "[[0.         0.40936538 0.         0.45241871]\n",
      " [0.5        0.09063462 0.5        0.        ]\n",
      " [0.         0.5        0.04758129 0.5       ]\n",
      " [0.5        0.         0.45241871 0.04758129]]\n",
      "\n",
      "Vetor invariante para M(T=0.1): \n",
      "[0.05406459 0.3994863  0.3994863  0.1469628 ]\n",
      "\n",
      "Fator de Boltzman (T=0.1): \n",
      "[0.05406459 0.3994863  0.3994863  0.1469628 ]\n",
      "\n",
      "Vetor invariante para M(T=1): \n",
      "[0.21987801 0.26855961 0.26855961 0.24300278]\n",
      "\n",
      "Fator de Boltzman (T=1.0): \n",
      "[0.21987801 0.26855961 0.26855961 0.24300278]\n"
     ]
    }
   ],
   "source": [
    "import numpy as np\n",
    "from numpy import linalg as LA\n",
    "\n",
    "Jx = [0.3, 0.1, 0.1, 0.2]\n",
    "\n",
    "# Restorna se x é uma unidade maior ou menor que y para um tamanho maximo t\n",
    "# Se x = 0, seus vizinhos sao 1 e t\n",
    "# Se x = t, seus viznhos sao t-1 e 0\n",
    "# Caso contrario, seus vizinhos sao x-1 e x+1\n",
    "def vizinhos(x, y, t):\n",
    "    if x == 0:\n",
    "        return y == 1 or y == t\n",
    "    if x == t:\n",
    "        return y == 0 or y == t-1\n",
    "    \n",
    "    return y == x+1 or y == x-1\n",
    "    \n",
    "\n",
    "#Calculo da matriz de transição\n",
    "def geraMatriz(T):\n",
    "    M = []\n",
    "    for i in range(0, 4):\n",
    "        m = []\n",
    "        for j in range(0, 4):\n",
    "            if vizinhos(i, j, 3):\n",
    "                dJ = Jx[i] - Jx[j]\n",
    "                \n",
    "                if dJ < 0:\n",
    "                    m.append(1/2)\n",
    "                else:\n",
    "                    m.append(np.exp(-(Jx[i] - Jx[j])/T)*1/2)\n",
    "            else:\n",
    "                m.append(0)\n",
    "        M.append(m)\n",
    "        \n",
    "    M = np.array(M)\n",
    "    \n",
    "    for i in range(0,4):\n",
    "        M[i, i] = 1- np.sum(M[np.arange(0, 4) != i, i])\n",
    "    \n",
    "    return M\n",
    "\n",
    "#Primeira matriz de transição\n",
    "\n",
    "M1 = geraMatriz(0.1)\n",
    "    \n",
    "print(\"Matriz de transição M(T=0.1): \")\n",
    "print(M1)\n",
    "\n",
    "\n",
    "#Segunda matriz de transição\n",
    "\n",
    "M2 = geraMatriz(1)\n",
    "    \n",
    "print(\"Matriz de transição M(T=1): \")\n",
    "print(M2)\n",
    "\n",
    "#Vetores invariantes\n",
    "w, v = LA.eig(M1)\n",
    "pi1 = v[:, 0]\n",
    "\n",
    "w, v = LA.eig(M2)\n",
    "pi2 = v[:, 1]\n",
    "\n",
    "\n",
    "print(\"\\nVetor invariante para M(T=0.1): \")\n",
    "print(pi1/np.sum(pi1))\n",
    "print(\"\\nFator de Boltzman (T=0.1): \")\n",
    "print(bolt1/np.sum(bolt1))\n",
    "print(\"\\nVetor invariante para M(T=1): \")\n",
    "print(pi2/np.sum(pi2))\n",
    "print(\"\\nFator de Boltzman (T=1.0): \")\n",
    "print(bolt2/np.sum(bolt2))"
   ]
  },
  {
   "cell_type": "markdown",
   "id": "robust-secret",
   "metadata": {},
   "source": [
    "# 05) Prova de 2011 - Questão 2, itens (a), (b), e (e)."
   ]
  },
  {
   "cell_type": "markdown",
   "id": "fleet-tutorial",
   "metadata": {},
   "source": [
    "## a)"
   ]
  },
  {
   "cell_type": "code",
   "execution_count": 48,
   "id": "assigned-finger",
   "metadata": {},
   "outputs": [
    {
     "name": "stdout",
     "output_type": "stream",
     "text": [
      "Matriz de transição M1(x1 -> x1 novo): \n",
      "[[0.18126925 0.         1.         0.        ]\n",
      " [0.         0.         0.         0.67032005]\n",
      " [0.81873075 0.         0.         0.        ]\n",
      " [0.         1.         0.         0.32967995]]\n",
      "\n",
      "Matriz de transição M2(x2 -> x2 novo): \n",
      "[[0.18126925 1.         0.         0.        ]\n",
      " [0.81873075 0.         0.         0.        ]\n",
      " [0.         0.         0.         0.67032005]\n",
      " [0.         0.         1.         0.32967995]]\n"
     ]
    }
   ],
   "source": [
    "Jx = [0.2, 0.3, 0.3, 0.1]\n",
    "T = 0.5\n",
    "\n",
    "#Possiveis transicoes em M1 (x1 alterado)\n",
    "possiveisX1 = [[0,0,1,0],\n",
    "                [0,0,0,1],\n",
    "                [1,0,0,0],\n",
    "                [0,1,0,0]]\n",
    "#Possiveis transicoes em M2 (x2 alterado)\n",
    "possiveisX2 = [[0,1,0,0],\n",
    "                [1,0,0,0],\n",
    "                [0,0,0,1],\n",
    "                [0,0,1,0]]\n",
    "\n",
    "possiveisX1 = np.array(possiveisX1, dtype=float)\n",
    "possiveisX2 = np.array(possiveisX2, dtype=float)\n",
    "\n",
    "def markov(p, T):\n",
    "    for i in range(0, 4):\n",
    "        boltz = 1\n",
    "        for j in range(0, 4):\n",
    "            if p[j, i] == 1:\n",
    "                if (Jx[j] - Jx[i]) >= 0:\n",
    "                    boltz = np.exp(-(Jx[j] - Jx[i])/T)\n",
    "                p[j, i] = boltz\n",
    "                \n",
    "        p[i, i] = 1 - boltz\n",
    "    return p\n",
    "\n",
    "M1 = markov(possiveisX1, T)\n",
    "M2 = markov(possiveisX2, T)\n",
    "\n",
    "print(\"Matriz de transição M1(x1 -> x1 novo): \")\n",
    "print(M1)\n",
    "print(\"\\nMatriz de transição M2(x2 -> x2 novo): \")\n",
    "print(M2)"
   ]
  },
  {
   "cell_type": "markdown",
   "id": "accessory-convention",
   "metadata": {},
   "source": [
    "# b)"
   ]
  },
  {
   "cell_type": "code",
   "execution_count": 50,
   "id": "available-manual",
   "metadata": {},
   "outputs": [
    {
     "name": "stdout",
     "output_type": "stream",
     "text": [
      "[ 1.00000000e+00 -7.50001843e-01  2.60951044e-01  1.00186375e-48]\n",
      "\n",
      "Vetor de fatores de boltzman: \n",
      "[0.259 0.212 0.212 0.317]\n",
      "\n",
      "Vetor invariante para M1/2 + M2/2: \n",
      "[0.259 0.212 0.212 0.317]\n"
     ]
    }
   ],
   "source": [
    "Jx = [0.2, 0.3, 0.3, 0.1]\n",
    "T = 0.5\n",
    "\n",
    "#Fatores de boltzman\n",
    "boltzman = []\n",
    "\n",
    "for i in range(0,4):\n",
    "    boltzman.append(np.exp(-Jx[i]/T))\n",
    "    \n",
    "#Vetor invariante\n",
    "w, v = LA.eig(M1/2 + M2/2)\n",
    "pi1 = v[:, 0]\n",
    "print(w)\n",
    "\n",
    "print(\"\\nVetor de fatores de boltzman: \")\n",
    "print(np.around(boltzman/np.sum(boltzman), decimals=3))\n",
    "print(\"\\nVetor invariante para M1/2 + M2/2: \")\n",
    "print(np.around(pi1/np.sum(pi1), decimals=3))"
   ]
  },
  {
   "cell_type": "markdown",
   "id": "extended-flood",
   "metadata": {},
   "source": [
    "## e)\n",
    "\n",
    "Para um número suficientemente grande de iterações, as transições serão dadas pelo autovetor invariante de M1 e M2. Como os estasdos com energia 0.3 são os estados 01 e 10, a probabilidade final será a soma da probabilidade desses dois estados:"
   ]
  },
  {
   "cell_type": "code",
   "execution_count": 69,
   "id": "peripheral-capacity",
   "metadata": {},
   "outputs": [
    {
     "name": "stdout",
     "output_type": "stream",
     "text": [
      "Matriz de transição M1/2+M2/2: \n",
      "[[0.63212056 0.5        0.5        0.        ]\n",
      " [0.18393972 0.         0.         0.06766764]\n",
      " [0.18393972 0.         0.         0.06766764]\n",
      " [0.         0.5        0.5        0.86466472]]\n",
      "\n",
      "Vetor de fatores de boltzman: \n",
      "[0.225 0.083 0.083 0.61 ]\n",
      "\n",
      "Vetor invariante para M1/2 + M2/2: \n",
      "[0.225 0.083 0.083 0.61 ]\n",
      "\n",
      "Probabilidade de J=0.3: 16.52 %\n"
     ]
    }
   ],
   "source": [
    "Jx = [0.2, 0.3, 0.3, 0.1]\n",
    "T = 0.1\n",
    "\n",
    "#Possiveis transicoes em M1 (x1 alterado)\n",
    "possiveisX1 = [[0,0,1,0],\n",
    "                [0,0,0,1],\n",
    "                [1,0,0,0],\n",
    "                [0,1,0,0]]\n",
    "#Possiveis transicoes em M2 (x2 alterado)\n",
    "possiveisX2 = [[0,1,0,0],\n",
    "                [1,0,0,0],\n",
    "                [0,0,0,1],\n",
    "                [0,0,1,0]]\n",
    "\n",
    "possiveisX1 = np.array(possiveisX1, dtype=float)\n",
    "possiveisX2 = np.array(possiveisX2, dtype=float)\n",
    "\n",
    "def markov(p, T):\n",
    "    for i in range(0, 4):\n",
    "        boltz = 1\n",
    "        for j in range(0, 4):\n",
    "            if p[j, i] == 1:\n",
    "                if (Jx[j] - Jx[i]) >= 0:\n",
    "                    boltz = np.exp(-(Jx[j] - Jx[i])/T)\n",
    "                p[j, i] = boltz\n",
    "                \n",
    "        p[i, i] = 1 - boltz\n",
    "    return p\n",
    "\n",
    "M1 = markov(possiveisX1, T)\n",
    "M2 = markov(possiveisX2, T)\n",
    "\n",
    "print(\"Matriz de transição M1/2+M2/2: \")\n",
    "print(M1/2 + M2/2)\n",
    "\n",
    "#Fatores de boltzman\n",
    "boltzman = []\n",
    "\n",
    "for i in range(0,4):\n",
    "    boltzman.append(np.exp(-Jx[i]/T))\n",
    "    \n",
    "#Vetor invariante\n",
    "w, v = LA.eig(M1/2 + M2/2)\n",
    "pi1 = v[:, 2]\n",
    "\n",
    "print(\"\\nVetor de fatores de boltzman: \")\n",
    "print(np.around(boltzman/np.sum(boltzman), decimals=3))\n",
    "print(\"\\nVetor invariante para M1/2 + M2/2: \")\n",
    "print(np.around(pi1/np.sum(pi1), decimals=3))\n",
    "print(\"\\nProbabilidade de J=0.3:\", np.around((boltzman[1]+boltzman[2])/np.sum(boltzman)*100, decimals=2), \"%\")"
   ]
  },
  {
   "cell_type": "markdown",
   "id": "bored-hacker",
   "metadata": {},
   "source": [
    "# 06) (Opcional/Desafio) Prova de 2012 - Questão 3."
   ]
  },
  {
   "cell_type": "markdown",
   "id": "assigned-watson",
   "metadata": {},
   "source": [
    "## a)"
   ]
  },
  {
   "cell_type": "code",
   "execution_count": 25,
   "id": "employed-egypt",
   "metadata": {
    "scrolled": true
   },
   "outputs": [
    {
     "data": {
      "image/png": "[encoded data removed]",
      "text/plain": [
       "<Figure size 432x288 with 1 Axes>"
      ]
     },
     "metadata": {
      "needs_background": "light"
     },
     "output_type": "display_data"
    }
   ],
   "source": [
    "import matplotlib.pyplot as plt\n",
    "import numpy as np\n",
    "\n",
    "# Definição do problema\n",
    "posicoes = [[0,0,1],\n",
    "             [1,0,1],\n",
    "             [0,1,1],\n",
    "             [1,1,1],\n",
    "             [0,0,0],\n",
    "             [1,0,0],\n",
    "             [0,1,0],\n",
    "             [1,1,0],\n",
    "            ];\n",
    "\n",
    "posicoes = np.array(posicoes)\n",
    "\n",
    "fig = plt.figure()\n",
    "ax = fig.add_subplot(projection='3d')\n",
    "ax.scatter(posicoes[:, 0], posicoes[:, 1], posicoes[:, 2])\n",
    "plt.show()\n",
    "\n",
    "\n",
    "\n"
   ]
  },
  {
   "cell_type": "code",
   "execution_count": 26,
   "id": "common-stanford",
   "metadata": {
    "scrolled": false
   },
   "outputs": [
    {
     "name": "stderr",
     "output_type": "stream",
     "text": [
      "<ipython-input-26-68487a1d7cdb>:54: RuntimeWarning: overflow encountered in exp\n",
      "  q = np.exp((Jatual-Jit)/T)\n",
      "c:\\users\\victo\\appdata\\local\\programs\\python\\python38\\lib\\site-packages\\numpy\\core\\fromnumeric.py:3419: RuntimeWarning: Mean of empty slice.\n",
      "  return _methods._mean(a, axis=axis, dtype=dtype,\n",
      "c:\\users\\victo\\appdata\\local\\programs\\python\\python38\\lib\\site-packages\\numpy\\core\\_methods.py:188: RuntimeWarning: invalid value encountered in double_scalars\n",
      "  ret = ret.dtype.type(ret / rcount)\n"
     ]
    },
    {
     "name": "stdout",
     "output_type": "stream",
     "text": [
      "Em laranja e azul os cunjuntos e em verde os centroides de cada conjunto:\n"
     ]
    },
    {
     "data": {
      "image/png": "[encoded data removed]",
      "text/plain": [
       "<Figure size 432x288 with 1 Axes>"
      ]
     },
     "metadata": {
      "needs_background": "light"
     },
     "output_type": "display_data"
    },
    {
     "name": "stdout",
     "output_type": "stream",
     "text": [
      "J minimo encontrado:  4.000000000000001\n",
      "Estados minimos encontrados (X):  [0 1 0 1 0 1 1 0]\n"
     ]
    }
   ],
   "source": [
    "import random\n",
    "import math\n",
    "import numpy as np\n",
    "import matplotlib.pyplot as plt\n",
    "\n",
    "x = np.random.randint(2, size=8)\n",
    "xhat = x\n",
    "N = 100\n",
    "xmin = x\n",
    "Xs = []\n",
    "Jatual = 1e6\n",
    "Jmin = Jatual\n",
    "Js = []\n",
    "n = 0\n",
    "\n",
    "T0 = 1\n",
    "T = T0\n",
    "Ts = []\n",
    "Kmax = 10\n",
    "k = 1\n",
    "\n",
    "# Centroide\n",
    "\n",
    "def centroides(x):\n",
    "    a = posicoes[x == 0, :]\n",
    "    b = posicoes[x == 1, :]\n",
    "    return np.array([[np.mean(a[:, 0]), np.mean(a[:, 1]), np.mean(a[:, 2])], [np.mean(b[:, 0]), np.mean(b[:, 1]), np.mean(b[:, 2])]])\n",
    "    \n",
    "# Custo\n",
    "def J(x):\n",
    "    c = centroides(x)\n",
    "    \n",
    "    erro = 0\n",
    "    \n",
    "    for i in range(0,8):\n",
    "        erro += np.linalg.norm(posicoes[i, :]-c[x[i]])**2\n",
    "        \n",
    "    return erro\n",
    "    \n",
    "# Simulated Annealing simples\n",
    "\n",
    "\n",
    "\n",
    "while k < Kmax:\n",
    "    n += 1\n",
    "    \n",
    "    xhat = x\n",
    "    rint = random.randint(0, 7)\n",
    "        \n",
    "    xhat[rint] = (1 - xhat[rint])\n",
    "    \n",
    "    Jit = J(xhat)\n",
    "    \n",
    "    q = np.exp((Jatual-Jit)/T)\n",
    "    r = random.uniform(0, 1)\n",
    "    \n",
    "    if r < q:\n",
    "        x = xhat\n",
    "        Jatual = Jit\n",
    "        \n",
    "    \n",
    "    if Jit < Jmin:\n",
    "        Jmin = Jit\n",
    "        xmin = xhat   \n",
    "             \n",
    "    if n % N == 0:\n",
    "        k += 1\n",
    "        T = T0/(np.log2(1 + k))\n",
    "\n",
    "    Js.append(Jit)\n",
    "    Ts.append(T)\n",
    "    Xs.append(xhat.dot(2**np.arange(xhat.size)[::-1]))\n",
    "\n",
    "print(\"Em laranja e azul os cunjuntos e em verde os centroides de cada conjunto:\")    \n",
    "\n",
    "fig = plt.figure()\n",
    "ax = fig.add_subplot(projection='3d')\n",
    "ax.scatter(posicoes[xmin == 0, 0], posicoes[xmin == 0, 1], posicoes[xmin == 0, 2])\n",
    "ax.scatter(posicoes[xmin == 1, 0], posicoes[xmin == 1, 1], posicoes[xmin == 1, 2])\n",
    "cent = centroides(xmin)\n",
    "ax.scatter(cent[:, 0], cent[:, 1], cent[:, 2])\n",
    "plt.show()\n",
    "\n",
    "print(\"J minimo encontrado: \", Jmin)\n",
    "print(\"Estados minimos encontrados (X): \", xmin)\n",
    "\n"
   ]
  },
  {
   "cell_type": "code",
   "execution_count": 23,
   "id": "institutional-personal",
   "metadata": {},
   "outputs": [
    {
     "data": {
      "image/png": "[encoded data removed]",
      "text/plain": [
       "<Figure size 432x288 with 3 Axes>"
      ]
     },
     "metadata": {
      "needs_background": "light"
     },
     "output_type": "display_data"
    }
   ],
   "source": [
    "fig, axs = plt.subplots(3)\n",
    "axs[0].plot(Js)\n",
    "axs[1].plot(Xs)\n",
    "axs[2].plot(Ts)\n",
    "plt.show()"
   ]
  },
  {
   "cell_type": "markdown",
   "id": "architectural-england",
   "metadata": {},
   "source": [
    "## b)\n",
    "\n",
    "A probabilidade de transição vai ser dada por:\n",
    "\n",
    "$$p(sortear indice)\\times e^{(-\\frac{J(xhat) - J(x)}{T})}$$\n",
    "\n",
    "Para ambos os casos: \n",
    "\n",
    "$$p(sortear indice) = 1/8$$\n",
    "\n",
    "Calculando as energias:"
   ]
  },
  {
   "cell_type": "code",
   "execution_count": 24,
   "id": "applicable-greensboro",
   "metadata": {},
   "outputs": [
    {
     "name": "stdout",
     "output_type": "stream",
     "text": [
      "Probabilidade de transição:  12.09%\n",
      "Probabilidade de transição:  21.31%\n"
     ]
    }
   ],
   "source": [
    "# Primeiro caso:\n",
    "\n",
    "Jx = J(np.array([1,1,1,0,1,0,0,0]))\n",
    "Jxhat = J(np.array([1,1,1,0,0,0,0,0]))\n",
    "\n",
    "print(\"Probabilidade de transição: \", \"{0:.2%}\".format(np.exp(Jx - Jxhat)/8))\n",
    "\n",
    "# Segundo caso:\n",
    "\n",
    "Jx = J(np.array([1,1,1,0,0,0,0,0]))\n",
    "Jxhat = J(np.array([1,1,1,1,0,0,0,0]))\n",
    "\n",
    "print(\"Probabilidade de transição: \", \"{0:.2%}\".format(np.exp(Jx - Jxhat)/8))"
   ]
  },
  {
   "cell_type": "markdown",
   "id": "cubic-minority",
   "metadata": {},
   "source": [
    "# 07) Prova de 2016 - Questão 2."
   ]
  },
  {
   "cell_type": "markdown",
   "id": "historic-native",
   "metadata": {},
   "source": [
    "# a)\n",
    "\n",
    "Observando a primera coluna da matriz M1, a probabilidade de uma transição 00 -> 10 é $e^{-(J(10) - J(00))}$. Logo:\n",
    "\n",
    "$$p(10|00) = 1/3 = e^{-(J(10) - J(00))}$$\n",
    "$$\\ln(1/3) = \\ln(e^{-(J(10) - J(00))})$$\n",
    "$$\\ln(1/3) = -J(10) + J(00)$$\n",
    "$$\\ln(1/3) = -J(10) + 1$$\n",
    "$$J(10) =  1 - \\ln(1/3)$$\n",
    "\n",
    "Um processo análogo pode ser realizado para as demais funções custo:\n",
    "    "
   ]
  },
  {
   "cell_type": "code",
   "execution_count": 38,
   "id": "forbidden-ambassador",
   "metadata": {
    "scrolled": true
   },
   "outputs": [
    {
     "name": "stdout",
     "output_type": "stream",
     "text": [
      "Matriz contendo os custos J[x1, x2]:\n",
      "[[1.         2.09861229]\n",
      " [2.09861229 3.19722458]]\n"
     ]
    }
   ],
   "source": [
    "J = np.zeros((2,2))\n",
    "J[0,0] = 1\n",
    "\n",
    "#M1 coluna 1\n",
    "p1000 = np.log(1/3)\n",
    "J[1,0] = J[0,0]-p1000\n",
    "\n",
    "#M2 coluna 4\n",
    "p1110 = np.log(1/3)\n",
    "J[1,1] = J[1,0]-p1110\n",
    "\n",
    "#M1 coluna 2\n",
    "p1101 = np.log(1/3)\n",
    "J[0,1] = J[1,1]+p1101\n",
    "\n",
    "print(\"Matriz contendo os custos J[x1, x2]:\")\n",
    "print(J)"
   ]
  },
  {
   "cell_type": "markdown",
   "id": "knowing-checkout",
   "metadata": {},
   "source": [
    "## b)"
   ]
  },
  {
   "cell_type": "code",
   "execution_count": 86,
   "id": "characteristic-spectacular",
   "metadata": {},
   "outputs": [
    {
     "name": "stdout",
     "output_type": "stream",
     "text": [
      "Matriz M:\n",
      "[[0.66666667 0.5        0.         0.5       ]\n",
      " [0.16666667 0.33333333 0.5        0.        ]\n",
      " [0.         0.16666667 0.         0.16666667]\n",
      " [0.16666667 0.         0.5        0.33333333]]\n"
     ]
    }
   ],
   "source": [
    "M1 = [[2/3, 0, 0, 1],\n",
    "     [0, 2/3, 1, 0],\n",
    "     [0, 1/3, 0, 0],\n",
    "     [1/3, 0, 0, 0]]\n",
    "\n",
    "M2 = [[2/3, 1, 0, 0],\n",
    "     [1/3, 0, 0, 0],\n",
    "     [0, 0, 0, 1/3],\n",
    "     [0, 0, 1, 2/3]]\n",
    "\n",
    "M1 = np.array(M1)\n",
    "M2 = np.array(M2)\n",
    "\n",
    "M = M1*1/2 + M2*1/2\n",
    "\n",
    "print(\"Matriz M:\")\n",
    "print(M)"
   ]
  },
  {
   "cell_type": "markdown",
   "id": "foreign-patrol",
   "metadata": {},
   "source": [
    "## c)"
   ]
  },
  {
   "cell_type": "code",
   "execution_count": 94,
   "id": "minimal-faculty",
   "metadata": {
    "scrolled": true
   },
   "outputs": [
    {
     "name": "stdout",
     "output_type": "stream",
     "text": [
      "[ 1.          0.33333333 -0.33333333  0.33333333]\n",
      "\n",
      "Vetor invariante de M:\n",
      "[0.5625 0.1875 0.0625 0.1875]\n",
      "\n",
      "Fatores de Boltzman\n",
      "[0.5625 0.1875 0.0625 0.1875]\n",
      "\n",
      "Multiplicação com M1: \n",
      " [0.5625 0.1875 0.0625 0.1875]\n",
      "\n",
      "Multiplicação com M2: \n",
      " [0.5625 0.1875 0.0625 0.1875]\n"
     ]
    }
   ],
   "source": [
    "w, v = LA.eig(M)\n",
    "pi = v[:, 0]\n",
    "print(w)\n",
    "\n",
    "print(\"\\nVetor invariante de M:\")\n",
    "print(pi/np.sum(pi))\n",
    "\n",
    "boltz = np.exp([3.19722458, 2.09861229, 1 ,  2.09861229])\n",
    "\n",
    "print(\"\\nFatores de Boltzman\")\n",
    "print(boltz/np.sum(boltz))\n",
    "print(\"\\nMultiplicação com M1: \\n\", M1 @ pi/np.sum(pi))\n",
    "print(\"\\nMultiplicação com M2: \\n\", M2 @ pi/np.sum(pi))"
   ]
  },
  {
   "cell_type": "markdown",
   "id": "stone-cameroon",
   "metadata": {},
   "source": [
    "# 08) Prova de 2016 - Questão 3."
   ]
  },
  {
   "cell_type": "markdown",
   "id": "daily-format",
   "metadata": {},
   "source": [
    "## a)"
   ]
  },
  {
   "cell_type": "code",
   "execution_count": 28,
   "id": "deluxe-resident",
   "metadata": {},
   "outputs": [
    {
     "name": "stderr",
     "output_type": "stream",
     "text": [
      "<ipython-input-28-8eb25bba9002>:39: RuntimeWarning: overflow encountered in exp\n",
      "  q = np.exp((Jatual-Jit)/T)\n"
     ]
    },
    {
     "data": {
      "image/png": "[encoded data removed]",
      "text/plain": [
       "<Figure size 432x288 with 3 Axes>"
      ]
     },
     "metadata": {
      "needs_background": "light"
     },
     "output_type": "display_data"
    },
    {
     "name": "stdout",
     "output_type": "stream",
     "text": [
      "J minimo encontrado:  1\n",
      "Estados minimos encontrados (X):  2\n"
     ]
    }
   ],
   "source": [
    "import random\n",
    "import math\n",
    "import numpy as np\n",
    "import matplotlib.pyplot as plt\n",
    "\n",
    "x = 0\n",
    "xhat = 0\n",
    "N = 100\n",
    "xmin = x\n",
    "Xs = []\n",
    "Jatual = 1e6\n",
    "Jmin = Jatual\n",
    "Js = []\n",
    "n = 0\n",
    "\n",
    "T0 = 1\n",
    "T = T0\n",
    "Ts = []\n",
    "Kmax = 10\n",
    "k = 1\n",
    "\n",
    "# Simulated Annealing simples\n",
    "\n",
    "def J(x):\n",
    "    Jx = [7, 1, 10, 4]\n",
    "    return Jx[x]\n",
    "\n",
    "while k < Kmax:\n",
    "    n += 1\n",
    "    \n",
    "    xhat = x + random.randint(-1, 1)\n",
    "    if xhat > 3:\n",
    "        xhat = 0\n",
    "    elif xhat < 0:\n",
    "        xhat = 3\n",
    "        \n",
    "    Jit = J(xhat)\n",
    "    \n",
    "    q = np.exp((Jatual-Jit)/T)\n",
    "    r = random.uniform(0, 1)\n",
    "    \n",
    "    if r < q:\n",
    "        x = xhat\n",
    "        Jatual = Jit\n",
    "        \n",
    "    \n",
    "    if Jit < Jmin:\n",
    "        Jmin = Jit\n",
    "        xmin = xhat   \n",
    "             \n",
    "    if n % N == 0:\n",
    "        k += 1\n",
    "#         print(k/Kmax*100)\n",
    "        T = T0/(np.log2(1 + k))\n",
    "\n",
    "    Js.append(Jit)\n",
    "    Ts.append(T)\n",
    "    Xs.append(xhat)\n",
    "\n",
    "fig, axs = plt.subplots(3)\n",
    "axs[0].plot(Js)\n",
    "axs[1].plot(Xs)\n",
    "axs[2].plot(Ts)\n",
    "plt.show()\n",
    "print(\"J minimo encontrado: \", Jmin)\n",
    "print(\"Estados minimos encontrados (X): \", xmin+1)"
   ]
  },
  {
   "cell_type": "markdown",
   "id": "surprising-scoop",
   "metadata": {},
   "source": [
    "## b)"
   ]
  },
  {
   "cell_type": "code",
   "execution_count": 99,
   "id": "conceptual-woman",
   "metadata": {
    "scrolled": true
   },
   "outputs": [
    {
     "name": "stdout",
     "output_type": "stream",
     "text": [
      "\n",
      "triz de transição M(T=10): \n",
      "[[0.08639393 0.18293721 0.33333333 0.24693941]\n",
      " [0.33333333 0.43460016 0.33333333 0.33333333]\n",
      " [0.24693941 0.13552322 0.         0.18293721]\n",
      " [0.33333333 0.24693941 0.33333333 0.23679005]]\n",
      "\n",
      "triz de transição M(T=5): \n",
      "[[0.15039612 0.10039807 0.33333333 0.18293721]\n",
      " [0.33333333 0.66156509 0.33333333 0.33333333]\n",
      " [0.18293721 0.05509963 0.         0.10039807]\n",
      " [0.33333333 0.18293721 0.33333333 0.38333138]]\n",
      "[ 1.          0.10126683 -0.24693941 -0.09654329]\n",
      "[ 1.          0.32823175 -0.18293721  0.04999805]\n",
      "\n",
      "Vetor invariante para M(T=10): \n",
      "[0.20355008 0.37089243 0.15079361 0.27476387]\n",
      "\n",
      "Vetor invariante para M(T=5): \n",
      "[0.14945343 0.49620287 0.08202178 0.27232191]\n"
     ]
    }
   ],
   "source": [
    "import numpy as np\n",
    "from numpy import linalg as LA\n",
    "\n",
    "Jx = [7, 1, 10, 4]\n",
    "tamanho = len(Jx)\n",
    "    \n",
    "#Calculo da matriz de transição\n",
    "def geraMatriz(T):\n",
    "    M = []\n",
    "    for i in range(0, tamanho):\n",
    "        m = []\n",
    "        for j in range(0, tamanho):\n",
    "            if j != i:\n",
    "                dJ = Jx[i] - Jx[j]\n",
    "                \n",
    "                if dJ < 0:\n",
    "                    m.append(1/3)\n",
    "                else:\n",
    "                    m.append(np.exp(-(Jx[i] - Jx[j])/T)*1/3)\n",
    "            else:\n",
    "                m.append(0)\n",
    "        M.append(m)\n",
    "        \n",
    "    M = np.array(M)\n",
    "    \n",
    "    for i in range(0,tamanho):\n",
    "        M[i, i] = 1- np.sum(M[np.arange(0, tamanho) != i, i])\n",
    "    \n",
    "    return M\n",
    "\n",
    "#Primeira matriz de transição\n",
    "\n",
    "M1 = geraMatriz(10)\n",
    "    \n",
    "print(\"\\ntriz de transição M(T=10): \")\n",
    "print(M1)\n",
    "\n",
    "\n",
    "#Segunda matriz de transição\n",
    "\n",
    "M2 = geraMatriz(5)\n",
    "    \n",
    "print(\"\\ntriz de transição M(T=5): \")\n",
    "print(M2)\n",
    "\n",
    "#Vetores invariantes\n",
    "w, v = LA.eig(M1)\n",
    "pi1 = v[:, 0]\n",
    "\n",
    "\n",
    "w, v = LA.eig(M2)\n",
    "pi2 = v[:, 0]\n",
    "\n",
    "\n",
    "print(\"\\nVetor invariante para M(T=10): \")\n",
    "print(pi1/np.sum(pi1))\n",
    "print(\"\\nVetor invariante para M(T=5): \")\n",
    "print(pi2/np.sum(pi2))"
   ]
  },
  {
   "cell_type": "markdown",
   "id": "massive-ambassador",
   "metadata": {},
   "source": [
    "## c)\n",
    "\n",
    "Temos que a probabilidade de transição de um estado de energia $J_1$ para outro de energia $J_2$ ser aceita é:\n",
    "\n",
    "$$e^{\\frac{-(J_2 - J_1)}{T}}$$\n",
    "\n",
    "A menor probabilidade ocorre quando $J_1$ é mínimo e $J_2$ é máximo, de modo que o argumento da exponencial seja o menor (mais negativo) possível. Seja N o número de estados possíveis. A chance de um estado ser selecionado como candidato é:\n",
    "\n",
    "$$\\frac{1}{N - 1}$$\n",
    "\n",
    "Logo, a menor probabilidade é:\n",
    "\n",
    "$$\\frac{e^{\\frac{-(J_{max} - J_{min})}{T}}}{N - 1}$$"
   ]
  },
  {
   "cell_type": "markdown",
   "id": "medieval-wagon",
   "metadata": {},
   "source": [
    "# 9) Prova de 2017 - Questão 3, itens (b) e (c)."
   ]
  },
  {
   "cell_type": "markdown",
   "id": "bacterial-cologne",
   "metadata": {},
   "source": [
    "## b) e c)"
   ]
  },
  {
   "cell_type": "code",
   "execution_count": 30,
   "id": "cooked-stroke",
   "metadata": {
    "scrolled": true
   },
   "outputs": [
    {
     "name": "stdout",
     "output_type": "stream",
     "text": [
      "Matriz de transição M(T=10): \n",
      "[[0.     0.0625 0.     0.     0.5   ]\n",
      " [0.5    0.8125 0.5    0.     0.    ]\n",
      " [0.     0.125  0.     0.25   0.    ]\n",
      " [0.     0.     0.5    0.625  0.5   ]\n",
      " [0.5    0.     0.     0.125  0.    ]]\n",
      "Matriz de transição M(T=5): \n",
      "[[0.         0.01851852 0.         0.         0.5       ]\n",
      " [0.5        0.92592593 0.5        0.         0.        ]\n",
      " [0.         0.05555556 0.         0.16666667 0.        ]\n",
      " [0.         0.         0.5        0.77777778 0.5       ]\n",
      " [0.5        0.         0.         0.05555556 0.        ]]\n",
      "\n",
      "Vetor invariante para M(T=10): \n",
      "[0.0625 0.5    0.125  0.25   0.0625]\n",
      "\n",
      "Vetor invariante para M(T=5): \n",
      "[0.02439024 0.65853659 0.07317073 0.2195122  0.02439024]\n"
     ]
    }
   ],
   "source": [
    "import numpy as np\n",
    "from numpy import linalg as LA\n",
    "\n",
    "Jx = [4, 1, 3, 2, 4]\n",
    "tamanho = len(Jx)\n",
    "\n",
    "# Restorna se x é uma unidade maior ou menor que y para um tamanho maximo t\n",
    "# Se x = 0, seus vizinhos sao 1 e t\n",
    "# Se x = t, seus viznhos sao t-1 e 0\n",
    "# Caso contrario, seus vizinhos sao x-1 e x+1\n",
    "def vizinhos(x, y, t):\n",
    "    if x == 0:\n",
    "        return y == 1 or y == t\n",
    "    if x == t:\n",
    "        return y == 0 or y == t-1\n",
    "    \n",
    "    return y == x+1 or y == x-1\n",
    "    \n",
    "\n",
    "#Calculo da matriz de transição\n",
    "def geraMatriz(T):\n",
    "    M = []\n",
    "    for i in range(0, tamanho):\n",
    "        m = []\n",
    "        for j in range(0, tamanho):\n",
    "            if vizinhos(i, j, tamanho-1):\n",
    "                dJ = Jx[i] - Jx[j]\n",
    "                \n",
    "                if dJ < 0:\n",
    "                    m.append(1/2)\n",
    "                else:\n",
    "                    m.append(np.exp(-(Jx[i] - Jx[j])/T)*1/2)\n",
    "            else:\n",
    "                m.append(0)\n",
    "        M.append(m)\n",
    "        \n",
    "    M = np.array(M)\n",
    "    \n",
    "    for i in range(0,tamanho):\n",
    "        M[i, i] = 1- np.sum(M[np.arange(0, tamanho) != i, i])\n",
    "    \n",
    "    return M\n",
    "\n",
    "#Primeira matriz de transição\n",
    "\n",
    "M1 = geraMatriz(1/np.log(2))\n",
    "    \n",
    "print(\"Matriz de transição M(T=10): \")\n",
    "print(M1)\n",
    "\n",
    "\n",
    "#Segunda matriz de transição\n",
    "\n",
    "M2 = geraMatriz(1/np.log(3))\n",
    "    \n",
    "print(\"Matriz de transição M(T=5): \")\n",
    "print(M2)\n",
    "\n",
    "#Vetores invariantes\n",
    "w, v = LA.eig(M1)\n",
    "pi1 = v[:, 3]\n",
    "\n",
    "\n",
    "w, v = LA.eig(M2)\n",
    "pi2 = v[:, 3]\n",
    "\n",
    "\n",
    "print(\"\\nVetor invariante para M(T=10): \")\n",
    "print(pi1/np.sum(pi1))\n",
    "print(\"\\nVetor invariante para M(T=5): \")\n",
    "print(pi2/np.sum(pi2))"
   ]
  },
  {
   "cell_type": "markdown",
   "id": "otherwise-spider",
   "metadata": {},
   "source": [
    "# 10) Prova de 2018 - Questão 3."
   ]
  },
  {
   "cell_type": "markdown",
   "id": "built-checkout",
   "metadata": {},
   "source": [
    "# a)\n",
    "\n",
    "Seja x1 -> x2 uma transição do estado de índice x1 para o estado de índice x2. Observando a primera coluna da matriz M, a probabilidade de uma transição 1 -> 2 é $1/2e^{(-(J(2) - J(1)))/T}$. Logo:\n",
    "\n",
    "$$p(2|1) = 1/2(e^{-2}) = 1/2e^{-(J(2) - J(1))}$$\n",
    "$$e^{-2} = e^{-(J(2) - J(1))/T}$$\n",
    "$$\\ln(e^{-2}) = \\ln(e^{-(J(2) - J(1))/T})$$\n",
    "$$-2 = (-J(2) + J(1))/T$$\n",
    "$$-2T = -J(2) + 0.2$$\n",
    "$$J(2) =  0.4$$\n",
    "\n",
    "Um processo análogo pode ser realizado para as demais funções custo:"
   ]
  },
  {
   "cell_type": "code",
   "execution_count": 31,
   "id": "structured-metro",
   "metadata": {},
   "outputs": [
    {
     "name": "stdout",
     "output_type": "stream",
     "text": [
      "Energias de cada estado: \n",
      "[[0.2]\n",
      " [0.4]\n",
      " [0.3]\n",
      " [0.1]\n",
      " [0.2]]\n"
     ]
    }
   ],
   "source": [
    "M = [[1/2*(1-np.exp(-2)), 1/2, 0, 0, 1/2],\n",
    "    [1/2*np.exp(-2), 0, 1/2*np.exp(-1), 0, 0],\n",
    "    [0, 1/2, 1/2*(1 - np.exp(-1)), 1/2*np.exp(-2), 0],\n",
    "    [0, 0, 1/2, 1/2*(2-np.exp(-1)-np.exp(-2)), 1/2],\n",
    "    [1/2, 0, 0, 1/2*np.exp(-1), 0]]\n",
    "\n",
    "J = np.zeros((5,1))\n",
    "T = 0.1\n",
    "J[0] = 0.2\n",
    "\n",
    "#Coluna 1\n",
    "p21 = np.exp(-2)\n",
    "J[1] = J[0]-np.log(p21)*T\n",
    "\n",
    "#Coluna 3\n",
    "p23 = np.exp(-1)\n",
    "J[2] = J[1] + np.log(p23)*T\n",
    "\n",
    "#Coluna 4\n",
    "p34 = np.exp(-2)\n",
    "J[3] = J[2] + np.log(p34)*T\n",
    "\n",
    "#Coluna 4\n",
    "p54 = np.exp(-1)\n",
    "J[4] = J[3] - np.log(p54)*T\n",
    "\n",
    "\n",
    "print(\"Energias de cada estado: \")\n",
    "print(J)"
   ]
  },
  {
   "cell_type": "markdown",
   "id": "congressional-saying",
   "metadata": {},
   "source": [
    "## b)"
   ]
  },
  {
   "cell_type": "code",
   "execution_count": 32,
   "id": "turned-israeli",
   "metadata": {
    "scrolled": true
   },
   "outputs": [
    {
     "name": "stdout",
     "output_type": "stream",
     "text": [
      "\n",
      "Vetor invariante para M(T=0.1): \n",
      "[0.19151597 0.02591887 0.07045479 0.52059439 0.19151597]\n"
     ]
    }
   ],
   "source": [
    "#Vetores invariantes\n",
    "w, v = LA.eig(M)\n",
    "pi1 = v[:, 1]\n",
    "print(\"\\nVetor invariante para M(T=0.1): \")\n",
    "print(pi1/np.sum(pi1))"
   ]
  },
  {
   "cell_type": "markdown",
   "id": "divine-uncle",
   "metadata": {},
   "source": [
    "## c)\n",
    "\n",
    "Temos que a probabilidade de transição de um estado de energia $J_1$ para outro de energia $J_2$ ser aceita é:\n",
    "\n",
    "$$e^{\\frac{-(J_2 - J_1)}{T}}$$\n",
    "\n",
    "A menor probabilidade ocorre quando $J_1$ é mínimo e $J_2$ é máximo, de modo que o argumento da exponencial seja o menor (mais negativo) possível. Seja N o número de transicoes possíveis. A chance de um estado ser selecionado como candidato é:\n",
    "\n",
    "$$\\frac{1}{N}$$\n",
    "\n",
    "Logo, a menor probabilidade é:\n",
    "\n",
    "$$\\frac{e^{\\frac{-(J_{max} - J_{min})}{T}}}{N}$$\n",
    "\n",
    "Para T = $T_0/log_24$ :"
   ]
  },
  {
   "cell_type": "code",
   "execution_count": 33,
   "id": "speaking-windows",
   "metadata": {},
   "outputs": [
    {
     "name": "stdout",
     "output_type": "stream",
     "text": [
      "Probabildiade minima:\n",
      "0.9157819444367089 %\n"
     ]
    }
   ],
   "source": [
    "print(\"Probabildiade minima:\")\n",
    "\n",
    "T = 0.1/np.log2(4)\n",
    "jmax = 0.4\n",
    "jmin = 0.2\n",
    "\n",
    "print(np.exp(-(jmax - jmin)/T)*1/2*100, \"%\")"
   ]
  }
 ],
 "metadata": {
  "kernelspec": {
   "display_name": "Python 3",
   "language": "python",
   "name": "python3"
  },
  "language_info": {
   "codemirror_mode": {
    "name": "ipython",
    "version": 3
   },
   "file_extension": ".py",
   "mimetype": "text/x-python",
   "name": "python",
   "nbconvert_exporter": "python",
   "pygments_lexer": "ipython3",
   "version": "3.8.7"
  }
 },
 "nbformat": 4,
 "nbformat_minor": 5
}
