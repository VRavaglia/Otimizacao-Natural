{
 "cells": [
  {
   "cell_type": "markdown",
   "id": "regulated-anxiety",
   "metadata": {},
   "source": [
    "Lista de Exercícios 3\n",
    "\n",
    "01) Prova de 2012 - Questão 4;\n",
    "\n",
    "02) Prova de 2017 - Questão 4;\n",
    "\n",
    "03) Proponha uma função J ( x ), sendo x um vetor com 20 dimensões, cujo ponto mínimo você conheça. Evite propor funções que tenham um só ponto mínimo. Encontre o ponto mínimo global utilizando S.A. Entregue o código utilizado e alguns comentários sobre o resultado obtido;\n",
    "\n",
    "04) Questão extra (opcional): Prova de 2009 - Questão 4."
   ]
  },
  {
   "cell_type": "markdown",
   "id": "warming-payment",
   "metadata": {},
   "source": [
    "# 01) Prova de 2012 - Questão 4;"
   ]
  },
  {
   "cell_type": "markdown",
   "id": "lasting-valve",
   "metadata": {},
   "source": [
    "## a) e b)"
   ]
  },
  {
   "cell_type": "markdown",
   "id": "given-virus",
   "metadata": {},
   "source": [
    "Matrizes $P_{x|y}$ para $T = 10$ e $T = 0.1$:"
   ]
  },
  {
   "cell_type": "code",
   "execution_count": 39,
   "id": "overhead-router",
   "metadata": {},
   "outputs": [
    {
     "name": "stdout",
     "output_type": "stream",
     "text": [
      "Matriz Px|y - T=10: \n",
      " [[0.01657268 0.01657268 0.00673795 0.01657268 0.01657268]\n",
      " [0.082085   0.082085   0.0407622  0.00224287 0.00224287]\n",
      " [0.00224287 0.00224287 0.00074659 0.082085   0.082085  ]]\n",
      "\n",
      "Matriz Px|y - T=0.1: \n",
      " [[8.69485652e-179 8.69485652e-179 7.12457641e-218 8.69485652e-179\n",
      "  8.69485652e-179]\n",
      " [2.66919022e-109 2.66919022e-109 1.06112315e-139 1.20327817e-265\n",
      "  1.20327817e-265]\n",
      " [1.20327817e-265 1.20327817e-265 2.03223080e-313 2.66919022e-109\n",
      "  2.66919022e-109]]\n"
     ]
    }
   ],
   "source": [
    "import numpy as np\n",
    "\n",
    "P=5; NC=3;\n",
    "cluster_centers = np.transpose(np.array([[0,0],[1, 1],[-1, -1]]))\n",
    "\n",
    "data_vectors= np.transpose(np.array([[5,4],[4, 5],[5, 5],[-5, -4],[-4, -5]]))\n",
    "\n",
    "X=data_vectors; M,N=np.shape(X); K=NC; Y=cluster_centers;\n",
    "d=np.zeros([K,N])\n",
    "p_ygivenx=np.zeros([K,N])\n",
    "T = 10\n",
    "\n",
    "for n in range(0,N):\n",
    "        for k in range(0,K):\n",
    "            d[k,n]=np.sum(np.power(X[:,n]-Y[:,k],2))\n",
    "            p_ygivenx[k,n]=np.exp(-d[k,n]/T)\n",
    "            \n",
    "print(\"Matriz Px|y - T=10: \\n\", p_ygivenx)\n",
    "\n",
    "P=5; NC=3;\n",
    "cluster_centers = np.transpose(np.array([[0,0],[1, 1],[-1, -1]]))\n",
    "\n",
    "data_vectors= np.transpose(np.array([[5,4],[4, 5],[5, 5],[-5, -4],[-4, -5]]))\n",
    "\n",
    "X=data_vectors; M,N=np.shape(X); K=NC; Y=cluster_centers;\n",
    "d=np.zeros([K,N])\n",
    "p_ygivenx=np.zeros([K,N])\n",
    "T = 0.1\n",
    "\n",
    "for n in range(0,N):\n",
    "        for k in range(0,K):\n",
    "            d[k,n]=np.sum(np.power(X[:,n]-Y[:,k],2))\n",
    "            p_ygivenx[k,n]=np.exp(-d[k,n]/T)\n",
    "            \n",
    "print(\"\\nMatriz Px|y - T=0.1: \\n\", p_ygivenx)"
   ]
  },
  {
   "cell_type": "markdown",
   "id": "fatal-carol",
   "metadata": {},
   "source": [
    "Implementação do DA"
   ]
  },
  {
   "cell_type": "code",
   "execution_count": 24,
   "id": "fatal-journalist",
   "metadata": {},
   "outputs": [],
   "source": [
    "import numpy as np\n",
    "import matplotlib.pyplot as plt\n",
    "import datetime\n",
    "from scipy.spatial import Voronoi, voronoi_plot_2d\n",
    "\n",
    "# Data\n",
    "\n",
    "np.random.seed(1); P=5; NC=3;\n",
    "cluster_centers = np.transpose(np.array([[0,0],[1, 1],[-1, -1]]))\n",
    "\n",
    "data_vectors= np.transpose(np.array([[5,4],[4, 5],[5, 5],[-5, -4],[-4, -5]]))\n",
    "    "
   ]
  },
  {
   "cell_type": "code",
   "execution_count": 25,
   "id": "pacific-martial",
   "metadata": {},
   "outputs": [],
   "source": [
    "\n",
    "# Main Loop\n",
    "\n",
    "X=data_vectors; M,N=np.shape(X); K=NC; Y=cluster_centers; \n",
    "T=10; alpha=0.9; i=0; fim=0; epsilon=1e-6; delta=1e-3;\n",
    "d=np.zeros([K,N])\n",
    "p_ygivenx=np.zeros([K,N])\n",
    "I=200\n",
    "J=np.zeros(I)\n",
    "D=np.zeros(I)\n",
    "LocalT=np.zeros(I)\n",
    " \n",
    "while not(fim):\n",
    "\n",
    "    # Partition Condition\n",
    "    for n in range(0,N):\n",
    "        for k in range(0,K):\n",
    "            d[k,n]=np.sum(np.power(X[:,n]-Y[:,k],2))\n",
    "            p_ygivenx[k,n]=np.exp(-d[k,n]/T)\n",
    "    Zx=np.sum(p_ygivenx,axis=0)   \n",
    "    p_ygivenx=p_ygivenx/np.tile(Zx,(K,1))\n",
    "\n",
    "    # Centroid Condition\n",
    "    Y=np.zeros([M,K])\n",
    "    for k in range(0,K):\n",
    "        y=np.zeros(M)\n",
    "        w=0\n",
    "        for n in range(0,N):\n",
    "            y+=p_ygivenx[k,n]*X[:,n]\n",
    "            w+=p_ygivenx[k,n]\n",
    "        Y[:,k]=y/w\n",
    "        \n",
    "    # Cost Function and Loop Control\n",
    "    J[i]=-T/N*np.sum(np.log(Zx))\n",
    "    D[i]=np.mean(np.sum(p_ygivenx*d,axis=0))\n",
    "    LocalT[i]=T\n",
    "    if (i>0):\n",
    "        if abs(J[i]-J[i-1])/abs(J[i-1])<delta:\n",
    "            T=alpha*T\n",
    "            Y=Y+epsilon*np.random.normal(0,1,np.shape(Y))\n",
    "#     print([i,J[i],D[i],LocalT[i]])   \n",
    "    i+=1\n",
    "    if (T<0.1)or(i==I): fim=1\n",
    "\n"
   ]
  },
  {
   "cell_type": "code",
   "execution_count": 30,
   "id": "electrical-irish",
   "metadata": {
    "scrolled": true
   },
   "outputs": [
    {
     "data": {
      "image/png": "[encoded data removed]",
      "text/plain": [
       "<Figure size 432x288 with 1 Axes>"
      ]
     },
     "metadata": {
      "needs_background": "light"
     },
     "output_type": "display_data"
    },
    {
     "data": {
      "image/png": "[encoded data removed]",
      "text/plain": [
       "<Figure size 432x288 with 1 Axes>"
      ]
     },
     "metadata": {
      "needs_background": "light"
     },
     "output_type": "display_data"
    }
   ],
   "source": [
    "plt.rc('font',size=16,weight='bold')\n",
    "\n",
    "plt.figure()\n",
    "plt.plot(-J,'r-',D,'k-',LocalT,'b-')\n",
    "plt.grid()\n",
    "\n",
    "vor=Voronoi(Y.T)\n",
    "fig=voronoi_plot_2d(vor)\n",
    "plt.plot(data_vectors[0,:],data_vectors[1,:],'k.')\n",
    "plt.plot(Y[0,:],Y[1,:],'r.',markersize=20)\n",
    "plt.grid()\n",
    "plt.show() "
   ]
  },
  {
   "cell_type": "code",
   "execution_count": 27,
   "id": "resident-philadelphia",
   "metadata": {},
   "outputs": [
    {
     "data": {
      "text/plain": [
       "array([[ 4.99999755,  4.29756684, -4.49999989],\n",
       "       [ 4.36563704,  4.99999806, -4.50000037]])"
      ]
     },
     "execution_count": 27,
     "metadata": {},
     "output_type": "execute_result"
    }
   ],
   "source": [
    "Y"
   ]
  },
  {
   "cell_type": "markdown",
   "id": "metallic-emphasis",
   "metadata": {},
   "source": [
    "# 03) Proponha uma função J ( x ), sendo x um vetor com 20 dimensões, cujo ponto mínimo você conheça. Evite propor funções que tenham um só ponto mínimo. Encontre o ponto mínimo global utilizando S.A. Entregue o código utilizado e alguns comentários sobre o resultado obtido;"
   ]
  },
  {
   "cell_type": "markdown",
   "id": "useful-liver",
   "metadata": {},
   "source": [
    "Ver html que acompanha esse notebook."
   ]
  },
  {
   "cell_type": "code",
   "execution_count": null,
   "id": "twenty-partner",
   "metadata": {},
   "outputs": [],
   "source": []
  }
 ],
 "metadata": {
  "kernelspec": {
   "display_name": "Python 3",
   "language": "python",
   "name": "python3"
  },
  "language_info": {
   "codemirror_mode": {
    "name": "ipython",
    "version": 3
   },
   "file_extension": ".py",
   "mimetype": "text/x-python",
   "name": "python",
   "nbconvert_exporter": "python",
   "pygments_lexer": "ipython3",
   "version": "3.8.7"
  }
 },
 "nbformat": 4,
 "nbformat_minor": 5
}
