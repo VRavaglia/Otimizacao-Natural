{
 "cells": [
  {
   "cell_type": "markdown",
   "id": "turkish-catering",
   "metadata": {},
   "source": [
    "# Lista de Exercícios 2"
   ]
  },
  {
   "cell_type": "markdown",
   "id": "armed-stereo",
   "metadata": {},
   "source": [
    "01) Lista de Exercícios da CPE723 Edição Presencial - Exercício 1. No item 1(b), onde está escrito \"três números aleatórios equiprováveis\", leia-se \"três números aleatórios, sorteados de PDF uniforme entre 0 e 1\". \n",
    "\n",
    "02) Lista de Exercícios da CPE723 Edição Presencial - Exercício 2.\n",
    "\n",
    "03) Lista de Exercícios da CPE723 Edição Presencial - Exercício 3.\n",
    "\n",
    "04) Prova de 2009 - Questão 2, itens (a) e (c) (resolvida em aula no dia 12/04/2022).\n",
    "\n",
    "05) Prova de 2011 - Questão 2, itens (a), (b), e (e).\n",
    "\n",
    "06) (Opcional/Desafio) Prova de 2012 - Questão 3.\n",
    "\n",
    "07) Prova de 2016 - Questão 2.\n",
    "\n",
    "08) Prova de 2016 - Questão 3.\n",
    "\n",
    "09) Prova de 2017 - Questão 3, itens (b) e (c).\n",
    "\n",
    "10) Prova de 2018 - Questão 3."
   ]
  },
  {
   "cell_type": "markdown",
   "id": "mobile-circumstances",
   "metadata": {},
   "source": [
    "# 01) Lista de Exercícios da CPE723 Edição Presencial - Exercício 1. No item 1(b), onde está escrito \"três números aleatórios equiprováveis\", leia-se \"três números aleatórios, sorteados de PDF uniforme entre 0 e 1\"."
   ]
  },
  {
   "cell_type": "markdown",
   "id": "finnish-stamp",
   "metadata": {},
   "source": [
    "## a)\n",
    "\n",
    "Nesse caso, $X(n)$ será dado por:\n",
    "\n",
    "$$p(X(n)) = p_0M^n$$"
   ]
  },
  {
   "cell_type": "code",
   "execution_count": 20,
   "id": "authorized-authority",
   "metadata": {},
   "outputs": [
    {
     "name": "stdout",
     "output_type": "stream",
     "text": [
      "Distribuição p3:  [[0.3328125 0.334375  0.3328125]]\n"
     ]
    }
   ],
   "source": [
    "import numpy as np\n",
    "\n",
    "M = np.array([[0.5, 0.25, 0.25],[0.25, 0.5, 0.25],[0.25, 0.25, 0.5]])\n",
    "p0 = np.array([0.3, 0.4, 0.3]).reshape(1, 3)\n",
    "\n",
    "pX3 = np.matmul(p0, np.linalg.matrix_power(M, 3))\n",
    "\n",
    "print(\"Distribuição p3: \", pX3)"
   ]
  },
  {
   "cell_type": "markdown",
   "id": "becoming-phoenix",
   "metadata": {},
   "source": [
    "## b)\n",
    "\n"
   ]
  },
  {
   "cell_type": "code",
   "execution_count": 36,
   "id": "alpine-preview",
   "metadata": {
    "scrolled": true
   },
   "outputs": [
    {
     "data": {
      "image/png": "[encoded data removed]",
      "text/plain": [
       "<Figure size 432x288 with 1 Axes>"
      ]
     },
     "metadata": {
      "needs_background": "light"
     },
     "output_type": "display_data"
    }
   ],
   "source": [
    "import matplotlib.pyplot as plt \n",
    "\n",
    "X = [1]\n",
    "rs = []\n",
    "\n",
    "for i in range(0, 3):\n",
    "    r = np.random.uniform(0, 1)\n",
    "    rs.append(r)\n",
    "    for j in range(0, 3):\n",
    "        if r <= M[j, X[i]]:\n",
    "            X.append(j)\n",
    "            break\n",
    "        else:\n",
    "            r -= M[j, X[i]]\n",
    " \n",
    "plt.scatter(range(0, 4), X)\n",
    "plt.title(\"Trajetoria de X\")\n",
    "plt.show()"
   ]
  },
  {
   "cell_type": "markdown",
   "id": "finnish-counter",
   "metadata": {},
   "source": [
    "## c)"
   ]
  },
  {
   "cell_type": "code",
   "execution_count": 95,
   "id": "located-cricket",
   "metadata": {},
   "outputs": [],
   "source": [
    "import matplotlib.pyplot as plt \n",
    "import random\n",
    "\n",
    "Xs = []\n",
    "\n",
    "for k in range(0, 100):\n",
    "    X = [random.randint(0, 2)]\n",
    "\n",
    "    for i in range(0, 3):\n",
    "        r = np.random.uniform(0, 1)\n",
    "        for j in range(0, 3):\n",
    "            if r <= M[j, X[i]]:\n",
    "                X.append(j)\n",
    "                break\n",
    "            else:\n",
    "                r -= M[j, X[i]]\n",
    "    \n",
    "    Xs.append(X)\n",
    "    \n",
    "Xs = np.array(Xs)"
   ]
  },
  {
   "cell_type": "markdown",
   "id": "guided-resolution",
   "metadata": {},
   "source": [
    "## d)"
   ]
  },
  {
   "cell_type": "code",
   "execution_count": 96,
   "id": "infectious-baseline",
   "metadata": {
    "scrolled": true
   },
   "outputs": [
    {
     "data": {
      "image/png": "[encoded data removed]",
      "text/plain": [
       "<Figure size 432x288 with 4 Axes>"
      ]
     },
     "metadata": {
      "needs_background": "light"
     },
     "output_type": "display_data"
    }
   ],
   "source": [
    "ps = []\n",
    "\n",
    "for i in range(0, 4):\n",
    "    cs = []\n",
    "    for j in range(0, 3):\n",
    "        cs.append(np.sum(Xs[:, i] == j)/100)\n",
    "\n",
    "    ps.append(cs)\n",
    "\n",
    "ps = np.array(ps)\n",
    "\n",
    "fig, axs = plt.subplots(4)\n",
    "fig.suptitle('Distribuicoes de X')\n",
    "for i in range(0,4):\n",
    "    axs[i].hist(Xs[:, i], bins=np.arange(0, 2.5, 0.1))\n",
    "\n",
    "plt.show()"
   ]
  },
  {
   "cell_type": "markdown",
   "id": "static-ireland",
   "metadata": {},
   "source": [
    "# 02) Lista de Exercícios da CPE723 Edição Presencial - Exercício 2.\n"
   ]
  },
  {
   "cell_type": "markdown",
   "id": "conditional-turning",
   "metadata": {},
   "source": [
    "## a)\n",
    "Adotando um algorítmo de Metropolis que sorteia um estado para transição dentre todos os possíveis,  com changes iguais (1/5), temos:"
   ]
  },
  {
   "cell_type": "code",
   "execution_count": 97,
   "id": "facial-brook",
   "metadata": {},
   "outputs": [],
   "source": [
    "Jx = [0.5, 0.2, 0.3, 0.1, 0.4]"
   ]
  },
  {
   "cell_type": "code",
   "execution_count": 135,
   "id": "ordered-chest",
   "metadata": {
    "scrolled": true
   },
   "outputs": [
    {
     "name": "stdout",
     "output_type": "stream",
     "text": [
      "Matriz de transição M: \n",
      "[[0.2        0.00995741 0.02706706 0.00366313 0.07357589]\n",
      " [0.2        0.68939964 0.2        0.07357589 0.2       ]\n",
      " [0.2        0.07357589 0.49935706 0.02706706 0.2       ]\n",
      " [0.2        0.2        0.2        0.88573651 0.2       ]\n",
      " [0.2        0.02706706 0.07357589 0.00995741 0.32642411]]\n"
     ]
    }
   ],
   "source": [
    "import numpy as np\n",
    "\n",
    "M = []\n",
    "T = 0.1\n",
    "\n",
    "for i in range(0, 5):\n",
    "    m = []\n",
    "    for j in range(0, 5):\n",
    "        if i == j:\n",
    "            m.append(0)\n",
    "        else:\n",
    "            if (Jx[i] - Jx[j]) < 0:\n",
    "                m.append(1/5)\n",
    "            else:\n",
    "                m.append(np.exp(-(Jx[i] - Jx[j])/T)*1/5)\n",
    "\n",
    "    M.append(m)\n",
    "    \n",
    "M = np.array(M)\n",
    "\n",
    "for i in range(0,5):\n",
    "    M[i, i] = 1- np.sum(M[np.arange(0, 5) != i, i])\n",
    "    \n",
    "print(\"Matriz de transição M: \")\n",
    "print(M)"
   ]
  },
  {
   "cell_type": "markdown",
   "id": "earned-guard",
   "metadata": {},
   "source": [
    "## b) "
   ]
  },
  {
   "cell_type": "code",
   "execution_count": 158,
   "id": "elegant-collection",
   "metadata": {
    "scrolled": true
   },
   "outputs": [
    {
     "name": "stdout",
     "output_type": "stream",
     "text": [
      "Sequência de estados: \n",
      "[3 3 4 4]\n"
     ]
    }
   ],
   "source": [
    "import math\n",
    "\n",
    "# Metropolis\n",
    "X = [random.randint(0, 4)]\n",
    "T = 0.1\n",
    "\n",
    "for n in range(1, 4):\n",
    "    \n",
    "    xhat = random.randint(0, 4)\n",
    "        \n",
    "    dJ = Jx[xhat] - Jx[X[n-1]]\n",
    "    q = math.exp(-dJ/(T))\n",
    "    r = random.uniform(0, 1)\n",
    "    \n",
    "    if r < q:\n",
    "        X.append(xhat)\n",
    "    else:\n",
    "        X.append(X[n-1])\n",
    "\n",
    "X = np.array(X)\n",
    "\n",
    "print(\"Sequência de estados: \")\n",
    "print(X+1)"
   ]
  },
  {
   "cell_type": "markdown",
   "id": "damaged-footage",
   "metadata": {},
   "source": [
    "## c)"
   ]
  },
  {
   "cell_type": "markdown",
   "id": "worth-admission",
   "metadata": {},
   "source": [
    "## d)"
   ]
  },
  {
   "cell_type": "code",
   "execution_count": 163,
   "id": "productive-fields",
   "metadata": {},
   "outputs": [
    {
     "name": "stdout",
     "output_type": "stream",
     "text": [
      "Fator x = 1 : 0.006737946999085467\n",
      "Fator x = 2 : 0.1353352832366127\n",
      "Fator x = 3 : 0.049787068367863965\n",
      "Fator x = 4 : 0.36787944117144233\n",
      "Fator x = 5 : 0.01831563888873418\n"
     ]
    }
   ],
   "source": [
    "T = 0.1\n",
    "\n",
    "for i in range(0,5):\n",
    "    print(\"Fator x =\", i+1,\":\", np.exp(-Jx[i]/T))"
   ]
  },
  {
   "cell_type": "markdown",
   "id": "chief-stream",
   "metadata": {},
   "source": [
    "## e)"
   ]
  },
  {
   "cell_type": "code",
   "execution_count": 168,
   "id": "international-compression",
   "metadata": {
    "scrolled": true
   },
   "outputs": [
    {
     "data": {
      "image/png": "[encoded data removed]",
      "text/plain": [
       "<Figure size 432x288 with 2 Axes>"
      ]
     },
     "metadata": {
      "needs_background": "light"
     },
     "output_type": "display_data"
    }
   ],
   "source": [
    "import math\n",
    "\n",
    "# Metropolis\n",
    "X = []\n",
    "x = random.randint(0, 4)\n",
    "xhat = 0\n",
    "Ts = [0.1, 0.0631, 0.05, 0.0431, 0.0387, 0.0356, 0.0333, 0.0315, 0.0301, 0.0289]\n",
    "Tlista = []\n",
    "Xs = np.zeros((5, len(Ts)))\n",
    "N = 1000\n",
    "\n",
    "for k in range(0, len(Ts)):\n",
    "    T = Ts[k]\n",
    "    for n in range(1, N):\n",
    "\n",
    "        xhat = random.randint(0, 4)\n",
    "\n",
    "        dJ = Jx[xhat] - Jx[x]\n",
    "        q = math.exp(-dJ/(T))\n",
    "        r = random.uniform(0, 1)\n",
    "\n",
    "        if r < q:\n",
    "            x = xhat\n",
    "\n",
    "        X.append(x)\n",
    "        Tlista.append(T)\n",
    "        Xs[x, k] += 1\n",
    "        \n",
    "\n",
    "X = np.array(X)\n",
    "\n",
    "fig, axs = plt.subplots(2)\n",
    "axs[0].plot(X)\n",
    "axs[1].plot(Tlista)\n",
    "plt.show()"
   ]
  },
  {
   "cell_type": "code",
   "execution_count": 171,
   "id": "worldwide-vegetable",
   "metadata": {
    "scrolled": true
   },
   "outputs": [
    {
     "data": {
      "image/png": "[encoded data removed]",
      "text/plain": [
       "<Figure size 432x288 with 10 Axes>"
      ]
     },
     "metadata": {
      "needs_background": "light"
     },
     "output_type": "display_data"
    }
   ],
   "source": [
    "fig, axs = plt.subplots(len(Ts))\n",
    "fig.suptitle('Distribuicoes de X por temperatura')\n",
    "for i in range(0,len(Ts)):\n",
    "    axs[i].bar(range(1, 6), Xs[:, i]/np.sum(Xs[:, i]))\n",
    "\n",
    "plt.show()"
   ]
  },
  {
   "cell_type": "markdown",
   "id": "radio-viewer",
   "metadata": {},
   "source": [
    "Como esperado, conforme a temperatura diminui, maior é a tendência do estado permanecer como sendo o de menor energia (x = 4)."
   ]
  }
 ],
 "metadata": {
  "kernelspec": {
   "display_name": "Python 3",
   "language": "python",
   "name": "python3"
  },
  "language_info": {
   "codemirror_mode": {
    "name": "ipython",
    "version": 3
   },
   "file_extension": ".py",
   "mimetype": "text/x-python",
   "name": "python",
   "nbconvert_exporter": "python",
   "pygments_lexer": "ipython3",
   "version": "3.8.7"
  }
 },
 "nbformat": 4,
 "nbformat_minor": 5
}
