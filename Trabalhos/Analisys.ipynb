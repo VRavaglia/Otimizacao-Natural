{
 "cells": [
  {
   "cell_type": "code",
   "execution_count": 36,
   "id": "endangered-design",
   "metadata": {},
   "outputs": [],
   "source": [
    "using CSV\n",
    "using DataFrames\n",
    "csv_reader = CSV.File(\"resultados.csv\");"
   ]
  },
  {
   "cell_type": "code",
   "execution_count": 6,
   "id": "addressed-wings",
   "metadata": {},
   "outputs": [
    {
     "name": "stdout",
     "output_type": "stream",
     "text": [
      "values: 5, 1, false\n",
      "values: 5, 1, false\n",
      "values: 5, 1, false\n",
      "values: 5, 1, false\n",
      "values: 5, 1, false\n",
      "values: 5, 1, true\n",
      "values: 5, 1, true\n",
      "values: 5, 1, true\n",
      "values: 5, 1, true\n",
      "values: 5, 1, true\n"
     ]
    }
   ],
   "source": [
    "for row in csv_reader\n",
    "    println(\"values: $(row.C), $(row.T), $(row.HMenorJ)\")\n",
    "end"
   ]
  },
  {
   "cell_type": "code",
   "execution_count": 23,
   "id": "crucial-hollow",
   "metadata": {},
   "outputs": [
    {
     "name": "stdout",
     "output_type": "stream",
     "text": [
      "Tempo Medio HMenorJ==False:\n",
      "0.0115303\n"
     ]
    }
   ],
   "source": [
    "Tempos = 0\n",
    "rows = csv_reader[(csv_reader.C .== 5) .& (csv_reader.HMenorJ .== false), :]\n",
    "for row in rows\n",
    "    Tempos += row.Tempo\n",
    "end\n",
    "println(\"Tempo Medio HMenorJ==False:\\n\", Tempos/length(rows))"
   ]
  },
  {
   "cell_type": "code",
   "execution_count": 24,
   "id": "separated-boxing",
   "metadata": {},
   "outputs": [
    {
     "name": "stdout",
     "output_type": "stream",
     "text": [
      "Tempo Medio HMenorJ==True:\n",
      "0.01147332\n"
     ]
    }
   ],
   "source": [
    "Tempos = 0\n",
    "rows = csv_reader[(csv_reader.C .== 5) .& (csv_reader.HMenorJ .== true), :]\n",
    "for row in rows\n",
    "    Tempos += row.Tempo\n",
    "end\n",
    "println(\"Tempo Medio HMenorJ==True:\\n\", Tempos/length(rows))"
   ]
  },
  {
   "cell_type": "code",
   "execution_count": 34,
   "id": "congressional-actor",
   "metadata": {},
   "outputs": [
    {
     "name": "stdout",
     "output_type": "stream",
     "text": [
      "Tempo Medio HMenorJ==False:\n",
      "1.0597811199999998\n"
     ]
    }
   ],
   "source": [
    "Tempos = 0\n",
    "rows = csv_reader[(csv_reader.C .== 20) .& (csv_reader.HMenorJ .== false) .& (csv_reader.Kmax .== 30).& (csv_reader.T .== 1), :]\n",
    "for row in rows\n",
    "    Tempos += row.Tempo\n",
    "end\n",
    "println(\"Tempo Medio HMenorJ==False:\\n\", Tempos/length(rows))"
   ]
  },
  {
   "cell_type": "code",
   "execution_count": 35,
   "id": "relative-massachusetts",
   "metadata": {},
   "outputs": [
    {
     "name": "stdout",
     "output_type": "stream",
     "text": [
      "Tempo Medio HMenorJ==False:\n",
      "0.8639872400000002\n"
     ]
    }
   ],
   "source": [
    "Tempos = 0\n",
    "rows = csv_reader[(csv_reader.C .== 20) .& (csv_reader.HMenorJ .== true) .& (csv_reader.Kmax .== 30).& (csv_reader.T .== 1), :]\n",
    "for row in rows\n",
    "    Tempos += row.Tempo\n",
    "end\n",
    "println(\"Tempo Medio HMenorJ==False:\\n\", Tempos/length(rows))"
   ]
  },
  {
   "cell_type": "code",
   "execution_count": 37,
   "id": "pressed-rugby",
   "metadata": {},
   "outputs": [
    {
     "name": "stdout",
     "output_type": "stream",
     "text": [
      "Tempo Medio HMenorJ==False:\n",
      "0.03292212\n"
     ]
    }
   ],
   "source": [
    "Tempos = 0\n",
    "rows = csv_reader[(csv_reader.C .== 10) .& (csv_reader.HMenorJ .== false) .& (csv_reader.Kmax .== 10).& (csv_reader.T .== 1), :]\n",
    "for row in rows\n",
    "    Tempos += row.Tempo\n",
    "end\n",
    "println(\"Tempo Medio HMenorJ==False:\\n\", Tempos/length(rows))"
   ]
  },
  {
   "cell_type": "code",
   "execution_count": 38,
   "id": "civil-prophet",
   "metadata": {},
   "outputs": [
    {
     "name": "stdout",
     "output_type": "stream",
     "text": [
      "Tempo Medio HMenorJ==False:\n",
      "0.05402784285714285\n"
     ]
    }
   ],
   "source": [
    "Tempos = 0\n",
    "rows = csv_reader[(csv_reader.C .== 10) .& (csv_reader.HMenorJ .== true) .& (csv_reader.Kmax .== 10).& (csv_reader.T .== 1), :]\n",
    "for row in rows\n",
    "    Tempos += row.Tempo\n",
    "end\n",
    "println(\"Tempo Medio HMenorJ==False:\\n\", Tempos/length(rows))"
   ]
  }
 ],
 "metadata": {
  "kernelspec": {
   "display_name": "Julia 1.7.2",
   "language": "julia",
   "name": "julia-1.7"
  },
  "language_info": {
   "file_extension": ".jl",
   "mimetype": "application/julia",
   "name": "julia",
   "version": "1.7.2"
  }
 },
 "nbformat": 4,
 "nbformat_minor": 5
}
