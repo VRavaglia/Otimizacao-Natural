{
 "cells": [
  {
   "cell_type": "code",
   "execution_count": 2,
   "id": "changed-robertson",
   "metadata": {},
   "outputs": [
    {
     "data": {
      "text/html": [
       "<div class=\"data-frame\"><p>3,050 rows × 9 columns</p><table class=\"data-frame\"><thead><tr><th></th><th>C</th><th>T</th><th>N</th><th>Kmax</th><th>Jmin</th><th>Tempo</th><th>HMenorJ</th><th>seed</th><th>O</th></tr><tr><th></th><th title=\"Int64\">Int64</th><th title=\"Float64\">Float64</th><th title=\"Int64\">Int64</th><th title=\"Int64\">Int64</th><th title=\"Float64\">Float64</th><th title=\"Float64\">Float64</th><th title=\"Bool\">Bool</th><th title=\"Int64\">Int64</th><th title=\"Bool\">Bool</th></tr></thead><tbody><tr><th>1</th><td>10</td><td>0.1</td><td>10000</td><td>50</td><td>6.49338</td><td>0.817726</td><td>0</td><td>1</td><td>1</td></tr><tr><th>2</th><td>10</td><td>0.1</td><td>10000</td><td>50</td><td>6.49338</td><td>0.0002269</td><td>0</td><td>2</td><td>1</td></tr><tr><th>3</th><td>10</td><td>0.1</td><td>10000</td><td>50</td><td>6.49338</td><td>0.0001433</td><td>0</td><td>3</td><td>1</td></tr><tr><th>4</th><td>10</td><td>0.1</td><td>10000</td><td>50</td><td>6.49338</td><td>0.0001187</td><td>0</td><td>4</td><td>1</td></tr><tr><th>5</th><td>10</td><td>0.1</td><td>10000</td><td>50</td><td>6.49338</td><td>6.04e-5</td><td>0</td><td>5</td><td>1</td></tr><tr><th>6</th><td>10</td><td>0.1</td><td>10000</td><td>50</td><td>6.49338</td><td>6.65e-5</td><td>0</td><td>6</td><td>1</td></tr><tr><th>7</th><td>10</td><td>0.1</td><td>10000</td><td>50</td><td>6.49338</td><td>8.03e-5</td><td>0</td><td>7</td><td>1</td></tr><tr><th>8</th><td>10</td><td>0.1</td><td>10000</td><td>50</td><td>6.49338</td><td>0.0001239</td><td>0</td><td>8</td><td>1</td></tr><tr><th>9</th><td>10</td><td>0.1</td><td>10000</td><td>50</td><td>6.49338</td><td>0.0001125</td><td>0</td><td>9</td><td>1</td></tr><tr><th>10</th><td>10</td><td>0.1</td><td>10000</td><td>50</td><td>6.49338</td><td>0.0001206</td><td>0</td><td>10</td><td>1</td></tr><tr><th>11</th><td>10</td><td>0.2</td><td>10000</td><td>50</td><td>6.49338</td><td>0.0001405</td><td>0</td><td>1</td><td>1</td></tr><tr><th>12</th><td>10</td><td>0.2</td><td>10000</td><td>50</td><td>6.49338</td><td>0.0002092</td><td>0</td><td>2</td><td>1</td></tr><tr><th>13</th><td>10</td><td>0.2</td><td>10000</td><td>50</td><td>6.49338</td><td>0.0001148</td><td>0</td><td>3</td><td>1</td></tr><tr><th>14</th><td>10</td><td>0.2</td><td>10000</td><td>50</td><td>6.49338</td><td>0.0001168</td><td>0</td><td>4</td><td>1</td></tr><tr><th>15</th><td>10</td><td>0.2</td><td>10000</td><td>50</td><td>6.49338</td><td>0.0001088</td><td>0</td><td>5</td><td>1</td></tr><tr><th>16</th><td>10</td><td>0.2</td><td>10000</td><td>50</td><td>6.49338</td><td>7.64e-5</td><td>0</td><td>6</td><td>1</td></tr><tr><th>17</th><td>10</td><td>0.2</td><td>10000</td><td>50</td><td>6.49338</td><td>0.0001098</td><td>0</td><td>7</td><td>1</td></tr><tr><th>18</th><td>10</td><td>0.2</td><td>10000</td><td>50</td><td>6.49338</td><td>6.92e-5</td><td>0</td><td>8</td><td>1</td></tr><tr><th>19</th><td>10</td><td>0.2</td><td>10000</td><td>50</td><td>6.49338</td><td>0.0001074</td><td>0</td><td>9</td><td>1</td></tr><tr><th>20</th><td>10</td><td>0.2</td><td>10000</td><td>50</td><td>6.49338</td><td>0.0001122</td><td>0</td><td>10</td><td>1</td></tr><tr><th>21</th><td>10</td><td>0.3</td><td>10000</td><td>50</td><td>6.49338</td><td>9.55e-5</td><td>0</td><td>1</td><td>1</td></tr><tr><th>22</th><td>10</td><td>0.3</td><td>10000</td><td>50</td><td>6.49338</td><td>0.0001245</td><td>0</td><td>2</td><td>1</td></tr><tr><th>23</th><td>10</td><td>0.3</td><td>10000</td><td>50</td><td>6.49338</td><td>0.0001005</td><td>0</td><td>3</td><td>1</td></tr><tr><th>24</th><td>10</td><td>0.3</td><td>10000</td><td>50</td><td>6.49338</td><td>0.0001149</td><td>0</td><td>4</td><td>1</td></tr><tr><th>25</th><td>10</td><td>0.3</td><td>10000</td><td>50</td><td>6.49338</td><td>0.0001184</td><td>0</td><td>5</td><td>1</td></tr><tr><th>26</th><td>10</td><td>0.3</td><td>10000</td><td>50</td><td>6.49338</td><td>0.0001116</td><td>0</td><td>6</td><td>1</td></tr><tr><th>27</th><td>10</td><td>0.3</td><td>10000</td><td>50</td><td>6.49338</td><td>6.15e-5</td><td>0</td><td>7</td><td>1</td></tr><tr><th>28</th><td>10</td><td>0.3</td><td>10000</td><td>50</td><td>6.49338</td><td>9.09e-5</td><td>0</td><td>8</td><td>1</td></tr><tr><th>29</th><td>10</td><td>0.3</td><td>10000</td><td>50</td><td>6.49338</td><td>8.06e-5</td><td>0</td><td>9</td><td>1</td></tr><tr><th>30</th><td>10</td><td>0.3</td><td>10000</td><td>50</td><td>6.49338</td><td>0.0001278</td><td>0</td><td>10</td><td>1</td></tr><tr><th>&vellip;</th><td>&vellip;</td><td>&vellip;</td><td>&vellip;</td><td>&vellip;</td><td>&vellip;</td><td>&vellip;</td><td>&vellip;</td><td>&vellip;</td><td>&vellip;</td></tr></tbody></table></div>"
      ],
      "text/latex": [
       "\\begin{tabular}{r|ccccccccc}\n",
       "\t& C & T & N & Kmax & Jmin & Tempo & HMenorJ & seed & O\\\\\n",
       "\t\\hline\n",
       "\t& Int64 & Float64 & Int64 & Int64 & Float64 & Float64 & Bool & Int64 & Bool\\\\\n",
       "\t\\hline\n",
       "\t1 & 10 & 0.1 & 10000 & 50 & 6.49338 & 0.817726 & 0 & 1 & 1 \\\\\n",
       "\t2 & 10 & 0.1 & 10000 & 50 & 6.49338 & 0.0002269 & 0 & 2 & 1 \\\\\n",
       "\t3 & 10 & 0.1 & 10000 & 50 & 6.49338 & 0.0001433 & 0 & 3 & 1 \\\\\n",
       "\t4 & 10 & 0.1 & 10000 & 50 & 6.49338 & 0.0001187 & 0 & 4 & 1 \\\\\n",
       "\t5 & 10 & 0.1 & 10000 & 50 & 6.49338 & 6.04e-5 & 0 & 5 & 1 \\\\\n",
       "\t6 & 10 & 0.1 & 10000 & 50 & 6.49338 & 6.65e-5 & 0 & 6 & 1 \\\\\n",
       "\t7 & 10 & 0.1 & 10000 & 50 & 6.49338 & 8.03e-5 & 0 & 7 & 1 \\\\\n",
       "\t8 & 10 & 0.1 & 10000 & 50 & 6.49338 & 0.0001239 & 0 & 8 & 1 \\\\\n",
       "\t9 & 10 & 0.1 & 10000 & 50 & 6.49338 & 0.0001125 & 0 & 9 & 1 \\\\\n",
       "\t10 & 10 & 0.1 & 10000 & 50 & 6.49338 & 0.0001206 & 0 & 10 & 1 \\\\\n",
       "\t11 & 10 & 0.2 & 10000 & 50 & 6.49338 & 0.0001405 & 0 & 1 & 1 \\\\\n",
       "\t12 & 10 & 0.2 & 10000 & 50 & 6.49338 & 0.0002092 & 0 & 2 & 1 \\\\\n",
       "\t13 & 10 & 0.2 & 10000 & 50 & 6.49338 & 0.0001148 & 0 & 3 & 1 \\\\\n",
       "\t14 & 10 & 0.2 & 10000 & 50 & 6.49338 & 0.0001168 & 0 & 4 & 1 \\\\\n",
       "\t15 & 10 & 0.2 & 10000 & 50 & 6.49338 & 0.0001088 & 0 & 5 & 1 \\\\\n",
       "\t16 & 10 & 0.2 & 10000 & 50 & 6.49338 & 7.64e-5 & 0 & 6 & 1 \\\\\n",
       "\t17 & 10 & 0.2 & 10000 & 50 & 6.49338 & 0.0001098 & 0 & 7 & 1 \\\\\n",
       "\t18 & 10 & 0.2 & 10000 & 50 & 6.49338 & 6.92e-5 & 0 & 8 & 1 \\\\\n",
       "\t19 & 10 & 0.2 & 10000 & 50 & 6.49338 & 0.0001074 & 0 & 9 & 1 \\\\\n",
       "\t20 & 10 & 0.2 & 10000 & 50 & 6.49338 & 0.0001122 & 0 & 10 & 1 \\\\\n",
       "\t21 & 10 & 0.3 & 10000 & 50 & 6.49338 & 9.55e-5 & 0 & 1 & 1 \\\\\n",
       "\t22 & 10 & 0.3 & 10000 & 50 & 6.49338 & 0.0001245 & 0 & 2 & 1 \\\\\n",
       "\t23 & 10 & 0.3 & 10000 & 50 & 6.49338 & 0.0001005 & 0 & 3 & 1 \\\\\n",
       "\t24 & 10 & 0.3 & 10000 & 50 & 6.49338 & 0.0001149 & 0 & 4 & 1 \\\\\n",
       "\t25 & 10 & 0.3 & 10000 & 50 & 6.49338 & 0.0001184 & 0 & 5 & 1 \\\\\n",
       "\t26 & 10 & 0.3 & 10000 & 50 & 6.49338 & 0.0001116 & 0 & 6 & 1 \\\\\n",
       "\t27 & 10 & 0.3 & 10000 & 50 & 6.49338 & 6.15e-5 & 0 & 7 & 1 \\\\\n",
       "\t28 & 10 & 0.3 & 10000 & 50 & 6.49338 & 9.09e-5 & 0 & 8 & 1 \\\\\n",
       "\t29 & 10 & 0.3 & 10000 & 50 & 6.49338 & 8.06e-5 & 0 & 9 & 1 \\\\\n",
       "\t30 & 10 & 0.3 & 10000 & 50 & 6.49338 & 0.0001278 & 0 & 10 & 1 \\\\\n",
       "\t$\\dots$ & $\\dots$ & $\\dots$ & $\\dots$ & $\\dots$ & $\\dots$ & $\\dots$ & $\\dots$ & $\\dots$ & $\\dots$ \\\\\n",
       "\\end{tabular}\n"
      ],
      "text/plain": [
       "\u001b[1m3050×9 DataFrame\u001b[0m\n",
       "\u001b[1m  Row \u001b[0m│\u001b[1m C     \u001b[0m\u001b[1m T       \u001b[0m\u001b[1m N      \u001b[0m\u001b[1m Kmax  \u001b[0m\u001b[1m Jmin     \u001b[0m\u001b[1m Tempo      \u001b[0m\u001b[1m HMenorJ \u001b[0m\u001b[1m seed  \u001b[0m\u001b[1m O\u001b[0m ⋯\n",
       "\u001b[1m      \u001b[0m│\u001b[90m Int64 \u001b[0m\u001b[90m Float64 \u001b[0m\u001b[90m Int64  \u001b[0m\u001b[90m Int64 \u001b[0m\u001b[90m Float64  \u001b[0m\u001b[90m Float64    \u001b[0m\u001b[90m Bool    \u001b[0m\u001b[90m Int64 \u001b[0m\u001b[90m B\u001b[0m ⋯\n",
       "──────┼─────────────────────────────────────────────────────────────────────────\n",
       "    1 │    10      0.1   10000     50   6.49338   0.817726     false      1    ⋯\n",
       "    2 │    10      0.1   10000     50   6.49338   0.0002269    false      2\n",
       "    3 │    10      0.1   10000     50   6.49338   0.0001433    false      3\n",
       "    4 │    10      0.1   10000     50   6.49338   0.0001187    false      4\n",
       "    5 │    10      0.1   10000     50   6.49338   6.04e-5      false      5    ⋯\n",
       "    6 │    10      0.1   10000     50   6.49338   6.65e-5      false      6\n",
       "    7 │    10      0.1   10000     50   6.49338   8.03e-5      false      7\n",
       "    8 │    10      0.1   10000     50   6.49338   0.0001239    false      8\n",
       "    9 │    10      0.1   10000     50   6.49338   0.0001125    false      9    ⋯\n",
       "   10 │    10      0.1   10000     50   6.49338   0.0001206    false     10\n",
       "   11 │    10      0.2   10000     50   6.49338   0.0001405    false      1\n",
       "  ⋮   │   ⋮       ⋮       ⋮       ⋮       ⋮          ⋮          ⋮       ⋮      ⋱\n",
       " 3041 │   250      0.2  100000   2000  21.8281   59.8324        true     10  f\n",
       " 3042 │   250      0.3  100000    500  23.5842   15.8456        true     10  f ⋯\n",
       " 3043 │   250      0.3  100000   1000  23.1309   31.0189        true     10  f\n",
       " 3044 │   250      0.3  100000   2000  23.0555   59.8941        true     10  f\n",
       " 3045 │   250      0.4  100000    500  21.3693   15.1914        true     10  f\n",
       " 3046 │   250      0.4  100000   1000  20.7754   29.958         true     10  f ⋯\n",
       " 3047 │   250      0.4  100000   2000  20.132    62.5316        true     10  f\n",
       " 3048 │   250      0.5  100000    500  28.1621   15.7692        true     10  f\n",
       " 3049 │   250      0.5  100000   1000  27.5337   30.3664        true     10  f\n",
       " 3050 │   250      0.5  100000   2000  26.735    61.9746        true     10  f ⋯\n",
       "\u001b[36m                                                  1 column and 3029 rows omitted\u001b[0m"
      ]
     },
     "execution_count": 2,
     "metadata": {},
     "output_type": "execute_result"
    }
   ],
   "source": [
    "using CSV\n",
    "using DataFrames\n",
    "using Plots\n",
    "using StatsPlots, Statistics\n",
    "df = DataFrame(CSV.File(\"resultados_all.csv\"))"
   ]
  },
  {
   "cell_type": "code",
   "execution_count": 6,
   "id": "dental-first",
   "metadata": {},
   "outputs": [
    {
     "name": "stdout",
     "output_type": "stream",
     "text": [
      "values: 5, 1, false\n",
      "values: 5, 1, false\n",
      "values: 5, 1, false\n",
      "values: 5, 1, false\n",
      "values: 5, 1, false\n",
      "values: 5, 1, true\n",
      "values: 5, 1, true\n",
      "values: 5, 1, true\n",
      "values: 5, 1, true\n",
      "values: 5, 1, true\n"
     ]
    }
   ],
   "source": [
    "for row in csv_reader\n",
    "    println(\"values: $(row.C), $(row.T), $(row.HMenorJ)\")\n",
    "end"
   ]
  },
  {
   "cell_type": "code",
   "execution_count": 84,
   "id": "ahead-hormone",
   "metadata": {},
   "outputs": [],
   "source": [
    "tempos = []\n",
    "for C in [10, 20, 40, 60, 80, 100, 150, 200, 250]\n",
    "    # calculate summary statistics\n",
    "    data = df[df.C .== C .&& df.HMenorJ .== false, :].Tempo\n",
    "    data_mean, data_std = mean(data), std(data)\n",
    "\n",
    "    # identify outliers\n",
    "    cut_off = data_std * 3\n",
    "    lower, upper = data_mean - cut_off, data_mean + cut_off\n",
    "\n",
    "    append!(tempos, data[data .< upper .&& data .> lower]./data_mean)\n",
    "end\n",
    "\n",
    "tempos2 = []\n",
    "for C in [10, 20, 40, 60, 80, 100, 150, 200, 250]\n",
    "    # calculate summary statistics\n",
    "    data = df[df.C .== C .&& df.HMenorJ .== true, :].Tempo\n",
    "    data_mean, data_std = mean(data), std(data)\n",
    "\n",
    "    # identify outliers\n",
    "    cut_off = data_std * 3\n",
    "    lower, upper = data_mean - cut_off, data_mean + cut_off\n",
    "\n",
    "    append!(tempos2, data[data .< upper .&& data .> lower]./data_mean)\n",
    "end\n",
    "boxplot([\"Sem Heurística\" \"Com Heurística\"], [tempos, tempos2],tempos,leg=false,ytickfontsize=12,xtickfontsize=12,ylabelfontsize=12)\n",
    "\n",
    "ylabel!(\"Tempo normalizado\")\n",
    "savefig(\"comparacao_tempos.png\")"
   ]
  },
  {
   "cell_type": "code",
   "execution_count": 85,
   "id": "three-outdoors",
   "metadata": {},
   "outputs": [],
   "source": [
    "tempos = []\n",
    "for C in [10, 20, 40, 60, 80, 100, 150, 200, 250]\n",
    "    # calculate summary statistics\n",
    "    data = df[df.C .== C .&& df.HMenorJ .== false, :].Jmin\n",
    "    data_mean, data_std = mean(data), std(data)\n",
    "\n",
    "    # identify outliers\n",
    "    cut_off = data_std * 3\n",
    "    lower, upper = data_mean - cut_off, data_mean + cut_off\n",
    "\n",
    "    append!(tempos, data[data .< upper .&& data .> lower]./data_mean)\n",
    "end\n",
    "\n",
    "tempos2 = []\n",
    "for C in [10, 20, 40, 60, 80, 100, 150, 200, 250]\n",
    "    # calculate summary statistics\n",
    "    data = df[df.C .== C .&& df.HMenorJ .== true, :].Jmin\n",
    "    data_mean, data_std = mean(data), std(data)\n",
    "\n",
    "    # identify outliers\n",
    "    cut_off = data_std * 3\n",
    "    lower, upper = data_mean - cut_off, data_mean + cut_off\n",
    "\n",
    "    append!(tempos2, data[data .< upper .&& data .> lower]./data_mean)\n",
    "end\n",
    "boxplot([\"Sem Heurística\" \"Com Heurística\"], [tempos, tempos2],tempos,leg=false,ytickfontsize=12,xtickfontsize=12,ylabelfontsize=12)\n",
    "\n",
    "ylabel!(\"Jmin normalizado\")\n",
    "savefig(\"comparacao_jmin.png\")"
   ]
  },
  {
   "cell_type": "code",
   "execution_count": 103,
   "id": "universal-hundred",
   "metadata": {},
   "outputs": [
    {
     "name": "stdout",
     "output_type": "stream",
     "text": [
      "10 - 100.0\n",
      "20 - 100.0\n",
      "40 - 74.0\n",
      "60 - 33.5\n",
      "80 - 11.5\n",
      "100 - 5.0\n",
      "150 - 1.0\n",
      "200 - 1.3333333333333335\n",
      "250 - 0.5\n",
      "\n",
      "10 - 100.0\n",
      "20 - 100.0\n",
      "40 - 74.0\n",
      "60 - 31.0\n",
      "80 - 10.5\n",
      "100 - 2.5\n",
      "150 - 0.0\n",
      "200 - 0.0\n",
      "250 - 0.0\n"
     ]
    }
   ],
   "source": [
    "for C in [10, 20, 40, 60, 80, 100, 150, 200, 250]\n",
    "    # calculate summary statistics\n",
    "    data = df[df.C .== C .&& df.HMenorJ .== false, :].O\n",
    "#     data_mean, data_std = mean(data), std(data)\n",
    "\n",
    "    # identify outliers\n",
    "#     cut_off = data_std * 3\n",
    "#     lower, upper = data_mean - cut_off, data_mean + cut_off\n",
    "    \n",
    "#     Js = data[data .< upper .&& data .> lower]\n",
    "\n",
    "    println(C, \" - \", sum(data)/length(data)*100)\n",
    "end\n",
    "println()\n",
    "for C in [10, 20, 40, 60, 80, 100, 150, 200, 250]\n",
    "    # calculate summary statistics\n",
    "    data = df[df.C .== C .&& df.HMenorJ .== true, :].O\n",
    "#     data_mean, data_std = mean(data), std(data)\n",
    "\n",
    "    # identify outliers\n",
    "#     cut_off = data_std * 3\n",
    "#     lower, upper = data_mean - cut_off, data_mean + cut_off\n",
    "    \n",
    "#     Js = data[data .< upper .&& data .> lower]\n",
    "\n",
    "    println(C, \" - \", sum(data)/length(data)*100)\n",
    "end"
   ]
  },
  {
   "cell_type": "code",
   "execution_count": 4,
   "id": "processed-peninsula",
   "metadata": {},
   "outputs": [
    {
     "name": "stdout",
     "output_type": "stream",
     "text": [
      "\n",
      "10 - 0.008329663000000003\n",
      "20 - 0.010233706999999998\n",
      "40 - 0.031508009000000003\n",
      "60 - 0.20985301099999998\n",
      "80 - 0.280092106\n",
      "100 - 0.56445713325\n",
      "150 - 1.473886847\n",
      "200 - 7.059081931333333\n",
      "250 - 33.389167112\n",
      "\n",
      "10 - 0.008330658000000001\n",
      "20 - 0.009943644000000003\n",
      "40 - 0.028899750999999994\n",
      "60 - 0.18510656099999998\n",
      "80 - 0.2940997755\n",
      "100 - 0.594137284\n",
      "150 - 1.4762660499999998\n",
      "200 - 7.275670453999999\n",
      "250 - 35.54990062466666\n"
     ]
    }
   ],
   "source": [
    "println()\n",
    "for C in [10, 20, 40, 60, 80, 100, 150, 200, 250]\n",
    "    data = df[df.C .== C .&& df.HMenorJ .== false, :].Tempo\n",
    "    println(C, \" - \", sum(data)/length(data))\n",
    "end\n",
    "\n",
    "println()\n",
    "for C in [10, 20, 40, 60, 80, 100, 150, 200, 250]\n",
    "    data = df[df.C .== C .&& df.HMenorJ .== true, :].Tempo\n",
    "    println(C, \" - \", sum(data)/length(data))\n",
    "end"
   ]
  }
 ],
 "metadata": {
  "kernelspec": {
   "display_name": "Julia 1.7.2",
   "language": "julia",
   "name": "julia-1.7"
  },
  "language_info": {
   "file_extension": ".jl",
   "mimetype": "application/julia",
   "name": "julia",
   "version": "1.7.2"
  }
 },
 "nbformat": 4,
 "nbformat_minor": 5
}
