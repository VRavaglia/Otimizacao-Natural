{
 "cells": [
  {
   "cell_type": "markdown",
   "id": "inner-there",
   "metadata": {},
   "source": [
    "O problema analizado é o caixeiro viajante com cidades dispostas ao longo de uma esctrela. O problema é equivalente ao de cidades dispostas ao longo de um circulo, mas com raio variável. Os mínimos continuam sendo os casos em que as cidades seguem ordem crescente ou decrescente."
   ]
  },
  {
   "cell_type": "code",
   "execution_count": 18,
   "id": "directed-howard",
   "metadata": {
    "tags": []
   },
   "outputs": [],
   "source": [
    "using Random\n",
    "using LinearAlgebra\n",
    "using Plots; gr()\n",
    "using TimerOutputs\n",
    "using Waveforms\n",
    "using ProgressMeter\n",
    "\n",
    "cidades = 80\n",
    "raioBase = 0.8506508\n",
    "\n",
    "fatorNormalizacao = 1\n",
    "raioPentagono = (raioBase .+ 0.2*trianglewave.(10*pi.*(0:cidades-1)./(cidades)) .+ 0.2)\n",
    "x = raioPentagono.*[cos.(2 .* pi .* (0:cidades-1) ./ cidades) sin.(2 .* pi .* (0:cidades-1) ./ cidades)];\n",
    "\n",
    "HMenorJ = false\n",
    "N = 1e5\n",
    "T0 = 0.2\n",
    "Kmax = 300\n",
    "Jmin = 1e4\n",
    "ordemMin = []\n",
    "ordemOtima = 1:cidades\n",
    "Js = []\n",
    "Ts = []\n",
    "distancias = []\n",
    "temperaturas = [];"
   ]
  },
  {
   "cell_type": "code",
   "execution_count": 19,
   "id": "proof-plenty",
   "metadata": {},
   "outputs": [
    {
     "data": {
      "text/plain": [
       "7.724788095334695"
      ]
     },
     "execution_count": 19,
     "metadata": {},
     "output_type": "execute_result"
    }
   ],
   "source": [
    "# O custo é a distancia total percorrida\n",
    "custos = zeros(cidades, cidades)\n",
    "\n",
    "for i = 1:cidades\n",
    "    for j = 1:cidades\n",
    "        custos[i, j] = norm(x[i, :]-x[j, :])\n",
    "    end\n",
    "end\n",
    "\n",
    "function J(ordem)\n",
    "    distTot = 0\n",
    "    dist = 0\n",
    "    for i = 2:cidades\n",
    "        dist = custos[ordem[i], ordem[i-1]]\n",
    "        distTot += dist     \n",
    "    end\n",
    "    \n",
    "    distTot += custos[ordem[end], ordem[1]]\n",
    "    \n",
    "    return distTot\n",
    "end\n",
    "\n",
    "Jotimo = J(ordemOtima)"
   ]
  },
  {
   "cell_type": "code",
   "execution_count": null,
   "id": "future-frank",
   "metadata": {},
   "outputs": [
    {
     "name": "stderr",
     "output_type": "stream",
     "text": [
      "\u001b[32mComputing... 100%|███████████████████████████████████████| Time: 0:20:29\u001b[39m\n",
      "\u001b[32mComputing... 100%|███████████████████████████████████████| Time: 0:46:46\u001b[39m\n",
      "\u001b[32mComputing... 100%|███████████████████████████████████████| Time: 0:55:29\u001b[39m\n",
      "\u001b[32mComputing...  74%|█████████████████████████████          |  ETA: 0:18:24\u001b[39m"
     ]
    }
   ],
   "source": [
    "# # Simulated Annealing\n",
    "fim = false\n",
    "seedFinal = 0\n",
    "tempoFinal = 0\n",
    "distancias = []\n",
    "temperaturas = []\n",
    "ultimoMelhor = zeros(3, 1)\n",
    "ultimoMelhor[3] = 1e4\n",
    "time = @elapsed begin\n",
    "for seed = 6:10\n",
    "    Random.seed!(seed);\n",
    "    \n",
    "    Jatual = 1e4\n",
    "    Jmin = Jatual\n",
    "    T = T0\n",
    "    Js = []\n",
    "    Ts = []\n",
    "    \n",
    "    \n",
    "    # Ordem de caminhos inicial aleatoria\n",
    "    ordem = [1; shuffle(2:cidades)]\n",
    "    ordemHat = copy(ordem)\n",
    "    ordemMin = copy(ordem)\n",
    "        \n",
    "    \n",
    "        @showprogress 1 \"Computing...\" for k = 1:Kmax\n",
    "            for n = 1:N\n",
    "                # Troca duas cidades de ordem de maneira aleatoria, exceto a primeira que é sempre a mesma\n",
    "                idx = rand(2:cidades)\n",
    "                idx2 = rand(2:cidades)\n",
    "                while idx2 == idx\n",
    "                    idx2 = rand(2:cidades)\n",
    "                end\n",
    "                ordemHat = copy(ordem)\n",
    "                ordemHat[idx], ordemHat[idx2] = ordem[idx2], ordem[idx]\n",
    "\n",
    "                Jit = J(ordemHat)\n",
    "\n",
    "                q = exp((Jatual-Jit)/T)\n",
    "                r = rand()\n",
    "\n",
    "                if r < q\n",
    "                    ordem = copy(ordemHat)\n",
    "                    Jatual = Jit\n",
    "                end    \n",
    "\n",
    "                if Jit < Jmin\n",
    "                    Jmin = Jit\n",
    "                    if Jmin < ultimoMelhor[3]\n",
    "                        ultimoMelhor = [k; n; Jmin]\n",
    "                    end\n",
    "                    ordemMin = copy(ordemHat)\n",
    "                    if (Jmin - Jotimo) < 0.001\n",
    "                        append!(distancias, Jit)\n",
    "                        append!(temperaturas,T)\n",
    "                        println(\"\\nMinimo\")\n",
    "#                         tempoFinal = time\n",
    "                        seedFinal = seed\n",
    "                        fim = true\n",
    "                        break\n",
    "                    end\n",
    "                end\n",
    "\n",
    "                append!(distancias, Jit)\n",
    "                append!(temperaturas,T)\n",
    "            end\n",
    "            if fim\n",
    "                break\n",
    "            end\n",
    "            T = T0/(log2(1 + k))\n",
    "\n",
    "            if HMenorJ\n",
    "                ordem = copy(ordemMin)\n",
    "            end\n",
    "        end\n",
    "        if fim\n",
    "            break\n",
    "        end\n",
    "    end   \n",
    "end\n",
    "println(\"Tempo necessário:\\n\", time)\n",
    "println(\"Status do minimo: \", ultimoMelhor)\n",
    "tempoFinal = time;"
   ]
  },
  {
   "cell_type": "code",
   "execution_count": null,
   "id": "announced-analyst",
   "metadata": {},
   "outputs": [],
   "source": [
    "\n",
    "# Visualização do resultado final\n",
    "\n",
    "\n",
    "println(\"Jmin: \", Jmin)\n",
    "println(\"Jotimo: \", Jotimo)\n",
    "plot([0], [0], seriestype = :scatter, xlim=[-1.5, 1.5], ylim=[-1.5, 1.5], size = (500, 500), grid = true)\n",
    "xt(t) = sin(t)*raioBase\n",
    "yt(t) = cos(t)*raioBase\n",
    "plot!(xt, yt, 0, 2*pi, leg=false)\n",
    "plot!(x[:, 1], x[:, 2], seriestype = :scatter, mode=\"markers+text\", text=0:cidades-1)\n",
    "\n",
    "\n",
    "quiver!(x[ordemMin, 1],x[ordemMin, 2],quiver=(x[[ordemMin[2:end]; 1], 1] - x[ordemMin, 1],x[[ordemMin[2:end]; 1], 2] - x[ordemMin, 2])) \n",
    "# quiver!(x[ordemOtima, 1],x[ordemOtima, 2],quiver=(x[[ordemOtima[2:end]; 1], 1] - x[ordemOtima, 1],x[[ordemOtima[2:end]; 1], 2] - x[ordemOtima, 2])) \n",
    "\n"
   ]
  },
  {
   "cell_type": "code",
   "execution_count": null,
   "id": "naughty-closure",
   "metadata": {},
   "outputs": [],
   "source": [
    "step = 1000\n",
    "start = 30000000\n",
    "start = 1\n",
    "plot(start:step:length(distancias), distancias[start:step:end], label = \"J\", lw = 3, size = (1000, 200))\n",
    "plot!(start:step:length(distancias), ones(length(distancias[start:step:end]), 1)*Jotimo, label = \"Jotimo\", lw = 3)\n",
    "plot!(start:step:length(distancias), temperaturas[start:step:end]*maximum(distancias), label = \"Temperaturas x max(J)\", lw = 3)\n",
    "# xlabel!(\"Iterações\")\n",
    "ylabel!(\"Custo\")\n",
    "# savefig(string(\"custo_\", cidades, HMenorJ, \".png\"))"
   ]
  },
  {
   "cell_type": "code",
   "execution_count": null,
   "id": "north-arcade",
   "metadata": {},
   "outputs": [],
   "source": [
    "\n",
    "\n",
    "otimo = false\n",
    "if (Jmin - Jotimo) < 0.001\n",
    "    otimo = true\n",
    "end\n",
    "# header: C,T,N,Kmax,Jmin,Tempo,HMenorJ,O\n",
    "resultados = string(cidades, \",\", T0 ,\",\" , N , \",\" , Kmax , \",\" , Jmin , \",\" , tempoFinal, \",\", HMenorJ, \",\" , seedFinal , \",\", otimo, \"\\n\")\n",
    "println(resultados)\n",
    "\n",
    "open(\"resultados2.csv\",\"a\") do io\n",
    "    write(io, resultados)\n",
    "end;"
   ]
  }
 ],
 "metadata": {
  "kernelspec": {
   "display_name": "Julia 1.7.2",
   "language": "julia",
   "name": "julia-1.7"
  },
  "language_info": {
   "file_extension": ".jl",
   "mimetype": "application/julia",
   "name": "julia",
   "version": "1.7.2"
  }
 },
 "nbformat": 4,
 "nbformat_minor": 5
}
