{
 "cells": [
  {
   "cell_type": "markdown",
   "metadata": {},
   "source": [
    "# Trabalho 1"
   ]
  },
  {
   "cell_type": "code",
   "execution_count": 29,
   "metadata": {},
   "outputs": [],
   "source": [
    "import random\n",
    "import math\n",
    "import numpy as np\n",
    "import matplotlib.pyplot as plt\n",
    "\n",
    "# Ordem de caminhos inicial aleatoria\n",
    "cidades = 20\n",
    "ordem = np.arange(cidades)\n",
    "np.random.shuffle(ordem[1:])\n",
    "ordemHat = ordem\n",
    "\n",
    "\n",
    "# Pentagono com as posicoes de cada cidade\n",
    "x = []\n",
    "raio = 2\n",
    "for i in range(0, cidades):\n",
    "    r = random.uniform(0.5, 2)\n",
    "    x.append([raio*np.cos(i*2*np.pi/cidades)*r, raio*np.sin(i*2*np.pi/cidades)*r])\n",
    "\n",
    "x = np.array(x)\n",
    "\n",
    "N = 1e3\n",
    "ordemMin = ordem\n",
    "Jatual = 1e6\n",
    "Jmin = Jatual\n",
    "Js = []\n",
    "n = 0\n",
    "\n",
    "T0 = 1e-2\n",
    "T = T0\n",
    "Ts = []\n",
    "Kmax = 20\n",
    "distancias = []\n",
    "k = 1\n",
    "\n",
    "# O custo é a distancia total percurrida\n",
    "def J(ordem):\n",
    "    distTot = 0\n",
    "    iAnterior = 0\n",
    "    for i in ordem[1:]:\n",
    "        dist = np.linalg.norm(x[i]-x[iAnterior])\n",
    "        iAnterior = i\n",
    "        distTot += dist\n",
    "        \n",
    "    dist = np.linalg.norm(x[i]-x[0])\n",
    "    distTot += dist\n",
    "    return distTot\n",
    "\n",
    "\n",
    "# Simulated Annealing\n",
    "while k < Kmax:\n",
    "    n += 1\n",
    "    \n",
    "    # Troca duas cidades de ordem de maneira aleatoria, exceto a primeira que é sempre a mesma\n",
    "    idx = random.randint(1, cidades-1)\n",
    "    idx2 = random.randint(1, cidades-1) \n",
    "    ordemHat[idx], ordemHat[idx2] = ordem[idx2], ordem[idx]\n",
    "            \n",
    "    Jit = J(ordemHat)\n",
    "    \n",
    "    q = np.exp((Jatual-Jit)/T)\n",
    "    r = random.uniform(0, 1)\n",
    "    \n",
    "    if r < q:\n",
    "        ordem = ordemHat\n",
    "        Jatual = Jit\n",
    "        \n",
    "    \n",
    "    if Jit < Jmin:\n",
    "        Jmin = Jit\n",
    "        ordemMin = ordemHat   \n",
    "             \n",
    "    if n % N == 0:\n",
    "        k += 1\n",
    "        T = T0/(np.log2(1 + k))\n",
    "\n",
    "    distancias.append(Jit)\n",
    "\n"
   ]
  },
  {
   "cell_type": "code",
   "execution_count": 33,
   "metadata": {
    "scrolled": true
   },
   "outputs": [
    {
     "name": "stdout",
     "output_type": "stream",
     "text": [
      "Distância mínima encontrada:  50.197684501425286\n"
     ]
    },
    {
     "data": {
      "image/png": "[encoded data removed]",
      "text/plain": [
       "<Figure size 288x288 with 1 Axes>"
      ]
     },
     "metadata": {
      "needs_background": "light"
     },
     "output_type": "display_data"
    }
   ],
   "source": [
    "# Visualização do resultado final\n",
    "fig, ax = plt.subplots(figsize=(4, 4))\n",
    "ax.scatter(x[:,0], x[:,1])\n",
    "ax.scatter(0, 0)\n",
    "ax.add_patch(plt.Circle((0, 0), raio, color='r', fill=False))\n",
    "plt.xlim([-2*raio, 2*raio])\n",
    "plt.ylim([-2*raio, 2*raio])\n",
    "\n",
    "\n",
    "for i in ordemMin[1:]:\n",
    "    plt.arrow(x=x[i, 0], y=x[i, 1], dx=(x[i-1, 0]-x[i, 0]), dy=(x[i-1, 1]-x[i, 1]), width=.03, facecolor='black', edgecolor='none')\n",
    "#     ax.annotate(text=str(i-1), xy=(x[i]), xytext=(x[i-1]), color='r', arrowprops=dict(arrowstyle='->'))\n",
    "\n",
    "# ax.annotate(text=str(9), xy=(x[0]), xytext=(x[9]), color='r', arrowprops=dict(arrowstyle='->'))\n",
    "plt.arrow(x=x[0, 0], y=x[0, 1], dx=(x[cidades-1, 0]-x[0, 0]), dy=(x[cidades-1, 1]-x[0, 1]), width=.03, facecolor='black', edgecolor='none')\n",
    "# ax.annotate(text=\"Distancia minima: \" + str(Jmin), xy=(-0.8,1.2), xytext=(-0.8,1.2))\n",
    "print(\"Distância mínima encontrada: \", Jmin)\n",
    "plt.show()"
   ]
  }
 ],
 "metadata": {
  "kernelspec": {
   "display_name": "Python 3",
   "language": "python",
   "name": "python3"
  },
  "language_info": {
   "codemirror_mode": {
    "name": "ipython",
    "version": 3
   },
   "file_extension": ".py",
   "mimetype": "text/x-python",
   "name": "python",
   "nbconvert_exporter": "python",
   "pygments_lexer": "ipython3",
   "version": "3.7.1"
  }
 },
 "nbformat": 4,
 "nbformat_minor": 2
}
