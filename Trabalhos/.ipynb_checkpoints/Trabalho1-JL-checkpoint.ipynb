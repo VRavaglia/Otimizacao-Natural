{
 "cells": [
  {
   "cell_type": "markdown",
   "id": "yellow-climb",
   "metadata": {},
   "source": [
    "O problema analizado é o caixeiro viajante com cidades dispostas ao longo de uma esctrela. O problema é equivalente ao de cidades dispostas ao longo de um circulo, mas com raio variável. Os mínimos continuam sendo os casos em que as cidades seguem ordem crescente ou decrescente."
   ]
  },
  {
   "cell_type": "code",
   "execution_count": 7,
   "id": "cellular-return",
   "metadata": {
    "tags": []
   },
   "outputs": [
    {
     "data": {
      "text/plain": [
       "1:40"
      ]
     },
     "execution_count": 7,
     "metadata": {},
     "output_type": "execute_result"
    }
   ],
   "source": [
    "using Random\n",
    "using LinearAlgebra\n",
    "using Plots; gr()\n",
    "using TimerOutputs\n",
    "using Waveforms\n",
    "\n",
    "# Ordem de caminhos inicial aleatoria\n",
    "cidades = 40\n",
    "ordem = [1; shuffle(2:cidades)]\n",
    "ordemHat = copy(ordem)\n",
    "ordemMin = copy(ordem)\n",
    "\n",
    "# Estrela com as posicoes de cada cidade\n",
    "raioBase = 0.8506508\n",
    "fatorNormalizacao = 1\n",
    "raioPentagono = (raioBase .+ 0.2*trianglewave.(10*pi.*(0:cidades-1)./(cidades)) .+ 0.2)\n",
    "x = raioPentagono.*[cos.(2 .* pi .* (0:cidades-1) ./ cidades) sin.(2 .* pi .* (0:cidades-1) ./ cidades)];\n",
    "\n",
    "HMenorJ = false\n",
    "N = 1e5\n",
    "Jatual = 1e6\n",
    "Jmin = Jatual\n",
    "Js = []\n",
    "n = 0\n",
    "T0 = 0.8\n",
    "T = T0\n",
    "Ts = []\n",
    "Kmax = 30\n",
    "distancias = []\n",
    "temperaturas = []\n",
    "k = 1\n",
    "its = 0\n",
    "ordemOtima = 1:cidades"
   ]
  },
  {
   "cell_type": "code",
   "execution_count": 8,
   "id": "dedicated-modification",
   "metadata": {},
   "outputs": [
    {
     "data": {
      "text/plain": [
       "7.715181780958084"
      ]
     },
     "execution_count": 8,
     "metadata": {},
     "output_type": "execute_result"
    }
   ],
   "source": [
    "# O custo é a distancia total percorrida\n",
    "function J(ordem)\n",
    "    distTot = 0\n",
    "    dist = 0\n",
    "    for i = 2:cidades\n",
    "        dist = norm(x[ordem[i], :]-x[ordem[i-1], :])\n",
    "        distTot += dist     \n",
    "    end\n",
    "    \n",
    "    dist = norm(x[ordem[end], :]-x[ordem[1], :])\n",
    "    \n",
    "    distTot += dist\n",
    "    \n",
    "    return distTot\n",
    "end\n",
    "Jotimo = J(ordemOtima)"
   ]
  },
  {
   "cell_type": "code",
   "execution_count": null,
   "id": "limiting-plain",
   "metadata": {},
   "outputs": [],
   "source": [
    "# @time begin\n",
    "# # Simulated Annealing\n",
    "time = @elapsed begin\n",
    "while k < Kmax\n",
    "    n += 1\n",
    "    \n",
    "    # Troca duas cidades de ordem de maneira aleatoria, exceto a primeira que é sempre a mesma\n",
    "    idx = rand(2:cidades)\n",
    "    idx2 = rand(2:cidades)\n",
    "    while idx2 == idx\n",
    "        idx2 = rand(2:cidades)\n",
    "    end\n",
    "    ordemHat = copy(ordem)\n",
    "    ordemHat[idx], ordemHat[idx2] = ordem[idx2], ordem[idx]\n",
    "            \n",
    "    Jit = J(ordemHat)\n",
    "    \n",
    "    q = exp((Jatual-Jit)/T)\n",
    "    r = rand()\n",
    "    \n",
    "    if r < q\n",
    "        ordem = copy(ordemHat)\n",
    "        Jatual = Jit\n",
    "    end    \n",
    "        \n",
    "    if Jit < Jmin\n",
    "        Jmin = Jit\n",
    "        \n",
    "        ordemMin = copy(ordemHat)\n",
    "        if (Jmin - Jotimo) < 0.001\n",
    "            append!(distancias, Jit)\n",
    "            append!(temperaturas,T)\n",
    "            break\n",
    "        end\n",
    "    end\n",
    "             \n",
    "    if n % N == 0\n",
    "        k += 1\n",
    "\n",
    "        T = T0/(log2(1 + k))\n",
    "\n",
    "        if HMenorJ\n",
    "            ordem = copy(ordemMin)\n",
    "        end\n",
    "         println(\"Calculando: \", 100/Kmax*k, \"%\")\n",
    "    end\n",
    "\n",
    "    append!(distancias, Jit)\n",
    "    append!(temperaturas,T)\n",
    "end\n",
    "end\n",
    "println(\"Tempo necessário:\\n\", time)"
   ]
  },
  {
   "cell_type": "code",
   "execution_count": null,
   "id": "veterinary-journalist",
   "metadata": {},
   "outputs": [],
   "source": [
    "\n",
    "# Visualização do resultado final\n",
    "\n",
    "\n",
    "println(\"Jmin: \", Jmin)\n",
    "println(\"Jotimo: \", Jotimo)\n",
    "plot([0], [0], seriestype = :scatter, xlim=[-1.5, 1.5], ylim=[-1.5, 1.5], size = (500, 500), grid = true)\n",
    "xt(t) = sin(t)*raioBase\n",
    "yt(t) = cos(t)*raioBase\n",
    "plot!(xt, yt, 0, 2*pi, leg=false)\n",
    "plot!(x[:, 1], x[:, 2], seriestype = :scatter, mode=\"markers+text\", text=0:cidades-1)\n",
    "\n",
    "\n",
    "quiver!(x[ordemMin, 1],x[ordemMin, 2],quiver=(x[[ordemMin[2:end]; 1], 1] - x[ordemMin, 1],x[[ordemMin[2:end]; 1], 2] - x[ordemMin, 2])) \n",
    "# quiver!(x[ordemOtima, 1],x[ordemOtima, 2],quiver=(x[[ordemOtima[2:end]; 1], 1] - x[ordemOtima, 1],x[[ordemOtima[2:end]; 1], 2] - x[ordemOtima, 2])) \n",
    "\n"
   ]
  },
  {
   "cell_type": "code",
   "execution_count": null,
   "id": "harmful-pressing",
   "metadata": {},
   "outputs": [],
   "source": [
    "step = 10\n",
    "plot(1:step:length(distancias), distancias[1:step:end], label = \"J\", lw = 3, size = (500, 200))\n",
    "plot!(1:step:length(distancias), ones(length(distancias[1:step:end]), 1)*Jotimo, label = \"Jotimo\", lw = 3)\n",
    "plot!(1:step:length(distancias), temperaturas[1:step:end]*maximum(distancias), label = \"Temperaturas x max(J)\", lw = 3)\n",
    "# xlabel!(\"Iterações\")\n",
    "ylabel!(\"Custo\")\n",
    "# savefig(string(\"custo_\", cidades, HMenorJ, \".png\"))"
   ]
  },
  {
   "cell_type": "code",
   "execution_count": null,
   "id": "specific-conversation",
   "metadata": {},
   "outputs": [],
   "source": [
    "\n",
    "\n",
    "otimo = false\n",
    "if (Jmin - Jotimo) < 0.001\n",
    "    otimo = true\n",
    "end\n",
    "# header: C,T,N,Kmax,Jmin,Tempo,HMenorJ,O\n",
    "resultados = string(cidades, \",\", T0 ,\",\" , N , \",\" , Kmax , \",\" , Jmin , \",\" , time, \",\", HMenorJ, \",\", otimo, \"\\n\")\n",
    "println(resultados)\n",
    "\n",
    "open(\"resultados.csv\",\"a\") do io\n",
    "    write(io, resultados)\n",
    "end;"
   ]
  }
 ],
 "metadata": {
  "kernelspec": {
   "display_name": "Julia 1.7.2",
   "language": "julia",
   "name": "julia-1.7"
  },
  "language_info": {
   "file_extension": ".jl",
   "mimetype": "application/julia",
   "name": "julia",
   "version": "1.7.2"
  }
 },
 "nbformat": 4,
 "nbformat_minor": 5
}
