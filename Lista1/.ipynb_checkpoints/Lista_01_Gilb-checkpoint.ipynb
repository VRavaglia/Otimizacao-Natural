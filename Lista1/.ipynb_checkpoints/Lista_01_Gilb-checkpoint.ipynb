{
 "cells": [
  {
   "cell_type": "code",
   "execution_count": 18,
   "id": "381b231a",
   "metadata": {},
   "outputs": [],
   "source": [
    "import numpy as np\n",
    "import matplotlib.pyplot as pl\n",
    "\n",
    "pl.rcParams['figure.figsize'] = [16,8] #creates a y inch by x inch image\n",
    "pl.rcParams.update({'font.size': 18})"
   ]
  },
  {
   "cell_type": "markdown",
   "id": "cbad3ac9",
   "metadata": {},
   "source": [
    "# 1 - Método de Monte Carlo\n",
    "### a) Efetue as três primeiras iterações do cálculo de $\\int_0^1 x^3dx$, usando os três primeiros números aleatórios a seguir, que foram sorteados de uma distribuição uniforme no intervalo $[0,1]$: $$0.9501, 0.2311, 0.6068,...$$\n",
    "\n",
    "### b) Efetue as quatro primeiras iterações do cálculo de $\\int_0^1x^2e^{-x}dx$, usando os quatro primeiros números aleatórios a seguir, que foram sorteados de uma distribuição exponencial $f_x(x) = e^{-x}$ no intervalo $[0,+\\infty)$: $$0.0512, 1.4647, 0.4995, 0.7216,...$$\n",
    "\n",
    "&emsp; No método de Monte Carlo, dada uma integral $\\int_0^1 g(x)f_x(x)dx$, em que $f_x$ é uma distribuição de probabilidades e $g$ uma função qualquer que se deseja avaliar, o valor da referida integral pode ser estimada utilizando $\\frac{\\sum_{i=0}^Ng(x_i)}{N}$, onde $\\{x_i\\}_{i \\in \\mathbb{N}}$ é uma sequência de valores amostrados segundo a distribuição $f_x$ e $N$ um valor inteiro \"muito grande\". Uma maneira de calcular esse valor de maneira iterativa é notar que (considerar $I_N$ como o valor da estimativa da integral em questão utilizando $N$ amostras) \n",
    "\n",
    "$$ \\begin{align}\n",
    "    I_N = \\frac{\\sum_{i=0}^Ng(x_i)}{N} &= \\frac{N-1}{N}\\frac{\\sum_{i=0}^{N-1}g(x_i)}{N-1} + \\frac{g(x_N)}{N} \\\\\n",
    "    &= \\frac{N-1}{N}I_{N-1} + \\frac{g(x_N)}{N}.\n",
    "\\end{align} $$\n",
    "\n",
    "&emsp; A seguir, as iterações da avaliação das duas integrais. No primeiro caso, como ${x_i}$ é amostrado de uma distribuição uniforme, vale que $g(x) = x^3$. No segundo caso, como os valores são amostrados de uma distribuição exponencial de $[0,+\\infty)$, tem-se que $g(x) = \\begin{cases} x^2,~\\text{ se } x < 1; \\\\ 0,~\\text{ do contrário.}\\end{cases}$"
   ]
  },
  {
   "cell_type": "code",
   "execution_count": 2,
   "id": "801e559a",
   "metadata": {},
   "outputs": [
    {
     "name": "stdout",
     "output_type": "stream",
     "text": [
      "Item (a)\n",
      "I_1 = 0.858\n",
      "I_2 = 0.441\n",
      "I_3 = 0.406\n",
      "-------------------------\n",
      "Item (b)\n",
      "I_1 = 0.00262\n",
      "I_2 = 0.00131\n",
      "I_3 = 0.126\n",
      "I_4 = 0.268\n"
     ]
    }
   ],
   "source": [
    "print('Item (a)')\n",
    "g = lambda x: x**3\n",
    "x_i = [.9501, .2311, .6068]\n",
    "I = 0\n",
    "for i,val in enumerate(map(g, x_i)):\n",
    "    I = (i*I/(i+1) + val/i) if i > 0 else val\n",
    "    print(f'I_{i+1} = {I:.3g}')\n",
    "\n",
    "print('-'*25)\n",
    "\n",
    "print('Item (b)')\n",
    "pow_2 = lambda x: x**2\n",
    "g = lambda x: pow_2(x) if pow_2(x) < 1 else 0.  #garante que apenas os valores entre [0,1] participam da operação\n",
    "x_i = [.0512,1.4647,.4995,.7216]                #já que a integral é avaliada nesse intervalo\n",
    "I = 0\n",
    "for i,val in enumerate(map(g, x_i)):\n",
    "    I = (i*I/(i+1) + val/i) if i > 0 else val\n",
    "    print(f'I_{i+1} = {I:.3g}')"
   ]
  },
  {
   "cell_type": "markdown",
   "id": "6a225137",
   "metadata": {},
   "source": [
    "# 2 - (Algoritmo de Metropolis) Considere uma variável aleatória $X \\in \\{1,2,3,4,5\\}$ e uma função custo $J(x) = (x-3)^3$. Considere $T=1$.\n",
    "\n",
    "### a) Calcule os fatores de Boltzmann $exp(-J(x)/T)$, para $x=1,2,3,4,5$."
   ]
  },
  {
   "cell_type": "code",
   "execution_count": 3,
   "id": "67d3d1b9",
   "metadata": {},
   "outputs": [
    {
     "name": "stdout",
     "output_type": "stream",
     "text": [
      "x = 1 -- 0.0183\n",
      "x = 2 -- 0.368\n",
      "x = 3 -- 1\n",
      "x = 4 -- 0.368\n",
      "x = 5 -- 0.0183\n"
     ]
    }
   ],
   "source": [
    "J = lambda x: (x-3)**2\n",
    "Boltz = lambda x: np.exp(-J(x))\n",
    "\n",
    "for i in range(1,6):\n",
    "    print(f'x = {i} -- {Boltz(i):.3g}')"
   ]
  },
  {
   "cell_type": "markdown",
   "id": "a48ef882",
   "metadata": {},
   "source": [
    "### b) Proponha um algoritmo para gerar uma distribuição de Boltzmann/Gibbs para a variável alatória X, conforme os custos $J(x)$."
   ]
  },
  {
   "cell_type": "code",
   "execution_count": 4,
   "id": "9a8e16f8",
   "metadata": {
    "scrolled": true
   },
   "outputs": [
    {
     "data": {
      "image/png": "[encoded data removed]",
      "text/plain": [
       "<Figure size 432x288 with 1 Axes>"
      ]
     },
     "metadata": {
      "needs_background": "light"
     },
     "output_type": "display_data"
    }
   ],
   "source": [
    "R = lambda m,l: np.random.laplace(m,l)\n",
    "\n",
    "N = int(1e5)\n",
    "T = 1\n",
    "eps = .1\n",
    "X = [np.random.randint(1,5)]\n",
    "while len(X) < N:\n",
    "    x = X[-1]\n",
    "    x_hat = x + eps*R(0., .75)\n",
    "    X.append(x_hat if np.random.uniform() < np.exp((J(x) - J(x_hat))/T) else x)\n",
    "\n",
    "counts,bins = np.histogram(X)\n",
    "pl.hist(bins[:-1],bins,weights=counts)\n",
    "pl.grid(True)\n",
    "pl.show()"
   ]
  },
  {
   "cell_type": "markdown",
   "id": "23f1748c",
   "metadata": {},
   "source": [
    "# 3 - Escreva um algoritmo para gerar números $x(n)$ com energia $J(x) = x^2$, de forma que as probabilidades dos números gerados sejam proporcionais aos fatores de Boltzmann $\\exp(-J(x)/T)$, com temperatura $T=0.1$. Começando de um valor $x(0)$ qualquer, aplique sempre pertubações $\\epsilon R$ ao valor $x(n)$ atual.  Neste caso, $R$ é uma variável aleatória uniforme. Considere $\\epsilon=0.1$. Execute o algoritmo proposto no computador, calculando $x(n)$ até $n=100.000$."
   ]
  },
  {
   "cell_type": "code",
   "execution_count": 5,
   "id": "ace6baa3",
   "metadata": {},
   "outputs": [
    {
     "data": {
      "image/png": "[encoded data removed]",
      "text/plain": [
       "<Figure size 432x288 with 1 Axes>"
      ]
     },
     "metadata": {
      "needs_background": "light"
     },
     "output_type": "display_data"
    }
   ],
   "source": [
    "J = lambda x: x**2\n",
    "R = lambda x_min, x_max: np.random.uniform(x_min,x_max)\n",
    "\n",
    "N = int(1e5)\n",
    "T = eps = .1\n",
    "X = [np.random.randint(-2,2)]\n",
    "while len(X) < N:\n",
    "    x = X[-1]\n",
    "    x_hat = x + eps*R(-1,1)\n",
    "    X.append(x_hat if np.random.uniform() < np.exp((J(x) - J(x_hat))/T) else x)\n",
    "\n",
    "counts,bins = np.histogram(X)\n",
    "pl.hist(bins[:-1],bins,weights=counts)\n",
    "pl.grid(True)\n",
    "pl.show()"
   ]
  },
  {
   "cell_type": "markdown",
   "id": "36e6d1a1",
   "metadata": {},
   "source": [
    "# 4 - (Algoritmo Metropolis) Nos itens a seguir, considere o uso do algoritmo Metropolis e de uma variável aleatória R (com dois valores equiprováveis, ou seja, $p_R(0) = p_R(1) = 0.5$) para a geração de uma variável aleatória $X$ com função densidade de probabilidade arbitrária, dada por $f_x(x)$.\n",
    "\n",
    "### a) Qual deve ser a função custo $J(x)$, para que a densidade de probabilidade de $x$ seja $f_x(x)$?\n",
    "\n",
    "&emsp; O algoritmo metropolis gera uma distribuição de valores segundo $\\exp(-J(x)/T)$. Assim, se o que se deseja é gerar uma distribuição segundo $f_x$, é nescessário que $$f_x(x) = \\exp(-J(x)/T)z^{-1} \\Leftrightarrow \\ln{f_x(x)z} = -J(x)T^{-1} \\Leftrightarrow J(x) = -\\ln{f_x(x)z},$$ onde $z$ é um termo para normalizar a função e torna-la uma densidade de probabilidade.\n",
    "\n",
    "### b) Utilizando um pseudo-código, descreva o algoritmo de Metrópolis aplicado à geração da variável aleatória em questão. Defina e use os parâmetros (tamanho de pertubação, número de iterações, etc.) que você julgar nescessário."
   ]
  },
  {
   "cell_type": "markdown",
   "id": "e18bef95",
   "metadata": {},
   "source": [
    "# 5 - (Algoritmo de Metropolis) Considere a seguinte expressão: $$\\int_{|x_1| < 1}\\int_{|x_2| < 1} (x_1^2 + x_2^2)e^{-(x_1^2 + x_2^2)}dx_1dx_2$$\n",
    "\n",
    "### a) Escreva, utilizando um psedo-código, um programa para a geração de vetores aleátorios $(x_1,x_2)$ que tenham um densidade conveniente para a avaliação eficiente desta expressão."
   ]
  },
  {
   "cell_type": "code",
   "execution_count": 19,
   "id": "948118fb",
   "metadata": {},
   "outputs": [
    {
     "name": "stdout",
     "output_type": "stream",
     "text": [
      "F = 0.3603\n",
      "I = 0.2009\n"
     ]
    },
    {
     "data": {
      "image/png": "[encoded data removed]",
      "text/plain": [
       "<Figure size 1152x576 with 2 Axes>"
      ]
     },
     "metadata": {
      "needs_background": "light"
     },
     "output_type": "display_data"
    }
   ],
   "source": [
    "J = lambda x: sum([i**2 for i in x])\n",
    "R = lambda m, l, s: np.random.laplace(m,l,size=s)\n",
    "\n",
    "N = int(5e5)\n",
    "eps = .2\n",
    "x = np.array([0,0], dtype=np.float32)\n",
    "X = [x]\n",
    "F = n = 0\n",
    "M = round(.1*N)\n",
    "z = sum([np.exp(-J(i)) if all(i**2 < 1) else 0 for i in np.random.uniform(-1,1,size=(M,2))])/M\n",
    "J_x = J(x)\n",
    "while n < N:\n",
    "    x_hat = x + eps*R(0., 1., x.shape)\n",
    "    J_xhat = J(x_hat)\n",
    "    x = x_hat if np.random.uniform() < np.exp(J_x - J_xhat) else x\n",
    "    if all(x == x_hat):\n",
    "        J_x = J_xhat\n",
    "    if n > N-M:\n",
    "        F += J_x if all(x**2 < 1) else 0\n",
    "    X.append(x)\n",
    "    n += 1\n",
    "F /= M\n",
    "print(f'F = {F:.4g}')            #valor calculado pelo algortimo metropolis\n",
    "print(f'I = {F*z:.4g}')          #valor da integral\n",
    "\n",
    "#valores de X gerados pelo algoritmo\n",
    "X = np.concatenate([i.reshape(-1,1) for i in X], axis=1)\n",
    "pl.subplot(121)\n",
    "pl.title('All X')\n",
    "pl.hist2d(X[0],X[1])\n",
    "aux = list(filter(lambda x: all(x**2 < 1), [x for x in X.T]))\n",
    "aux = np.concatenate(list(map(lambda x: x.reshape(-1,1), aux)), axis=1)\n",
    "pl.subplot(122)\n",
    "pl.title('|X|_1 < 1')\n",
    "pl.hist2d(aux[0],aux[1])\n",
    "pl.show()"
   ]
  },
  {
   "cell_type": "markdown",
   "id": "67c821ca",
   "metadata": {},
   "source": [
    "### b) Explique como os vetores gerados pelo programa do item $(a)$ podem ser utilizados para a avaliação da integral.\n",
    "\n",
    "&emsp; O algoritmo de Metropolis permite calcular, numéricamente, de maneira o valor experado de uma função $f$ qualquer de uma variável aleatória que obedece a distribuição de Boltzmann-Gibbs, i.e., \n",
    "#### $$E[f(x)] = \\frac{\\int_{x_1}^{x_2} f(x) e^{\\frac{-J(x)}{KT}}dx}{\\int_{x_1}^{x_2}e^{\\frac{-J(x)}{KT}}}.$$\n",
    "Assim, fazendo $J(x)(KT)^{-1} = f(x) = ||x||^2$ e multiplicando o resultado obtido pelo algoritmo por $\\iint_{|x|_1<0}e^{-||x||^2}dx$, como feito no item anterior, pode-se obter o valor desejado."
   ]
  },
  {
   "cell_type": "markdown",
   "id": "87974871",
   "metadata": {},
   "source": [
    "# 6 - (Algoritmo de Metropolis) Nesta questão, consideramos o problema da descrição de todas as configurações possíveis de um sistema com $5$ partículas em duas dimensões. A posição de cada partícula é definida por um vetor $x_i$, $i = 1, 2, \\cdots, 5$ e o estado do sistema é definido pelo vetor $x$ contendo todas as $10$ coordenadas. Duas configurações particulares são mostradas na figura do item $(b)$. A função custo na qual estamos interessados é uma combinação linear entre a soma das normas dos vetores $x_i$ e a soma das \"repulsões eletrostáticas\" entre as partículas, imaginando o caso em que todas são positivas: \n",
    "## $$J(x) = \\sum_i ||x_i||^2 + \\sum_{i \\neq j} \\frac{1}{||x_i - x_j||^2}.$$\n",
    "\n",
    "### a) Escreva, utilizando um pseudo-código, uma implementação do algortimo de Metropolis que, para temperatura $T$ e a partir de uma configuração inicial qualquer, permita a geração de estados seguindo uma distribuição de Boltzmann em função dos seus custos $J$."
   ]
  },
  {
   "cell_type": "code",
   "execution_count": 22,
   "id": "e52805db",
   "metadata": {},
   "outputs": [
    {
     "name": "stdout",
     "output_type": "stream",
     "text": [
      "F = 0.04945\n",
      "X =\n",
      "[[-1.2507952   1.22825201  0.22038862  1.19423004  0.88707756]\n",
      " [ 0.3659354  -0.11762954  0.47152865 -0.10574105  0.63939932]\n",
      " [ 0.38752414 -1.53785284  0.25172488  0.76121472 -0.54449975]\n",
      " [-1.0289289  -0.69040851 -1.74451471 -0.19988545 -0.5991866 ]\n",
      " [-1.11671954  0.59866046 -1.09288416  0.71500038 -0.10474747]\n",
      " [ 0.18875438  0.86528735  0.65396213 -1.49145343 -0.26305017]\n",
      " [-0.69601983  0.5115792   1.08332723 -0.93588711 -0.61846792]\n",
      " [-1.36616001  0.86745927  0.91706074 -0.01056571 -1.13903869]\n",
      " [-0.11839685 -1.24337835  0.28105078 -1.07131785 -2.2218669 ]\n",
      " [ 1.50745553 -1.26216881  1.21520998 -0.3434018   1.6519228 ]]\n"
     ]
    }
   ],
   "source": [
    "#functions\n",
    "sq_norm = lambda x: sum(i**2 for i in x)                                             #||x||^2\n",
    "sq_diff = lambda x,y: sq_norm(x-y)                                                   #||x - y||^2\n",
    "J_a = lambda X: sum([sq_norm(x) for x in X])                                         #primeiro termo de J(x)\n",
    "J_b = lambda X: sum([1/sq_diff(x,y) for y in X[i+1:] for i,x in enumerate(X[:-1])])  #segundo termo de J(x)\n",
    "J = lambda X: J_a(X) + J_b(X)\n",
    "R = lambda m, l, s: np.random.laplace(m,l,size=s)\n",
    "\n",
    "#initialization\n",
    "N = int(1e5)\n",
    "M = round(.1*N)\n",
    "F = n = 0\n",
    "T = .01\n",
    "eps = 1e-3\n",
    "X = np.random.normal(0,1,size=(10,5))\n",
    "for i,x in enumerate(X.T[:-1]):\n",
    "\tfor j,y in enumerate(X.T[i+1:]):\n",
    "\t\tif all(x == y):\n",
    "\t\t\tX[i+j+1,0] += eps*np.random.normal(0,1)\n",
    "\n",
    "#Metropolis\n",
    "J_X = J(X.T)\n",
    "X_hat = X.copy()\n",
    "while n < N:\n",
    "\tX_hat[:] = X + eps*R(0., 1., X.shape)\n",
    "\tJ_Xhat = J(X_hat.T)\n",
    "\tX[:] = X_hat if np.random.uniform() < np.exp((J_X - J_Xhat)/T) else X\n",
    "\tif np.allclose(X,X_hat):\n",
    "\t\tJ_X = J_xhat\n",
    "\tif n > N-M:\n",
    "\t\tF += J_X\n",
    "\tn += 1\n",
    "F /= M\n",
    "print(f'F = {F:.4g}')\n",
    "print(f'X =\\n{X}')"
   ]
  },
  {
   "cell_type": "markdown",
   "id": "b105fee0",
   "metadata": {},
   "source": [
    "### b) Para as duas soluções locais (figuras na prova de 2012), uma expressão simplificada para $J$ pode ser calculada em função da variável escalar positiva $r$: $$J_1(r) = 4r^2 + \\frac{6.5}{r^2}~~~~\\text{ e }~~~~J_2(r) = 5r^2 + \\frac{5}{r^2}.$$ Assumindo $T = 0.1$, calcule a proporção entre as probabiliades de um estado que tem configuração da direita ($J_1$) com $r = 1.0000$ e outro estado que tem configuração da esquerda ($J_2$) com $r = 1.1291$."
   ]
  },
  {
   "cell_type": "code",
   "execution_count": 21,
   "id": "86972a63",
   "metadata": {},
   "outputs": [
    {
     "data": {
      "text/plain": [
       "0.1304355271318415"
      ]
     },
     "execution_count": 21,
     "metadata": {},
     "output_type": "execute_result"
    }
   ],
   "source": [
    "J_1 = lambda r: 4*r**2 + 6.5/(r**2)\n",
    "J_2 = lambda r: 5*r**2 + 5/(r**2)\n",
    "\n",
    "J_c1 = J_1(1.)\n",
    "J_c2 = J_2(1.1291)\n",
    "T = .1\n",
    "\n",
    "#v_c1/v_c2 = exp(-J_c1/T)/exp(-J_c2/T) = exp((J_c2 - J_c1)/T)\n",
    "np.exp((J_c2 - J_c1)/T)"
   ]
  },
  {
   "cell_type": "markdown",
   "id": "f25108c5",
   "metadata": {},
   "source": [
    "### c) Considere a definição da variável aleatória \"distância média à origem\": $L(x) = \\frac{1}{5}\\sum_i||x_i||$. Explique como o algoritmo do item $(a)$ é modificado, de forma que possamos calcular o valor médio de $L$ a uma temperatura $T$ arbitrária."
   ]
  },
  {
   "cell_type": "code",
   "execution_count": 24,
   "id": "9a13d494",
   "metadata": {},
   "outputs": [
    {
     "name": "stdout",
     "output_type": "stream",
     "text": [
      "F = 4.945e-10\n",
      "X =\n",
      "[[ 0.18356599 -1.74259915  0.94386331 -0.27711563 -1.61520959]\n",
      " [-0.16015876 -0.11314813 -0.65383586  0.42855253  0.49693489]\n",
      " [ 2.13628497 -2.29811174 -1.29135366 -0.23524338  0.31316763]\n",
      " [ 0.0487965   0.55380942 -0.09113055  1.93279604 -1.5133122 ]\n",
      " [ 0.93455543 -1.45780258  0.83709812  0.29546582 -0.76280949]\n",
      " [ 3.06312633  0.75178367 -1.46925308 -0.43726906  0.29980632]\n",
      " [ 1.85381538  1.57310367  0.81110329  0.08460399 -0.18167379]\n",
      " [-0.83668539  1.32755976 -0.7606142  -0.05123523 -0.8085453 ]\n",
      " [-0.58073144  2.05763608 -2.19578182 -1.03651876  0.79926303]\n",
      " [ 2.06293379 -1.39717839 -0.97198414  0.3264249   1.13601637]]\n"
     ]
    }
   ],
   "source": [
    "L = lambda X: sum([np.norm(x) for x in X])/5\n",
    "\n",
    "X = np.random.normal(0,1,size=(10,5))\n",
    "for i,x in enumerate(X.T[:-1]):\n",
    "\tfor j,y in enumerate(X.T[i+1:]):\n",
    "\t\tif all(x == y):\n",
    "\t\t\tX[i+j+1,0] += eps*np.random.normal(0,1)\n",
    "\n",
    "#Metropolis Modificado\n",
    "J_X = J(X.T)\n",
    "X_hat = X.copy()\n",
    "while n < N:\n",
    "\tX_hat[:] = X + eps*R(0., 1., X.shape)\n",
    "\tJ_Xhat = J(X_hat.T)\n",
    "\tX[:] = X_hat if np.random.uniform() < np.exp((J_X - J_Xhat)/T) else X\n",
    "\tif np.allclose(X,X_hat):\n",
    "\t\tJ_X = J_xhat\n",
    "\tif n > N-M:\n",
    "\t\tF += L(X.T)               #modificação, passamos a somar a função L\n",
    "\tn += 1\n",
    "F /= M\n",
    "print(f'F = {F:.4g}')\n",
    "print(f'X =\\n{X}')"
   ]
  },
  {
   "cell_type": "markdown",
   "id": "3cb6c3b3",
   "metadata": {},
   "source": [
    "# 7 - Escrever um programa S.A. (pode ser pseudo-código) para minimizar a função escalar $J(x) = - x + 100(x - 0.2)^2 (x - 0.8)^2$. Começando de $x(0) = 0$ e utilizando geradores de números aleatórios (um uniforme e outro Gaussiano)."
   ]
  },
  {
   "cell_type": "code",
   "execution_count": 27,
   "id": "c8b67884",
   "metadata": {},
   "outputs": [
    {
     "name": "stderr",
     "output_type": "stream",
     "text": [
      "/tmp/ipykernel_14771/2706230929.py:21: RuntimeWarning: divide by zero encountered in double_scalars\n",
      "  T = T_0/np.log2(n // N)\n"
     ]
    },
    {
     "name": "stdout",
     "output_type": "stream",
     "text": [
      "x_min = 0.8130280690363579\n",
      "J_min = -0.8066495357978426\n"
     ]
    }
   ],
   "source": [
    "#usando distribuição uniforme\n",
    "J = lambda x: -x + 100*(x - .2)**2*(x - .8)**2\n",
    "R = lambda x_min, x_max: np.random.uniform(x_min,x_max)\n",
    "\n",
    "N = int(1e5)\n",
    "T = T_0 = .5\n",
    "eps = 1e-2\n",
    "x = x_min = 0\n",
    "J_x = J_min = J(x)\n",
    "n = 0\n",
    "while n < N*7:\n",
    "\tx_hat = x + eps*R(-1., 1.)\n",
    "\tJ_xhat = J(x_hat)\n",
    "\tx = x_hat if np.random.uniform(0.,1.) < np.exp((J_x - J_xhat)/T) else x\n",
    "\tif x == x_hat:\n",
    "\t\tJ_x = J_xhat\n",
    "\tif J_min > J_x:\n",
    "\t\tJ_min = J_x\n",
    "\t\tx_min = x\n",
    "\tn += 1\n",
    "\tif (not n % N) and n > 0:\n",
    "\t\tT = T_0/np.log2(n // N)\n",
    "print(f'x_min = {x_min}')\n",
    "print(f'J_min = {J_min}')"
   ]
  },
  {
   "cell_type": "code",
   "execution_count": 28,
   "id": "fec61a4d",
   "metadata": {},
   "outputs": [
    {
     "name": "stderr",
     "output_type": "stream",
     "text": [
      "/tmp/ipykernel_14771/2509929014.py:21: RuntimeWarning: divide by zero encountered in double_scalars\n",
      "  T = T_0/np.log2(n // N)\n",
      "/tmp/ipykernel_14771/2509929014.py:13: RuntimeWarning: overflow encountered in exp\n",
      "  x = x_hat if np.random.uniform(0.,1.) < np.exp((J_x - J_xhat)/T) else x\n"
     ]
    },
    {
     "name": "stdout",
     "output_type": "stream",
     "text": [
      "x_min = 0.8130279870637043\n",
      "J_min = -0.806649535798264\n"
     ]
    }
   ],
   "source": [
    "#usando distribuição gaussiana\n",
    "\n",
    "R = lambda m, l: np.random.normal(m,l)\n",
    "\n",
    "N = int(1e5)\n",
    "T = T_0 = .5\n",
    "x = x_min = 0\n",
    "J_x = J_min = J(x)\n",
    "n = 0\n",
    "while n < N*7:\n",
    "\tx_hat = x + eps*R(0., 1.)\n",
    "\tJ_xhat = J(x_hat)\n",
    "\tx = x_hat if np.random.uniform(0.,1.) < np.exp((J_x - J_xhat)/T) else x\n",
    "\tif x == x_hat:\n",
    "\t\tJ_x = J_xhat\n",
    "\tif J_min > J_x:\n",
    "\t\tJ_min = J_x\n",
    "\t\tx_min = x\n",
    "\tn += 1\n",
    "\tif (not n % N) and n > 0:\n",
    "\t\tT = T_0/np.log2(n // N)\n",
    "print(f'x_min = {x_min}')\n",
    "print(f'J_min = {J_min}')"
   ]
  },
  {
   "cell_type": "markdown",
   "id": "711bd5b7",
   "metadata": {},
   "source": [
    "# 8 - Proponha uma função de até $4$ variáveis cujo ponto mínimo você conheça, e encontre esse ponto mínimo utilizando S.A.\n",
    "\n",
    "&emsp; A função escolhida é $$J(x) = x_1^2 + x_2^2x_3^2 + x_4^2.$$ É fácil ver que o mínimo dessa função é encontrado quando $x = 0$."
   ]
  },
  {
   "cell_type": "code",
   "execution_count": 29,
   "id": "0167a502",
   "metadata": {},
   "outputs": [
    {
     "name": "stdout",
     "output_type": "stream",
     "text": [
      "x_0 = [ 0.74464007  0.89555481 -0.48085664  0.93461568]\n",
      "J_0 = 1.6134404939031821\n"
     ]
    },
    {
     "name": "stderr",
     "output_type": "stream",
     "text": [
      "/tmp/ipykernel_14771/2272110348.py:23: RuntimeWarning: divide by zero encountered in double_scalars\n",
      "  T = T_0/np.log2(n // N)\n"
     ]
    },
    {
     "name": "stdout",
     "output_type": "stream",
     "text": [
      "x_min = [ 0.00038167 -0.03330855  0.00713976  0.00052004]\n",
      "J_min = 4.7266564536392404e-07\n"
     ]
    }
   ],
   "source": [
    "J = lambda x: x[0]**2 + x[1]**2*x[2]**2 + x[3]**2\n",
    "R = lambda m, l, s: np.random.laplace(m,l,size=s)\n",
    "\n",
    "N = int(1e5)\n",
    "T = T_0 = 5e-3\n",
    "eps = 1e-2\n",
    "x = x_min = np.random.normal(0,1,size=(4,))\n",
    "J_x = J_min = J(x)\n",
    "n = 0\n",
    "print(f'x_0 = {x_min}')\n",
    "print(f'J_0 = {J_min}')\n",
    "while n < N*7:\n",
    "\tx_hat = x + eps*R(0., 1., x.shape)\n",
    "\tJ_xhat = J(x_hat)\n",
    "\tx = x_hat if np.random.uniform(0.,1.) < np.exp((J_x - J_xhat)/T) else x\n",
    "\tif all(x == x_hat):\n",
    "\t\tJ_x = J_xhat\n",
    "\tif J_min > J_x:\n",
    "\t\tJ_min = J_x\n",
    "\t\tx_min = x\n",
    "\tn += 1\n",
    "\tif (not n % N) and n > 0:\n",
    "\t\tT = T_0/np.log2(n // N)\n",
    "print(f'x_min = {x_min}')\n",
    "print(f'J_min = {J_min}')"
   ]
  },
  {
   "cell_type": "markdown",
   "id": "f1ff8b0c",
   "metadata": {},
   "source": [
    "# 9 - (Simulated Annealing) A figura (prova 2008) ilustra todas as configurações possíveis do problema do caixeiro viajante com cinco cidades, no caso em que as cinco cidades estão dispostas uniformemente sobre um círculo, e considerando que a viagem sempre começa pela cidade mais à direita. A seta pontilhada indica o caminho de retorno da última cidade visitada para a cidade inicial. Considera-se que o custo da viagem sobre um lado do pentágono formado pelas cidades é igual a $1.0$. O custo total de cada solução é representado logo abaixo da mesma.\n",
    "\n",
    "### a) Utilizando um pseudo-código, descreva um algoritmo de Simulated Annealing para resolver este problema. Defina e use quaisquer parâmetros (por exemplo: temperatura incial, método de resfriamento, número de iterações a temperatura fixa, etc.) que você julgar necessários.\n",
    "\n",
    "### b) Com temperatura fixa $T=1$, calcule a probabilidade com que cada uma das soluções acima será gerada, após a convergência do algoritmo."
   ]
  }
 ],
 "metadata": {
  "kernelspec": {
   "display_name": "Python 3",
   "language": "python",
   "name": "python3"
  },
  "language_info": {
   "codemirror_mode": {
    "name": "ipython",
    "version": 3
   },
   "file_extension": ".py",
   "mimetype": "text/x-python",
   "name": "python",
   "nbconvert_exporter": "python",
   "pygments_lexer": "ipython3",
   "version": "3.8.7"
  }
 },
 "nbformat": 4,
 "nbformat_minor": 5
}
