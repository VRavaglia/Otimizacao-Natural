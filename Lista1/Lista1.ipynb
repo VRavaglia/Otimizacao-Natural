{
 "cells": [
  {
   "cell_type": "markdown",
   "id": "commercial-shopper",
   "metadata": {},
   "source": [
    "Lista de Exercícios 1\n",
    "\n",
    "* 01) Prova de 2007 - Questão 1\n",
    "\n",
    "* 02) Prova de 2007 - Itens 2(a) e 2(b)\n",
    "\n",
    "* 03) Lista de Exercícios 1 da CPE723 Edição Presencial - Exercício 3(a) (não é preciso fazer o item (b))\n",
    "\n",
    "04) Prova de 2008 - Questão 1\n",
    "\n",
    "05) Prova de 2011 - Questão 1\n",
    "\n",
    "06) Prova de 2012 - Itens 1(a), 1(b) e 1(c)\n",
    "\n",
    "07) Lista de Exercícios 1 da CPE723 Edição Presencial - Exercício 4(a) (de novo, não é preciso fazer o item (b), cálculo manual com 10 valores)\n",
    "\n",
    "08) Lista de Exercícios 1 da CPE723 Edição Presencial - Exercício 5\n",
    "\n",
    "09) Prova de 2008 - Questão 3"
   ]
  },
  {
   "cell_type": "markdown",
   "id": "german-sierra",
   "metadata": {},
   "source": [
    "#  1) Prova 2007 - Questão 1 a) \n"
   ]
  },
  {
   "cell_type": "markdown",
   "id": "technological-permission",
   "metadata": {},
   "source": [
    "\n",
    "Seja $x_n$ o valor de $x$ na interação de índice $n$. Temos então que:\n",
    "\n",
    "$$x_1 = 0.9501$$\n",
    "$$x_2 = 0.2311$$\n",
    "$$x_3 = 0.6068$$"
   ]
  },
  {
   "cell_type": "code",
   "execution_count": 13,
   "id": "explicit-piece",
   "metadata": {},
   "outputs": [],
   "source": [
    "x = [0.9501, 0.2311, 0.6068]"
   ]
  },
  {
   "cell_type": "markdown",
   "id": "suspended-little",
   "metadata": {},
   "source": [
    "Como a PDF tem densidade uniforme, a operação em cada iteração é a própria função $x^3$ somada com as parcelas das iterações anteriores:"
   ]
  },
  {
   "cell_type": "code",
   "execution_count": 14,
   "id": "annual-stamp",
   "metadata": {
    "scrolled": true
   },
   "outputs": [
    {
     "name": "stdout",
     "output_type": "stream",
     "text": [
      "Resultado da iteração 1: 0.8576457785009999\n",
      "Resultado da iteração 2: 0.43499409236599995\n",
      "Resultado da iteração 3: 0.3644719103879999\n"
     ]
    }
   ],
   "source": [
    "y = []\n",
    "for n in range(1, 4):\n",
    "    yn = 0\n",
    "    for i in range(1, n+1):\n",
    "        yn = yn + x[i-1]**3\n",
    "    y.append(yn/n)\n",
    "    print(\"Resultado da iteração \" + str(n) + \": \" + str(y[n-1]))\n",
    "    \n"
   ]
  },
  {
   "cell_type": "markdown",
   "id": "micro-happiness",
   "metadata": {},
   "source": [
    "Podemos calcular também a aproximação utilizando um número grande de iterações:"
   ]
  },
  {
   "cell_type": "code",
   "execution_count": 15,
   "id": "binary-source",
   "metadata": {
    "scrolled": true
   },
   "outputs": [
    {
     "name": "stdout",
     "output_type": "stream",
     "text": [
      "Resultado da aproximação: [0.24985167]\n",
      "Resultado ideal: 0.25\n"
     ]
    }
   ],
   "source": [
    "import numpy as np\n",
    "\n",
    "n = 10**6;\n",
    "x = np.random.rand(n,1);\n",
    "y = sum(x**3)/n;\n",
    "\n",
    "print(\"Resultado da aproximação: \" + str(y))\n",
    "print(\"Resultado ideal: 0.25\")"
   ]
  },
  {
   "cell_type": "markdown",
   "id": "immune-layout",
   "metadata": {},
   "source": [
    "#  1) Prova 2007 - Questão 1 b) "
   ]
  },
  {
   "cell_type": "markdown",
   "id": "romantic-score",
   "metadata": {},
   "source": [
    "Com uma densidade exponencial foi utilizada, podemos escrever:\n",
    "\n",
    "$$\\int_0^1x^2e^{-x}dx = \\int_0^1x^2f_{x}(x)dx$$\n",
    "\n",
    "Como o intervalo da integral é de 0 a 1, os valores aleatórios fora desse intervalo serão descartados (nesse caso, o valor de $x_2 = 1.4647$). Assim, temos as seguintes iterações:"
   ]
  },
  {
   "cell_type": "code",
   "execution_count": 16,
   "id": "progressive-emerald",
   "metadata": {},
   "outputs": [
    {
     "name": "stdout",
     "output_type": "stream",
     "text": [
      "Resultado da iteração 1: 0.00262144\n",
      "Resultado da iteração 2: 0.00131072\n",
      "Resultado da iteração 3: 0.08404056333333333\n",
      "Resultado da iteração 4: 0.19320706250000003\n"
     ]
    }
   ],
   "source": [
    "x = [0.0512, 1.4647, 0.4995, 0.7216]\n",
    "y = []\n",
    "for n in range(1, len(x)+1):\n",
    "    yn = 0\n",
    "    for i in range(1, n+1):\n",
    "        if x[i-1] < 1:\n",
    "            yn = yn + x[i-1]**2\n",
    "    y.append(yn/n)\n",
    "    print(\"Resultado da iteração \" + str(n) + \": \" + str(y[n-1]))"
   ]
  },
  {
   "cell_type": "markdown",
   "id": "stuck-disco",
   "metadata": {},
   "source": [
    "Podemos calcular também a aproximação utilizando um número grande de iterações:"
   ]
  },
  {
   "cell_type": "code",
   "execution_count": 17,
   "id": "underlying-difference",
   "metadata": {},
   "outputs": [
    {
     "name": "stdout",
     "output_type": "stream",
     "text": [
      "Resultado da aproximação: 0.16067307863695204\n",
      "Resultado ideal: 0.1607\n"
     ]
    }
   ],
   "source": [
    "n = 10**6;\n",
    "x = np.random.exponential(1, (n,1));\n",
    "y = sum(x[x < 1]**2)/n;\n",
    "\n",
    "print(\"Resultado da aproximação: \" + str(y))\n",
    "print(\"Resultado ideal: 0.1607\")"
   ]
  },
  {
   "cell_type": "markdown",
   "id": "altered-village",
   "metadata": {},
   "source": [
    "#  2) Prova 2007 - Questão 2 b) e c)"
   ]
  },
  {
   "cell_type": "markdown",
   "id": "round-standard",
   "metadata": {},
   "source": [
    "Temos que a distribuição de Boltzmann é tal que:\n",
    "\n",
    "$$\\Large p_i = \\alpha e^{\\frac{-J(x)}{kT}}$$\n",
    "\n",
    "Um algorítimo para gerar essa distribuição é o algorítmimo de Metropolis modificado. As modificações são:\n",
    "\n",
    "* A função custo é a mesma dada pelo enunciado\n",
    "* A troca de estado de x depende de um número aleatório discreto que pode valer -1 ou 1\n",
    "* Os estados são limitados entre 1 e 5"
   ]
  },
  {
   "cell_type": "code",
   "execution_count": 38,
   "id": "whole-serum",
   "metadata": {},
   "outputs": [
    {
     "data": {
      "image/png": "[encoded data removed]",
      "text/plain": [
       "<Figure size 432x288 with 1 Axes>"
      ]
     },
     "metadata": {
      "needs_background": "light"
     },
     "output_type": "display_data"
    }
   ],
   "source": [
    "import random\n",
    "import math\n",
    "import matplotlib.pyplot as plt\n",
    "\n",
    "x = 1\n",
    "xs = []\n",
    "N = 1e5\n",
    "k = 1\n",
    "T = 1\n",
    "\n",
    "def J(x):\n",
    "    return (x - 3)**2\n",
    "\n",
    "for n in range(1, int(N)):\n",
    "    xhat = x + random.randint(-1, 1)\n",
    "    if xhat > 5:\n",
    "        xhat = 1\n",
    "    elif xhat < 1:\n",
    "        xhat = 5\n",
    "        \n",
    "    dJ = J(xhat) - J(x)\n",
    "    q = math.exp(-dJ/(k*T))\n",
    "    r = random.uniform(0, 1)\n",
    "    \n",
    "    a = 1\n",
    "    if r > q:\n",
    "        a = 0\n",
    "    \n",
    "    if dJ < 0:\n",
    "        x = xhat\n",
    "    else:\n",
    "        x = (1-a)*x + a*xhat\n",
    "    \n",
    "    if n > N*0.9:\n",
    "        xs.append(x)\n",
    "\n",
    "plt.hist(xs, bins=50, density=True)\n",
    "X = np.linspace(1, 5, num=1000)\n",
    "plt.plot(X, np.exp(-J(X))*7.1)\n",
    "plt.title(\"Distribuição Gerada\")\n",
    "plt.show()"
   ]
  },
  {
   "cell_type": "markdown",
   "id": "collectible-package",
   "metadata": {},
   "source": [
    "# 03) Lista de Exercícios 1 da CPE723 Edição Presencial - Exercício 3(a)"
   ]
  },
  {
   "cell_type": "markdown",
   "id": "least-hampton",
   "metadata": {},
   "source": [
    "Podemos utilizar o algorítmo de Metropolis sem modificções. Similar ao programa da questão anterior temos:"
   ]
  },
  {
   "cell_type": "code",
   "execution_count": 135,
   "id": "automated-liabilities",
   "metadata": {
    "scrolled": true
   },
   "outputs": [
    {
     "data": {
      "image/png": "[encoded data removed]",
      "text/plain": [
       "<Figure size 432x288 with 1 Axes>"
      ]
     },
     "metadata": {
      "needs_background": "light"
     },
     "output_type": "display_data"
    }
   ],
   "source": [
    "import random\n",
    "import math\n",
    "import matplotlib.pyplot as plt\n",
    "\n",
    "x = 1\n",
    "xs = []\n",
    "N = 1e5\n",
    "eps = 0.1\n",
    "k = 1\n",
    "T = 0.1\n",
    "\n",
    "def J(x):\n",
    "    return (x)**2\n",
    "\n",
    "for n in range(1, int(N)):\n",
    "    xhat = x + eps*random.uniform(-1, 1)\n",
    "        \n",
    "    dJ = J(xhat) - J(x)\n",
    "    q = math.exp(-dJ/(k*T))\n",
    "    r = random.uniform(0, 1)\n",
    "    \n",
    "    a = 1\n",
    "    if r > q:\n",
    "        a = 0\n",
    "    \n",
    "    if dJ < 0:\n",
    "        x = xhat\n",
    "    else:\n",
    "        x = (1-a)*x + a*xhat\n",
    "    \n",
    "    if n > N*0.9:\n",
    "        xs.append(x)\n",
    "\n",
    "plt.hist(xs, np.arange(-1, 1, 0.05), density=True)\n",
    "X = np.linspace(-1, 1, num=1000)\n",
    "plt.plot(X, np.exp(-J(X)/T)*1.8)\n",
    "plt.title(\"Distribuição Gerada\")\n",
    "plt.show()"
   ]
  },
  {
   "cell_type": "markdown",
   "id": "amended-platform",
   "metadata": {},
   "source": [
    "# 04) Prova de 2008 - Questão 1"
   ]
  },
  {
   "cell_type": "markdown",
   "id": "outside-geography",
   "metadata": {},
   "source": [
    "A densidade de probabilidade $P$ gerada pelo algorítmo de metropolis é tal que:\n",
    "\n",
    "$$\\large P = \\alpha e^{-J(x)/T}$$\n",
    "\n",
    "Queremos que:\n",
    "\n",
    "$$\\large f_{X}(x) = \\alpha e^{-J(x)/T}$$\n",
    "\n",
    "Logo:\n",
    "\n",
    "$$\\large \\ln (f_{X}(x)) = \\ln(\\alpha) -J(x)/T$$\n",
    "\n",
    "$$\\large J(x) = -T\\ln (f_{X}(x)) -T\\ln(\\alpha)$$\n",
    "\n",
    "Como o algorítmo utiliza uma diferença de valores de $J(x)$ ($\\delta J(x)$) podemos remover o termo constante:\n",
    "\n",
    "$$\\large J(x) = -T\\ln(f_{X}(x))$$\n",
    "\n",
    "A seguir, o algorítimo de Metropolis em questão que gera uma densidade de probabilidade arbitrária fX(x):"
   ]
  },
  {
   "cell_type": "code",
   "execution_count": 165,
   "id": "recognized-commercial",
   "metadata": {},
   "outputs": [
    {
     "name": "stderr",
     "output_type": "stream",
     "text": [
      "<ipython-input-165-34836f274fb7>:16: RuntimeWarning: divide by zero encountered in log\n",
      "  return -T*np.log(fX(x))\n"
     ]
    },
    {
     "data": {
      "image/png": "[encoded data removed]",
      "text/plain": [
       "<Figure size 432x288 with 1 Axes>"
      ]
     },
     "metadata": {
      "needs_background": "light"
     },
     "output_type": "display_data"
    }
   ],
   "source": [
    "import random\n",
    "import math\n",
    "import matplotlib.pyplot as plt\n",
    "\n",
    "x = 0\n",
    "xs = []\n",
    "N = 1e5\n",
    "eps = 100\n",
    "k = 1\n",
    "T = 1\n",
    "\n",
    "def fX(x):\n",
    "    return x**2\n",
    "\n",
    "def J(x):\n",
    "    return -T*np.log(fX(x))\n",
    "\n",
    "for n in range(1, int(N)):\n",
    "    xhat = x + eps*(random.randint(0, 1)*2 -1)\n",
    "        \n",
    "    dJ = J(xhat) - J(x)\n",
    "    q = math.exp(-dJ/(k*T))\n",
    "    r = random.uniform(0, 1)\n",
    "    \n",
    "    a = 1\n",
    "    if r > q:\n",
    "        a = 0\n",
    "    \n",
    "    if dJ < 0:\n",
    "        x = xhat\n",
    "    else:\n",
    "        x = (1-a)*x + a*xhat\n",
    "    \n",
    "    if n > N*0:\n",
    "        xs.append(x)\n",
    "\n",
    "plt.hist(xs,bins=30, density=True)\n",
    "X = np.linspace(0, 10, num=50)\n",
    "#plt.plot(X, fX(X))\n",
    "plt.title(\"Distribuição Gerada\")\n",
    "plt.show()"
   ]
  },
  {
   "cell_type": "markdown",
   "id": "facial-egyptian",
   "metadata": {},
   "source": [
    "# 5) Prova de 2011 - Questão 1"
   ]
  },
  {
   "cell_type": "markdown",
   "id": "existing-disorder",
   "metadata": {},
   "source": [
    "Como a integral só apresenta termos $x_1$ e $x_2$, para que a integral seja calculada, basta calcular as integrais intermediárias em um intervalo $0 \\leq x_n < 1$ e multiplicar o resultado final por 2. A integral pode ser calculada pelo método de Monte Carlo, que por sua vez, permite calcular o valor experado de uma dada deinsidade de probabilidades $f_{X}(x)$. Podemos então escolher $f_{X}(x)$ tal que:\n",
    "\n",
    "$$\\large f_{X_1, X_2} = e^{x_1^2 + x_2^2}$$\n",
    "\n"
   ]
  },
  {
   "cell_type": "code",
   "execution_count": 81,
   "id": "published-instruction",
   "metadata": {},
   "outputs": [
    {
     "data": {
      "image/png": "[encoded data removed]",
      "text/plain": [
       "<Figure size 432x288 with 1 Axes>"
      ]
     },
     "metadata": {
      "needs_background": "light"
     },
     "output_type": "display_data"
    },
    {
     "name": "stdout",
     "output_type": "stream",
     "text": [
      "Resultado da aproximação: 3.1793339812377632\n",
      "Resultado esperado: 3.6731\n"
     ]
    }
   ],
   "source": [
    "import random\n",
    "import math\n",
    "import numpy as np\n",
    "import matplotlib.pyplot as plt\n",
    "\n",
    "x = [0, 0]\n",
    "xs1 = []\n",
    "xs2 = []\n",
    "N = 1e6\n",
    "eps = 0.3\n",
    "xhat = [0, 0]\n",
    "k = 1\n",
    "T = 1\n",
    "\n",
    "# Metropolis\n",
    "\n",
    "def J(x):\n",
    "    return x[0]**2 + x[1]**2\n",
    "\n",
    "for n in range(1, int(N)):\n",
    "    i = random.randint(0,1)\n",
    "    xhat[i] = x[i] + eps*random.uniform(-1, 1)\n",
    "        \n",
    "    dJ = J(xhat) - J(x)\n",
    "    \n",
    "    q = math.exp(-dJ/(k*T))\n",
    "    r = random.uniform(0, 1)\n",
    "    \n",
    "    a = 1\n",
    "    if r > q:\n",
    "        a = 0\n",
    "    \n",
    "    if dJ < 0:\n",
    "        x[0] = xhat[0]\n",
    "        x[1] = xhat[1]\n",
    "    else:\n",
    "        x[0] = (1-a)*x[0] + a*xhat[0]\n",
    "        x[1] = (1-a)*x[1] + a*xhat[1]\n",
    "    \n",
    "    if n > N*0.9:\n",
    "        xs1.append(x[0])\n",
    "        xs2.append(x[1])\n",
    "\n",
    "plt.hist2d(xs1, xs2, bins = 200, density=True)\n",
    "plt.title(\"Distribuição Gerada\")\n",
    "plt.show()\n",
    "\n",
    "# Monte Carlo\n",
    "\n",
    "y = 2*sum(np.array(xs1)**2 + np.array(xs2)**2)/len(xs1);\n",
    "\n",
    "print(\"Resultado da aproximação: \" + str(y))\n",
    "print(\"Resultado esperado: 3.6731\")"
   ]
  },
  {
   "cell_type": "markdown",
   "id": "charged-subsection",
   "metadata": {},
   "source": []
  }
 ],
 "metadata": {
  "kernelspec": {
   "display_name": "Python 3",
   "language": "python",
   "name": "python3"
  },
  "language_info": {
   "codemirror_mode": {
    "name": "ipython",
    "version": 3
   },
   "file_extension": ".py",
   "mimetype": "text/x-python",
   "name": "python",
   "nbconvert_exporter": "python",
   "pygments_lexer": "ipython3",
   "version": "3.8.7"
  }
 },
 "nbformat": 4,
 "nbformat_minor": 5
}
