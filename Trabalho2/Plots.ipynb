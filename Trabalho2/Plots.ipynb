{
 "cells": [
  {
   "cell_type": "code",
   "execution_count": 18,
   "id": "compressed-shakespeare",
   "metadata": {},
   "outputs": [
    {
     "data": {
      "text/html": [
       "<div class=\"data-frame\"><p>24 rows × 13 columns (omitted printing of 2 columns)</p><table class=\"data-frame\"><thead><tr><th></th><th>C</th><th>meme</th><th>SR</th><th>MBF</th><th>AES</th><th>mu</th><th>gens</th><th>k</th><th>depth</th><th>maxS</th><th>runs</th></tr><tr><th></th><th title=\"Int64\">Int64</th><th title=\"Bool\">Bool</th><th title=\"Float64\">Float64</th><th title=\"Float64\">Float64</th><th title=\"Float64\">Float64</th><th title=\"Int64\">Int64</th><th title=\"Int64\">Int64</th><th title=\"Int64\">Int64</th><th title=\"Int64\">Int64</th><th title=\"Int64\">Int64</th><th title=\"Int64\">Int64</th></tr></thead><tbody><tr><th>1</th><td>100</td><td>0</td><td>98.0</td><td>0.988993</td><td>98084.2</td><td>250</td><td>750</td><td>1</td><td>0</td><td>0</td><td>100</td></tr><tr><th>2</th><td>100</td><td>0</td><td>98.0</td><td>0.988834</td><td>79857.1</td><td>250</td><td>750</td><td>1</td><td>0</td><td>0</td><td>100</td></tr><tr><th>3</th><td>100</td><td>0</td><td>100.0</td><td>1.0</td><td>61587.5</td><td>250</td><td>750</td><td>1</td><td>0</td><td>0</td><td>100</td></tr><tr><th>4</th><td>100</td><td>0</td><td>100.0</td><td>1.0</td><td>66447.5</td><td>250</td><td>750</td><td>1</td><td>0</td><td>0</td><td>100</td></tr><tr><th>5</th><td>100</td><td>0</td><td>98.0</td><td>0.988212</td><td>95341.8</td><td>250</td><td>750</td><td>2</td><td>0</td><td>0</td><td>100</td></tr><tr><th>6</th><td>100</td><td>0</td><td>99.0</td><td>0.994648</td><td>74671.7</td><td>250</td><td>750</td><td>2</td><td>0</td><td>0</td><td>100</td></tr><tr><th>7</th><td>100</td><td>0</td><td>99.0</td><td>0.994668</td><td>59676.8</td><td>250</td><td>750</td><td>2</td><td>0</td><td>0</td><td>100</td></tr><tr><th>8</th><td>100</td><td>0</td><td>84.0</td><td>0.987459</td><td>1.06821e5</td><td>250</td><td>750</td><td>2</td><td>0</td><td>0</td><td>100</td></tr><tr><th>9</th><td>100</td><td>0</td><td>97.0</td><td>0.98331</td><td>97033.5</td><td>250</td><td>750</td><td>4</td><td>0</td><td>0</td><td>100</td></tr><tr><th>10</th><td>100</td><td>0</td><td>100.0</td><td>1.0</td><td>75920.0</td><td>250</td><td>750</td><td>4</td><td>0</td><td>0</td><td>100</td></tr><tr><th>11</th><td>100</td><td>0</td><td>95.0</td><td>0.971993</td><td>66052.6</td><td>250</td><td>750</td><td>4</td><td>0</td><td>0</td><td>100</td></tr><tr><th>12</th><td>100</td><td>0</td><td>7.0</td><td>0.692411</td><td>114750.0</td><td>250</td><td>750</td><td>4</td><td>0</td><td>0</td><td>100</td></tr><tr><th>13</th><td>100</td><td>0</td><td>99.0</td><td>0.994616</td><td>1.09056e5</td><td>250</td><td>750</td><td>6</td><td>0</td><td>0</td><td>100</td></tr><tr><th>14</th><td>100</td><td>0</td><td>99.0</td><td>0.994188</td><td>79540.4</td><td>250</td><td>750</td><td>6</td><td>0</td><td>0</td><td>100</td></tr><tr><th>15</th><td>100</td><td>0</td><td>98.0</td><td>0.988966</td><td>72836.7</td><td>250</td><td>750</td><td>6</td><td>0</td><td>0</td><td>100</td></tr><tr><th>16</th><td>100</td><td>0</td><td>0.0</td><td>0.63966</td><td>0.0</td><td>250</td><td>750</td><td>6</td><td>0</td><td>0</td><td>100</td></tr><tr><th>17</th><td>100</td><td>0</td><td>98.0</td><td>0.988971</td><td>1.01844e5</td><td>250</td><td>750</td><td>8</td><td>0</td><td>0</td><td>100</td></tr><tr><th>18</th><td>100</td><td>0</td><td>96.0</td><td>0.97766</td><td>83390.6</td><td>250</td><td>750</td><td>8</td><td>0</td><td>0</td><td>100</td></tr><tr><th>19</th><td>100</td><td>0</td><td>99.0</td><td>0.994158</td><td>75179.3</td><td>250</td><td>750</td><td>8</td><td>0</td><td>0</td><td>100</td></tr><tr><th>20</th><td>100</td><td>0</td><td>0.0</td><td>0.573895</td><td>0.0</td><td>250</td><td>750</td><td>8</td><td>0</td><td>0</td><td>100</td></tr><tr><th>21</th><td>100</td><td>0</td><td>99.0</td><td>0.994015</td><td>1.05126e5</td><td>250</td><td>750</td><td>10</td><td>0</td><td>0</td><td>100</td></tr><tr><th>22</th><td>100</td><td>0</td><td>100.0</td><td>1.0</td><td>86382.5</td><td>250</td><td>750</td><td>10</td><td>0</td><td>0</td><td>100</td></tr><tr><th>23</th><td>100</td><td>0</td><td>100.0</td><td>1.0</td><td>80622.5</td><td>250</td><td>750</td><td>10</td><td>0</td><td>0</td><td>100</td></tr><tr><th>24</th><td>100</td><td>0</td><td>0.0</td><td>0.560377</td><td>0.0</td><td>250</td><td>750</td><td>10</td><td>0</td><td>0</td><td>100</td></tr></tbody></table></div>"
      ],
      "text/latex": [
       "\\begin{tabular}{r|cccccccccccc}\n",
       "\t& C & meme & SR & MBF & AES & mu & gens & k & depth & maxS & runs & \\\\\n",
       "\t\\hline\n",
       "\t& Int64 & Bool & Float64 & Float64 & Float64 & Int64 & Int64 & Int64 & Int64 & Int64 & Int64 & \\\\\n",
       "\t\\hline\n",
       "\t1 & 100 & 0 & 98.0 & 0.988993 & 98084.2 & 250 & 750 & 1 & 0 & 0 & 100 & $\\dots$ \\\\\n",
       "\t2 & 100 & 0 & 98.0 & 0.988834 & 79857.1 & 250 & 750 & 1 & 0 & 0 & 100 & $\\dots$ \\\\\n",
       "\t3 & 100 & 0 & 100.0 & 1.0 & 61587.5 & 250 & 750 & 1 & 0 & 0 & 100 & $\\dots$ \\\\\n",
       "\t4 & 100 & 0 & 100.0 & 1.0 & 66447.5 & 250 & 750 & 1 & 0 & 0 & 100 & $\\dots$ \\\\\n",
       "\t5 & 100 & 0 & 98.0 & 0.988212 & 95341.8 & 250 & 750 & 2 & 0 & 0 & 100 & $\\dots$ \\\\\n",
       "\t6 & 100 & 0 & 99.0 & 0.994648 & 74671.7 & 250 & 750 & 2 & 0 & 0 & 100 & $\\dots$ \\\\\n",
       "\t7 & 100 & 0 & 99.0 & 0.994668 & 59676.8 & 250 & 750 & 2 & 0 & 0 & 100 & $\\dots$ \\\\\n",
       "\t8 & 100 & 0 & 84.0 & 0.987459 & 1.06821e5 & 250 & 750 & 2 & 0 & 0 & 100 & $\\dots$ \\\\\n",
       "\t9 & 100 & 0 & 97.0 & 0.98331 & 97033.5 & 250 & 750 & 4 & 0 & 0 & 100 & $\\dots$ \\\\\n",
       "\t10 & 100 & 0 & 100.0 & 1.0 & 75920.0 & 250 & 750 & 4 & 0 & 0 & 100 & $\\dots$ \\\\\n",
       "\t11 & 100 & 0 & 95.0 & 0.971993 & 66052.6 & 250 & 750 & 4 & 0 & 0 & 100 & $\\dots$ \\\\\n",
       "\t12 & 100 & 0 & 7.0 & 0.692411 & 114750.0 & 250 & 750 & 4 & 0 & 0 & 100 & $\\dots$ \\\\\n",
       "\t13 & 100 & 0 & 99.0 & 0.994616 & 1.09056e5 & 250 & 750 & 6 & 0 & 0 & 100 & $\\dots$ \\\\\n",
       "\t14 & 100 & 0 & 99.0 & 0.994188 & 79540.4 & 250 & 750 & 6 & 0 & 0 & 100 & $\\dots$ \\\\\n",
       "\t15 & 100 & 0 & 98.0 & 0.988966 & 72836.7 & 250 & 750 & 6 & 0 & 0 & 100 & $\\dots$ \\\\\n",
       "\t16 & 100 & 0 & 0.0 & 0.63966 & 0.0 & 250 & 750 & 6 & 0 & 0 & 100 & $\\dots$ \\\\\n",
       "\t17 & 100 & 0 & 98.0 & 0.988971 & 1.01844e5 & 250 & 750 & 8 & 0 & 0 & 100 & $\\dots$ \\\\\n",
       "\t18 & 100 & 0 & 96.0 & 0.97766 & 83390.6 & 250 & 750 & 8 & 0 & 0 & 100 & $\\dots$ \\\\\n",
       "\t19 & 100 & 0 & 99.0 & 0.994158 & 75179.3 & 250 & 750 & 8 & 0 & 0 & 100 & $\\dots$ \\\\\n",
       "\t20 & 100 & 0 & 0.0 & 0.573895 & 0.0 & 250 & 750 & 8 & 0 & 0 & 100 & $\\dots$ \\\\\n",
       "\t21 & 100 & 0 & 99.0 & 0.994015 & 1.05126e5 & 250 & 750 & 10 & 0 & 0 & 100 & $\\dots$ \\\\\n",
       "\t22 & 100 & 0 & 100.0 & 1.0 & 86382.5 & 250 & 750 & 10 & 0 & 0 & 100 & $\\dots$ \\\\\n",
       "\t23 & 100 & 0 & 100.0 & 1.0 & 80622.5 & 250 & 750 & 10 & 0 & 0 & 100 & $\\dots$ \\\\\n",
       "\t24 & 100 & 0 & 0.0 & 0.560377 & 0.0 & 250 & 750 & 10 & 0 & 0 & 100 & $\\dots$ \\\\\n",
       "\\end{tabular}\n"
      ],
      "text/plain": [
       "\u001b[1m24×13 DataFrame\u001b[0m\n",
       "\u001b[1m Row \u001b[0m│\u001b[1m C     \u001b[0m\u001b[1m meme  \u001b[0m\u001b[1m SR      \u001b[0m\u001b[1m MBF      \u001b[0m\u001b[1m AES            \u001b[0m\u001b[1m mu    \u001b[0m\u001b[1m gens  \u001b[0m\u001b[1m k     \u001b[0m\u001b[1m d\u001b[0m ⋯\n",
       "\u001b[1m     \u001b[0m│\u001b[90m Int64 \u001b[0m\u001b[90m Bool  \u001b[0m\u001b[90m Float64 \u001b[0m\u001b[90m Float64  \u001b[0m\u001b[90m Float64        \u001b[0m\u001b[90m Int64 \u001b[0m\u001b[90m Int64 \u001b[0m\u001b[90m Int64 \u001b[0m\u001b[90m I\u001b[0m ⋯\n",
       "─────┼──────────────────────────────────────────────────────────────────────────\n",
       "   1 │   100  false     98.0  0.988993   98084.2          250    750      1    ⋯\n",
       "   2 │   100  false     98.0  0.988834   79857.1          250    750      1\n",
       "   3 │   100  false    100.0  1.0        61587.5          250    750      1\n",
       "   4 │   100  false    100.0  1.0        66447.5          250    750      1\n",
       "   5 │   100  false     98.0  0.988212   95341.8          250    750      2    ⋯\n",
       "   6 │   100  false     99.0  0.994648   74671.7          250    750      2\n",
       "   7 │   100  false     99.0  0.994668   59676.8          250    750      2\n",
       "   8 │   100  false     84.0  0.987459       1.06821e5    250    750      2\n",
       "   9 │   100  false     97.0  0.98331    97033.5          250    750      4    ⋯\n",
       "  10 │   100  false    100.0  1.0        75920.0          250    750      4\n",
       "  11 │   100  false     95.0  0.971993   66052.6          250    750      4\n",
       "  ⋮  │   ⋮      ⋮       ⋮        ⋮            ⋮           ⋮      ⋮      ⋮      ⋱\n",
       "  15 │   100  false     98.0  0.988966   72836.7          250    750      6\n",
       "  16 │   100  false      0.0  0.63966        0.0          250    750      6    ⋯\n",
       "  17 │   100  false     98.0  0.988971       1.01844e5    250    750      8\n",
       "  18 │   100  false     96.0  0.97766    83390.6          250    750      8\n",
       "  19 │   100  false     99.0  0.994158   75179.3          250    750      8\n",
       "  20 │   100  false      0.0  0.573895       0.0          250    750      8    ⋯\n",
       "  21 │   100  false     99.0  0.994015       1.05126e5    250    750     10\n",
       "  22 │   100  false    100.0  1.0        86382.5          250    750     10\n",
       "  23 │   100  false    100.0  1.0        80622.5          250    750     10\n",
       "  24 │   100  false      0.0  0.560377       0.0          250    750     10    ⋯\n",
       "\u001b[36m                                                    5 columns and 3 rows omitted\u001b[0m"
      ]
     },
     "execution_count": 18,
     "metadata": {},
     "output_type": "execute_result"
    }
   ],
   "source": [
    "using CSV\n",
    "using DataFrames\n",
    "\n",
    "df = DataFrame(CSV.File(\"resultados_melhor2.csv\"))"
   ]
  },
  {
   "cell_type": "code",
   "execution_count": 19,
   "id": "fewer-pennsylvania",
   "metadata": {},
   "outputs": [],
   "source": [
    "sem_meme = df[df.C .== 100 .&& df.meme .== false, :];\n",
    "# com_meme = df[df.C .== 100 .&& df.meme .== true, :];"
   ]
  },
  {
   "cell_type": "code",
   "execution_count": 22,
   "id": "atlantic-namibia",
   "metadata": {},
   "outputs": [
    {
     "data": {
      "text/html": [
       "<div class=\"data-frame\"><p>24 rows × 13 columns (omitted printing of 2 columns)</p><table class=\"data-frame\"><thead><tr><th></th><th>C</th><th>meme</th><th>SR</th><th>MBF</th><th>AES</th><th>mu</th><th>gens</th><th>k</th><th>depth</th><th>maxS</th><th>runs</th></tr><tr><th></th><th title=\"Int64\">Int64</th><th title=\"Bool\">Bool</th><th title=\"Float64\">Float64</th><th title=\"Float64\">Float64</th><th title=\"Float64\">Float64</th><th title=\"Int64\">Int64</th><th title=\"Int64\">Int64</th><th title=\"Int64\">Int64</th><th title=\"Int64\">Int64</th><th title=\"Int64\">Int64</th><th title=\"Int64\">Int64</th></tr></thead><tbody><tr><th>1</th><td>100</td><td>0</td><td>100.0</td><td>1.0</td><td>61587.5</td><td>250</td><td>750</td><td>1</td><td>0</td><td>0</td><td>100</td></tr><tr><th>2</th><td>100</td><td>0</td><td>100.0</td><td>1.0</td><td>66447.5</td><td>250</td><td>750</td><td>1</td><td>0</td><td>0</td><td>100</td></tr><tr><th>3</th><td>100</td><td>0</td><td>100.0</td><td>1.0</td><td>75920.0</td><td>250</td><td>750</td><td>4</td><td>0</td><td>0</td><td>100</td></tr><tr><th>4</th><td>100</td><td>0</td><td>100.0</td><td>1.0</td><td>86382.5</td><td>250</td><td>750</td><td>10</td><td>0</td><td>0</td><td>100</td></tr><tr><th>5</th><td>100</td><td>0</td><td>100.0</td><td>1.0</td><td>80622.5</td><td>250</td><td>750</td><td>10</td><td>0</td><td>0</td><td>100</td></tr><tr><th>6</th><td>100</td><td>0</td><td>99.0</td><td>0.994648</td><td>74671.7</td><td>250</td><td>750</td><td>2</td><td>0</td><td>0</td><td>100</td></tr><tr><th>7</th><td>100</td><td>0</td><td>99.0</td><td>0.994668</td><td>59676.8</td><td>250</td><td>750</td><td>2</td><td>0</td><td>0</td><td>100</td></tr><tr><th>8</th><td>100</td><td>0</td><td>99.0</td><td>0.994616</td><td>1.09056e5</td><td>250</td><td>750</td><td>6</td><td>0</td><td>0</td><td>100</td></tr><tr><th>9</th><td>100</td><td>0</td><td>99.0</td><td>0.994188</td><td>79540.4</td><td>250</td><td>750</td><td>6</td><td>0</td><td>0</td><td>100</td></tr><tr><th>10</th><td>100</td><td>0</td><td>99.0</td><td>0.994158</td><td>75179.3</td><td>250</td><td>750</td><td>8</td><td>0</td><td>0</td><td>100</td></tr><tr><th>11</th><td>100</td><td>0</td><td>99.0</td><td>0.994015</td><td>1.05126e5</td><td>250</td><td>750</td><td>10</td><td>0</td><td>0</td><td>100</td></tr><tr><th>12</th><td>100</td><td>0</td><td>98.0</td><td>0.988993</td><td>98084.2</td><td>250</td><td>750</td><td>1</td><td>0</td><td>0</td><td>100</td></tr><tr><th>13</th><td>100</td><td>0</td><td>98.0</td><td>0.988834</td><td>79857.1</td><td>250</td><td>750</td><td>1</td><td>0</td><td>0</td><td>100</td></tr><tr><th>14</th><td>100</td><td>0</td><td>98.0</td><td>0.988212</td><td>95341.8</td><td>250</td><td>750</td><td>2</td><td>0</td><td>0</td><td>100</td></tr><tr><th>15</th><td>100</td><td>0</td><td>98.0</td><td>0.988966</td><td>72836.7</td><td>250</td><td>750</td><td>6</td><td>0</td><td>0</td><td>100</td></tr><tr><th>16</th><td>100</td><td>0</td><td>98.0</td><td>0.988971</td><td>1.01844e5</td><td>250</td><td>750</td><td>8</td><td>0</td><td>0</td><td>100</td></tr><tr><th>17</th><td>100</td><td>0</td><td>97.0</td><td>0.98331</td><td>97033.5</td><td>250</td><td>750</td><td>4</td><td>0</td><td>0</td><td>100</td></tr><tr><th>18</th><td>100</td><td>0</td><td>96.0</td><td>0.97766</td><td>83390.6</td><td>250</td><td>750</td><td>8</td><td>0</td><td>0</td><td>100</td></tr><tr><th>19</th><td>100</td><td>0</td><td>95.0</td><td>0.971993</td><td>66052.6</td><td>250</td><td>750</td><td>4</td><td>0</td><td>0</td><td>100</td></tr><tr><th>20</th><td>100</td><td>0</td><td>84.0</td><td>0.987459</td><td>1.06821e5</td><td>250</td><td>750</td><td>2</td><td>0</td><td>0</td><td>100</td></tr><tr><th>21</th><td>100</td><td>0</td><td>7.0</td><td>0.692411</td><td>114750.0</td><td>250</td><td>750</td><td>4</td><td>0</td><td>0</td><td>100</td></tr><tr><th>22</th><td>100</td><td>0</td><td>0.0</td><td>0.63966</td><td>0.0</td><td>250</td><td>750</td><td>6</td><td>0</td><td>0</td><td>100</td></tr><tr><th>23</th><td>100</td><td>0</td><td>0.0</td><td>0.573895</td><td>0.0</td><td>250</td><td>750</td><td>8</td><td>0</td><td>0</td><td>100</td></tr><tr><th>24</th><td>100</td><td>0</td><td>0.0</td><td>0.560377</td><td>0.0</td><td>250</td><td>750</td><td>10</td><td>0</td><td>0</td><td>100</td></tr></tbody></table></div>"
      ],
      "text/latex": [
       "\\begin{tabular}{r|cccccccccccc}\n",
       "\t& C & meme & SR & MBF & AES & mu & gens & k & depth & maxS & runs & \\\\\n",
       "\t\\hline\n",
       "\t& Int64 & Bool & Float64 & Float64 & Float64 & Int64 & Int64 & Int64 & Int64 & Int64 & Int64 & \\\\\n",
       "\t\\hline\n",
       "\t1 & 100 & 0 & 100.0 & 1.0 & 61587.5 & 250 & 750 & 1 & 0 & 0 & 100 & $\\dots$ \\\\\n",
       "\t2 & 100 & 0 & 100.0 & 1.0 & 66447.5 & 250 & 750 & 1 & 0 & 0 & 100 & $\\dots$ \\\\\n",
       "\t3 & 100 & 0 & 100.0 & 1.0 & 75920.0 & 250 & 750 & 4 & 0 & 0 & 100 & $\\dots$ \\\\\n",
       "\t4 & 100 & 0 & 100.0 & 1.0 & 86382.5 & 250 & 750 & 10 & 0 & 0 & 100 & $\\dots$ \\\\\n",
       "\t5 & 100 & 0 & 100.0 & 1.0 & 80622.5 & 250 & 750 & 10 & 0 & 0 & 100 & $\\dots$ \\\\\n",
       "\t6 & 100 & 0 & 99.0 & 0.994648 & 74671.7 & 250 & 750 & 2 & 0 & 0 & 100 & $\\dots$ \\\\\n",
       "\t7 & 100 & 0 & 99.0 & 0.994668 & 59676.8 & 250 & 750 & 2 & 0 & 0 & 100 & $\\dots$ \\\\\n",
       "\t8 & 100 & 0 & 99.0 & 0.994616 & 1.09056e5 & 250 & 750 & 6 & 0 & 0 & 100 & $\\dots$ \\\\\n",
       "\t9 & 100 & 0 & 99.0 & 0.994188 & 79540.4 & 250 & 750 & 6 & 0 & 0 & 100 & $\\dots$ \\\\\n",
       "\t10 & 100 & 0 & 99.0 & 0.994158 & 75179.3 & 250 & 750 & 8 & 0 & 0 & 100 & $\\dots$ \\\\\n",
       "\t11 & 100 & 0 & 99.0 & 0.994015 & 1.05126e5 & 250 & 750 & 10 & 0 & 0 & 100 & $\\dots$ \\\\\n",
       "\t12 & 100 & 0 & 98.0 & 0.988993 & 98084.2 & 250 & 750 & 1 & 0 & 0 & 100 & $\\dots$ \\\\\n",
       "\t13 & 100 & 0 & 98.0 & 0.988834 & 79857.1 & 250 & 750 & 1 & 0 & 0 & 100 & $\\dots$ \\\\\n",
       "\t14 & 100 & 0 & 98.0 & 0.988212 & 95341.8 & 250 & 750 & 2 & 0 & 0 & 100 & $\\dots$ \\\\\n",
       "\t15 & 100 & 0 & 98.0 & 0.988966 & 72836.7 & 250 & 750 & 6 & 0 & 0 & 100 & $\\dots$ \\\\\n",
       "\t16 & 100 & 0 & 98.0 & 0.988971 & 1.01844e5 & 250 & 750 & 8 & 0 & 0 & 100 & $\\dots$ \\\\\n",
       "\t17 & 100 & 0 & 97.0 & 0.98331 & 97033.5 & 250 & 750 & 4 & 0 & 0 & 100 & $\\dots$ \\\\\n",
       "\t18 & 100 & 0 & 96.0 & 0.97766 & 83390.6 & 250 & 750 & 8 & 0 & 0 & 100 & $\\dots$ \\\\\n",
       "\t19 & 100 & 0 & 95.0 & 0.971993 & 66052.6 & 250 & 750 & 4 & 0 & 0 & 100 & $\\dots$ \\\\\n",
       "\t20 & 100 & 0 & 84.0 & 0.987459 & 1.06821e5 & 250 & 750 & 2 & 0 & 0 & 100 & $\\dots$ \\\\\n",
       "\t21 & 100 & 0 & 7.0 & 0.692411 & 114750.0 & 250 & 750 & 4 & 0 & 0 & 100 & $\\dots$ \\\\\n",
       "\t22 & 100 & 0 & 0.0 & 0.63966 & 0.0 & 250 & 750 & 6 & 0 & 0 & 100 & $\\dots$ \\\\\n",
       "\t23 & 100 & 0 & 0.0 & 0.573895 & 0.0 & 250 & 750 & 8 & 0 & 0 & 100 & $\\dots$ \\\\\n",
       "\t24 & 100 & 0 & 0.0 & 0.560377 & 0.0 & 250 & 750 & 10 & 0 & 0 & 100 & $\\dots$ \\\\\n",
       "\\end{tabular}\n"
      ],
      "text/plain": [
       "\u001b[1m24×13 DataFrame\u001b[0m\n",
       "\u001b[1m Row \u001b[0m│\u001b[1m C     \u001b[0m\u001b[1m meme  \u001b[0m\u001b[1m SR      \u001b[0m\u001b[1m MBF      \u001b[0m\u001b[1m AES            \u001b[0m\u001b[1m mu    \u001b[0m\u001b[1m gens  \u001b[0m\u001b[1m k     \u001b[0m\u001b[1m d\u001b[0m ⋯\n",
       "\u001b[1m     \u001b[0m│\u001b[90m Int64 \u001b[0m\u001b[90m Bool  \u001b[0m\u001b[90m Float64 \u001b[0m\u001b[90m Float64  \u001b[0m\u001b[90m Float64        \u001b[0m\u001b[90m Int64 \u001b[0m\u001b[90m Int64 \u001b[0m\u001b[90m Int64 \u001b[0m\u001b[90m I\u001b[0m ⋯\n",
       "─────┼──────────────────────────────────────────────────────────────────────────\n",
       "   1 │   100  false    100.0  1.0        61587.5          250    750      1    ⋯\n",
       "   2 │   100  false    100.0  1.0        66447.5          250    750      1\n",
       "   3 │   100  false    100.0  1.0        75920.0          250    750      4\n",
       "   4 │   100  false    100.0  1.0        86382.5          250    750     10\n",
       "   5 │   100  false    100.0  1.0        80622.5          250    750     10    ⋯\n",
       "   6 │   100  false     99.0  0.994648   74671.7          250    750      2\n",
       "   7 │   100  false     99.0  0.994668   59676.8          250    750      2\n",
       "   8 │   100  false     99.0  0.994616       1.09056e5    250    750      6\n",
       "   9 │   100  false     99.0  0.994188   79540.4          250    750      6    ⋯\n",
       "  10 │   100  false     99.0  0.994158   75179.3          250    750      8\n",
       "  11 │   100  false     99.0  0.994015       1.05126e5    250    750     10\n",
       "  ⋮  │   ⋮      ⋮       ⋮        ⋮            ⋮           ⋮      ⋮      ⋮      ⋱\n",
       "  15 │   100  false     98.0  0.988966   72836.7          250    750      6\n",
       "  16 │   100  false     98.0  0.988971       1.01844e5    250    750      8    ⋯\n",
       "  17 │   100  false     97.0  0.98331    97033.5          250    750      4\n",
       "  18 │   100  false     96.0  0.97766    83390.6          250    750      8\n",
       "  19 │   100  false     95.0  0.971993   66052.6          250    750      4\n",
       "  20 │   100  false     84.0  0.987459       1.06821e5    250    750      2    ⋯\n",
       "  21 │   100  false      7.0  0.692411  114750.0          250    750      4\n",
       "  22 │   100  false      0.0  0.63966        0.0          250    750      6\n",
       "  23 │   100  false      0.0  0.573895       0.0          250    750      8\n",
       "  24 │   100  false      0.0  0.560377       0.0          250    750     10    ⋯\n",
       "\u001b[36m                                                    5 columns and 3 rows omitted\u001b[0m"
      ]
     },
     "execution_count": 22,
     "metadata": {},
     "output_type": "execute_result"
    }
   ],
   "source": [
    "using Plots \n",
    "sort!(sem_meme, [:SR], rev = true)\n",
    "# sort!(com_meme, [:SR], rev = true)\n",
    "# savefig(\"com_meme_k1_mu200_gen700_depth3_maxS100.png\")"
   ]
  },
  {
   "cell_type": "code",
   "execution_count": 26,
   "id": "ecological-bruce",
   "metadata": {},
   "outputs": [
    {
     "name": "stdout",
     "output_type": "stream",
     "text": [
      "100.0 : 0.8 : 1 : 61587.5\n",
      "100.0 : 1.0 : 1 : 66447.5\n",
      "100.0 : 0.6 : 4 : 75920.0\n",
      "100.0 : 0.6 : 10 : 86382.5\n",
      "100.0 : 0.8 : 10 : 80622.5\n",
      "99.0 : 0.6 : 2 : 74671.72\n",
      "99.0 : 0.8 : 2 : 59676.77\n",
      "99.0 : 0.4 : 6 : 109055.555\n",
      "99.0 : 0.6 : 6 : 79540.41\n",
      "99.0 : 0.8 : 8 : 75179.29\n",
      "99.0 : 0.4 : 10 : 105126.266\n",
      "98.0 : 0.4 : 1 : 98084.19\n",
      "98.0 : 0.6 : 1 : 79857.14\n",
      "98.0 : 0.4 : 2 : 95341.836\n",
      "98.0 : 0.8 : 6 : 72836.734\n",
      "98.0 : 0.4 : 8 : 101844.39\n",
      "97.0 : 0.4 : 4 : 97033.51\n",
      "96.0 : 0.6 : 8 : 83390.625\n",
      "95.0 : 0.8 : 4 : 66052.63\n",
      "84.0 : 1.0 : 2 : 106821.43\n",
      "7.0 : 1.0 : 4 : 114750.0\n",
      "0.0 : 1.0 : 6 : 0.0\n",
      "0.0 : 1.0 : 8 : 0.0\n",
      "0.0 : 1.0 : 10 : 0.0\n"
     ]
    }
   ],
   "source": [
    "for row in eachrow(sem_meme)\n",
    "    println(row.SR, \" : \", row.taxaM, \" : \", row.k, \" : \", row.AES)\n",
    "end"
   ]
  }
 ],
 "metadata": {
  "kernelspec": {
   "display_name": "Julia 1.7.2",
   "language": "julia",
   "name": "julia-1.7"
  },
  "language_info": {
   "file_extension": ".jl",
   "mimetype": "application/julia",
   "name": "julia",
   "version": "1.7.2"
  }
 },
 "nbformat": 4,
 "nbformat_minor": 5
}
