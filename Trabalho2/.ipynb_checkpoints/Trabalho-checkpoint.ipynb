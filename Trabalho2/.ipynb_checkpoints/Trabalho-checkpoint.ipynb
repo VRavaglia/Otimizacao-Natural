{
 "cells": [
  {
   "cell_type": "markdown",
   "id": "conventional-cycling",
   "metadata": {},
   "source": [
    "### O problema analizado é o caixeiro viajante com cidades dispostas ao longo de uma esctrela. O problema é equivalente ao de cidades dispostas ao longo de um circulo, mas com raio variável. Os mínimos continuam sendo os casos em que as cidades seguem ordem crescente ou decrescente.\n"
   ]
  },
  {
   "cell_type": "code",
   "execution_count": 1,
   "id": "driving-uruguay",
   "metadata": {},
   "outputs": [
    {
     "data": {
      "text/plain": [
       "1:60"
      ]
     },
     "execution_count": 1,
     "metadata": {},
     "output_type": "execute_result"
    }
   ],
   "source": [
    "using LinearAlgebra\n",
    "using Plots\n",
    "using TimerOutputs\n",
    "using Waveforms\n",
    "using Distributed;\n",
    "using ProgressMeter\n",
    "using Profile\n",
    "using Dagger\n",
    "\n",
    "#Definiçoes\n",
    "\n",
    "const cidades = 100\n",
    "const raioBase = 0.8506508\n",
    "\n",
    "const fatorNormalizacao = 1\n",
    "const raioPentagono = (raioBase .+ 0.2*trianglewave.(10*pi.*(0:cidades-1)./(cidades)) .+ 0.2)\n",
    "const pos = raioPentagono.*[cos.(2 .* pi .* (0:cidades-1) ./ cidades) sin.(2 .* pi .* (0:cidades-1) ./ cidades)];\n",
    "\n",
    "const ordemOtima = 1:cidades"
   ]
  },
  {
   "cell_type": "code",
   "execution_count": 2,
   "id": "eligible-paste",
   "metadata": {},
   "outputs": [],
   "source": [
    "using LinearAlgebra\n",
    "\n",
    "custosTemp = zeros(Float32, cidades, cidades)\n",
    "\n",
    "for i = 1:cidades\n",
    "    for j in 1:cidades\n",
    "        custosTemp[i, j] = norm(pos[i, :]-pos[j, :])\n",
    "    end\n",
    "end\n",
    "\n",
    "const custos = custosTemp;"
   ]
  },
  {
   "cell_type": "code",
   "execution_count": 3,
   "id": "suspected-chrome",
   "metadata": {},
   "outputs": [
    {
     "data": {
      "text/plain": [
       "J (generic function with 1 method)"
      ]
     },
     "execution_count": 3,
     "metadata": {},
     "output_type": "execute_result"
    }
   ],
   "source": [
    "function J(ordem)\n",
    "    distTot = 0.0\n",
    "    for i = 2:cidades\n",
    "        distTot += custos[ordem[i], ordem[i-1]]    \n",
    "    end\n",
    "    \n",
    "    distTot += custos[ordem[end], ordem[1]]\n",
    "    \n",
    "    return distTot\n",
    "end"
   ]
  },
  {
   "cell_type": "code",
   "execution_count": 4,
   "id": "democratic-border",
   "metadata": {},
   "outputs": [
    {
     "data": {
      "text/plain": [
       "J (generic function with 2 methods)"
      ]
     },
     "execution_count": 4,
     "metadata": {},
     "output_type": "execute_result"
    }
   ],
   "source": [
    "function J(ordem, cIdx = 0)\n",
    "    distTot = 0.0\n",
    "    for i = 2:cidades\n",
    "        if cIdx == 0\n",
    "            distTot += custos[ordem[i], ordem[i-1]]\n",
    "        else    \n",
    "            distTot += custos[ordem[cIdx, i], ordem[cIdx, i-1]]\n",
    "        end\n",
    "    end\n",
    "    \n",
    "    if cIdx == 0\n",
    "        distTot += custos[ordem[end], ordem[1]]\n",
    "    else\n",
    "        distTot += custos[ordem[cIdx, end], ordem[cIdx, 1]]\n",
    "    end\n",
    "    \n",
    "    return distTot\n",
    "end"
   ]
  },
  {
   "cell_type": "code",
   "execution_count": 5,
   "id": "apart-queens",
   "metadata": {},
   "outputs": [
    {
     "data": {
      "text/plain": [
       "PMX (generic function with 1 method)"
      ]
     },
     "execution_count": 5,
     "metadata": {},
     "output_type": "execute_result"
    }
   ],
   "source": [
    "function PMX(p1, p2, child)\n",
    "    csize = length(p1)\n",
    "    child .= 0\n",
    "    \n",
    "    #1\n",
    "    \n",
    "    i1 = rand(1:csize)\n",
    "    i2 = rand(1:csize)\n",
    "\n",
    "    if i1 > i2\n",
    "        i1, i2 = i2, i1\n",
    "    end\n",
    "    \n",
    "    # explicito para reduzir alocacoes\n",
    "    for i = i1:i2\n",
    "        child[i] = p1[i]\n",
    "    end\n",
    "    \n",
    "    #2\n",
    "    for i = i1:i2\n",
    "        rep2 = p2[i]\n",
    "        found = false\n",
    "        \n",
    "        # usar findall()[1] gera muitas alocacoes\n",
    "        rep_idx2 = findFirst(p2, rep2)\n",
    "        \n",
    "        # usar rep2 in child[i1:i2] gera muitas alocacoes\n",
    "        # por conta do slice [i1:i2]\n",
    "        for j = i1:i2\n",
    "            if rep2 == child[j]\n",
    "                found = true\n",
    "                break\n",
    "            end\n",
    "        end\n",
    "        while(!found)\n",
    "            rep1 = p1[rep_idx2]\n",
    "            rep_idx1 = findFirst(p1, rep1)\n",
    "            \n",
    "            if(rep_idx1 < i1 || rep_idx1 > i2)\n",
    "                child[rep_idx1] = rep2\n",
    "                found = true\n",
    "            else\n",
    "                rep_idx2 = findFirst(p2, rep1)\n",
    "            end\n",
    "        end\n",
    "    end    \n",
    "    #3\n",
    "    \n",
    "    for i = 1:csize\n",
    "        if child[i] == 0\n",
    "            child[i] = p2[i]\n",
    "        end\n",
    "    end\n",
    "    \n",
    "    return child\n",
    "end"
   ]
  },
  {
   "cell_type": "code",
   "execution_count": 6,
   "id": "commercial-words",
   "metadata": {},
   "outputs": [
    {
     "data": {
      "text/plain": [
       "findFirst (generic function with 1 method)"
      ]
     },
     "execution_count": 6,
     "metadata": {},
     "output_type": "execute_result"
    }
   ],
   "source": [
    "function findFirst(input, element)\n",
    "    idx = 0\n",
    "    for el in input\n",
    "        idx += 1\n",
    "        if element == el\n",
    "            return idx\n",
    "        end\n",
    "    end\n",
    "end"
   ]
  },
  {
   "cell_type": "code",
   "execution_count": 7,
   "id": "professional-grocery",
   "metadata": {},
   "outputs": [
    {
     "data": {
      "text/plain": [
       "reverse (generic function with 1 method)"
      ]
     },
     "execution_count": 7,
     "metadata": {},
     "output_type": "execute_result"
    }
   ],
   "source": [
    "function reverse(A, i1, i2)\n",
    "    max = length(A)\n",
    "    for i = i1:i2\n",
    "        A[i] = A[max-i]\n",
    "    end\n",
    "end"
   ]
  },
  {
   "cell_type": "code",
   "execution_count": 8,
   "id": "unavailable-interval",
   "metadata": {},
   "outputs": [
    {
     "data": {
      "text/plain": [
       "AES (generic function with 1 method)"
      ]
     },
     "execution_count": 8,
     "metadata": {},
     "output_type": "execute_result"
    }
   ],
   "source": [
    "#SR\n",
    "function SR(lista, min, proximidade)\n",
    "    taxa = 0\n",
    "    rodadas = length(lista)\n",
    "    \n",
    "    for l in lista\n",
    "        if(abs(min - l) <= proximidade)\n",
    "            taxa += 1/rodadas\n",
    "        end\n",
    "    end\n",
    "    \n",
    "    return taxa*100\n",
    "end\n",
    "\n",
    "using Statistics\n",
    "\n",
    "#MBF\n",
    "function MBF(lista, min)   \n",
    "    return min/mean(lista)\n",
    "end\n",
    "\n",
    "#AES\n",
    "function AES(execsPorIt)\n",
    "    taxa = 0\n",
    "    rodadas = 0\n",
    "    \n",
    "    for exec in execsPorIt\n",
    "        if exec > 0\n",
    "            taxa += exec\n",
    "            rodadas += 1\n",
    "        end\n",
    "    end\n",
    "    if rodadas > 0\n",
    "        taxa = taxa/rodadas\n",
    "    end\n",
    "    return taxa\n",
    "end"
   ]
  },
  {
   "cell_type": "code",
   "execution_count": 9,
   "id": "consistent-korea",
   "metadata": {},
   "outputs": [
    {
     "data": {
      "text/plain": [
       "SGA_cidades (generic function with 1 method)"
      ]
     },
     "execution_count": 9,
     "metadata": {},
     "output_type": "execute_result"
    }
   ],
   "source": [
    "function SGA_cidades(Xs, gens, k, Jmin, mu, meme, depth, maxSearch)\n",
    "    parents = Array{Int16}(undef, k, cidades)\n",
    "    xhat = Array{Int16}(undef, cidades)\n",
    "    child = Array{Int16}(undef, cidades)\n",
    "    p1 = Array{Int16}(undef, cidades)\n",
    "    p2 = Array{Int16}(undef, cidades)\n",
    "    Jhist = Array{Float32}(undef, gens)\n",
    "    execsHist = 0\n",
    "    scores = Array{Float32}(undef, mu)\n",
    "    for gen = 1:gens\n",
    "        # Pontuacao  \n",
    "        for i = 1:mu\n",
    "            scores[i] = J(Xs, i)\n",
    "            execsHist += 1\n",
    "        end\n",
    "        minIdx = argmin(scores)\n",
    "        Jhist[gen] = scores[minIdx]\n",
    "        if(abs(Jmin - scores[minIdx]) < 0.001)\n",
    "#             println(\"Minimo encontrado\");\n",
    "            Jhist[gen:end] .= Jmin\n",
    "            return scores[minIdx], Xs[minIdx, :], Jhist, execsHist\n",
    "        end\n",
    "        \n",
    "        # Selecao dos Pais\n",
    "        topIdx = sortperm(scores, rev=false)\n",
    "\n",
    "        # gerava alocacoes\n",
    "        # copy!(parents, Xs[topIdx[1:k], :])\n",
    "\n",
    "        for i = 1:k\n",
    "            for j = 1:cidades\n",
    "                parents[i, j] = Xs[topIdx[i], j]\n",
    "            end\n",
    "        end\n",
    "        \n",
    "        \n",
    "        # Crossover\n",
    "        for i = 1:mu\n",
    "            # gerava alocacoes\n",
    "            # copy!(p1, parents[rand(1:k), :])\n",
    "            # copy!(p2, parents[rand(1:k), :])\n",
    "\n",
    "            r1 = rand(1:k)\n",
    "            r2 = rand(1:k)\n",
    "            for j = 1:cidades\n",
    "                p1[j] = parents[r1, j]\n",
    "                p2[j] = parents[r2, j]\n",
    "            end\n",
    "            \n",
    "            Xs[i, :] = PMX(p1, p2, child)\n",
    "        end\n",
    "        \n",
    "        # Mutacao\n",
    "        for i = 1:mu\n",
    "            i1 = rand(1:cidades)\n",
    "            i2 = rand(1:cidades)\n",
    "            if i1 > i2\n",
    "                i1, i2 = i2, i1\n",
    "            end\n",
    "            \n",
    "            \n",
    "            Xs[i, i1:i2] = Xs[i, i2:-1:i1]           \n",
    "        end\n",
    "        \n",
    "        # Memetico\n",
    "        if meme\n",
    "            for i = 1:mu\n",
    "                for depths = 1:depth\n",
    "                    Jold = J(Xs, i)\n",
    "                    execsHist += 1;\n",
    "                    dJ = 1\n",
    "                    searches = 0\n",
    "                    while dJ >=0 && searches < maxSearch\n",
    "                        for j = 1:cidades \n",
    "                            xhat[j] = Xs[i, j]\n",
    "                        end\n",
    "                        i1 = rand(1:cidades)\n",
    "                        i2 = rand(1:cidades)\n",
    "                        if i1 > i2\n",
    "                            i1, i2 = i2, i1\n",
    "                        end\n",
    "                        xhat[i1:i2] = xhat[i2:-1:i1]\n",
    "                        dJ = J(xhat) - Jold\n",
    "                        execsHist += 1;\n",
    "                        searches += 1\n",
    "                    end\n",
    "                    if dJ < 0\n",
    "                        for j = 1:cidades \n",
    "                            Xs[i, j] = xhat[j]\n",
    "                        end\n",
    "                    else\n",
    "                        break\n",
    "                    end\n",
    "                end\n",
    "            end\n",
    "        end\n",
    "    end\n",
    "    # Pontuacao\n",
    "    minIdx = argmin(scores)\n",
    "#     println(\"Minimo nao encontrado:\");\n",
    "    execsHist = -1\n",
    "    return scores[minIdx], Xs[minIdx, :], Jhist, execsHist\n",
    "end"
   ]
  },
  {
   "cell_type": "code",
   "execution_count": 10,
   "id": "mobile-dictionary",
   "metadata": {},
   "outputs": [
    {
     "data": {
      "text/plain": [
       "idx2grid (generic function with 2 methods)"
      ]
     },
     "execution_count": 10,
     "metadata": {},
     "output_type": "execute_result"
    }
   ],
   "source": [
    "function idx2grid(idx, meme = false)\n",
    "    its = 0\n",
    "    for mu in mus\n",
    "        for gen in gens\n",
    "            for k in ks\n",
    "                for run in runs\n",
    "                    if meme\n",
    "                        for depth in depths\n",
    "                            for maxS in maxSearches\n",
    "                                its += 1\n",
    "                                if its == idx\n",
    "                                    return mu, gen, k, run, depth, maxS\n",
    "                                end\n",
    "                            end\n",
    "                        end\n",
    "                    else\n",
    "                        its += 1\n",
    "                        if its == idx\n",
    "                            return mu, gen, k, run, 0, 0\n",
    "                        end\n",
    "                    end\n",
    "                end\n",
    "            end\n",
    "        end\n",
    "    end\n",
    "    return its\n",
    "end"
   ]
  },
  {
   "cell_type": "code",
   "execution_count": 11,
   "id": "ambient-skirt",
   "metadata": {},
   "outputs": [
    {
     "data": {
      "text/plain": [
       "125"
      ]
     },
     "execution_count": 11,
     "metadata": {},
     "output_type": "execute_result"
    }
   ],
   "source": [
    "const runs = [100]\n",
    "const mus = [50, 100, 150, 200, 250]\n",
    "const gens = [150, 300, 450, 600, 750]\n",
    "const ks = [1, 2, 3, 4, 5]\n",
    "const depths = [1, 2, 3, 4, 5]\n",
    "const maxSearches = [10, 50, 100, 150, 200]\n",
    "const meme = false\n",
    "const grid = false\n",
    "const maxIts = idx2grid(0, meme)\n",
    "\n",
    "\n",
    "# const runs = [100]\n",
    "# const mus = [200]\n",
    "# const gens = [600]\n",
    "# const ks = [1, 2]\n",
    "# const depths = [25]\n",
    "# const maxSearches = [100]\n"
   ]
  },
  {
   "cell_type": "code",
   "execution_count": 26,
   "id": "secret-stable",
   "metadata": {},
   "outputs": [
    {
     "name": "stderr",
     "output_type": "stream",
     "text": [
      "\u001b[32mProgress: 100%|█████████████████████████████████████████| Time: 0:00:02\u001b[39m\n"
     ]
    },
    {
     "name": "stdout",
     "output_type": "stream",
     "text": [
      "  2.917085 seconds (2.89 M allocations: 301.570 MiB, 0.87% gc time)\n",
      "99.00000000000007\n",
      "0.9939515231094306\n",
      "25318.18181818182\n"
     ]
    }
   ],
   "source": [
    "using ProgressMeter\n",
    "using Random\n",
    "\n",
    "\n",
    "if !grid\n",
    "Jmin = J(ordemOtima)\n",
    "mu = 300\n",
    "gen = 1000\n",
    "k = 1\n",
    "arun = 100\n",
    "depth = 3\n",
    "maxSearch = 100\n",
    "\n",
    "allJmin = zeros(arun)\n",
    "allExecs = zeros(arun)\n",
    "allDistancias = zeros(gen, arun)\n",
    "\n",
    "@time begin\n",
    "@showprogress for j = 1:arun\n",
    "    Random.seed!(j);\n",
    "    \n",
    "    Xs = Array{Int16}(undef, mu, cidades)\n",
    "    for i = 1:mu\n",
    "        Xs[i, :] = shuffle(1:cidades)\n",
    "    end\n",
    "     \n",
    "    time = @elapsed begin\n",
    "        minS, bestX, Jhist, execs = SGA_cidades(Xs, gen, k, Jmin, mu, meme, depth, maxSearch);\n",
    "    end\n",
    "    allDistancias[:, j] = Jhist\n",
    "    allJmin[j] = minS\n",
    "    allExecs[j] = execs\n",
    "end\n",
    "end\n",
    "\n",
    "println(SR(allJmin, Jmin, 0.001))\n",
    "println(MBF(allJmin, Jmin))\n",
    "println(AES(allExecs))\n",
    "end"
   ]
  },
  {
   "cell_type": "code",
   "execution_count": 28,
   "id": "sized-latest",
   "metadata": {},
   "outputs": [],
   "source": [
    "using ProfileView\n",
    "Xs = Array{Int16}(undef, mu, cidades)\n",
    "    for i = 1:mu\n",
    "        Xs[i, :] = shuffle(1:cidades)\n",
    "    end\n",
    "@profview SGA_cidades(Xs, gen, k, Jmin, mu, meme, depth, maxSearch);  # run once to trigger compilation (ignore this one)\n",
    "Xs = Array{Int16}(undef, mu, cidades)\n",
    "    for i = 1:mu\n",
    "        Xs[i, :] = shuffle(1:cidades)\n",
    "    end\n",
    "@profview SGA_cidades(Xs, gen, k, Jmin, mu, meme, depth, maxSearch);"
   ]
  },
  {
   "cell_type": "code",
   "execution_count": 13,
   "id": "fifty-dublin",
   "metadata": {
    "tags": []
   },
   "outputs": [
    {
     "data": {
      "text/plain": [
       "5"
      ]
     },
     "execution_count": 13,
     "metadata": {},
     "output_type": "execute_result"
    }
   ],
   "source": [
    "using Measures\n",
    "using Plots\n",
    "\n",
    "step = 1\n",
    "step2 = 5\n",
    "# plot(Jmin./allDistancias[:, 1:step2:run],xtickfontsize=12,ytickfontsize=12, legendfontsize=10, xlabel=\"Gerações\", ylabel=\"Aptidão\")\n",
    "# plot!(1:step:(gen+100), ones(gen+100, 1), label = \"Jotimo\", lw = 2)\n",
    "# savefig(\"com_meme_k1_mu200_gen700_depth3_maxS100.png\")"
   ]
  },
  {
   "cell_type": "code",
   "execution_count": 14,
   "id": "different-economy",
   "metadata": {},
   "outputs": [],
   "source": [
    "using ProgressMeter\n",
    "using Random\n",
    "\n",
    "if grid\n",
    "allSR = Array{Float32}(undef, maxIts)\n",
    "allMBF = Array{Float32}(undef, maxIts)\n",
    "allAES = Array{Float32}(undef, maxIts)\n",
    "\n",
    "Jmin = J(ordemOtima)\n",
    "proximidade = 0.001\n",
    "N = maxIts*sum(runs)\n",
    "p = Progress(N);\n",
    "update!(p,0)\n",
    "jj = Threads.Atomic{Int}(0)\n",
    "l = Threads.SpinLock()\n",
    "Threads.@threads for it in 1:maxIts\n",
    "# @showprogress for it in 1:maxIts\n",
    "    mu, gen, k, arun, depth, maxS = idx2grid(it, meme)\n",
    "    allJmin = zeros(arun)\n",
    "    allExecs = zeros(arun)\n",
    "    for it = 1:arun\n",
    "        Random.seed!(it);\n",
    "        Xs = Array{Int16}(undef, mu, cidades)\n",
    "        for i = 1:mu\n",
    "            Xs[i, :] = shuffle(1:cidades)   \n",
    "        end\n",
    "        minS, ~, ~, execs = SGA_cidades(Xs, gen, k, Jmin, mu, meme, depth, maxS);\n",
    "        allJmin[it] = minS\n",
    "        allExecs[it] = execs\n",
    "        Threads.atomic_add!(jj, 1)\n",
    "        Threads.lock(l)\n",
    "        update!(p, jj[])\n",
    "        Threads.unlock(l) \n",
    "    end\n",
    "    allSR[it] = SR(allJmin, Jmin, proximidade)\n",
    "    allMBF[it] = MBF(allJmin, Jmin)\n",
    "    allAES[it] = AES(allExecs) \n",
    "end\n",
    "end"
   ]
  },
  {
   "cell_type": "code",
   "execution_count": 15,
   "id": "destroyed-genre",
   "metadata": {},
   "outputs": [
    {
     "ename": "LoadError",
     "evalue": "UndefVarError: allSR not defined",
     "output_type": "error",
     "traceback": [
      "UndefVarError: allSR not defined",
      "",
      "Stacktrace:",
      " [1] top-level scope",
      "   @ In[15]:1",
      " [2] eval",
      "   @ .\\boot.jl:373 [inlined]",
      " [3] include_string(mapexpr::typeof(REPL.softscope), mod::Module, code::String, filename::String)",
      "   @ Base .\\loading.jl:1196"
     ]
    }
   ],
   "source": [
    "println(allSR)\n",
    "println(allMBF)\n",
    "println(allAES)"
   ]
  },
  {
   "cell_type": "code",
   "execution_count": 16,
   "id": "union-volleyball",
   "metadata": {},
   "outputs": [],
   "source": [
    "if grid\n",
    "histogram(allSR, title = \"SR\")\n",
    "end"
   ]
  },
  {
   "cell_type": "code",
   "execution_count": 17,
   "id": "rubber-sound",
   "metadata": {},
   "outputs": [],
   "source": [
    "if grid\n",
    "plot(allMBF, title = \"MBF\")\n",
    "end"
   ]
  },
  {
   "cell_type": "code",
   "execution_count": 18,
   "id": "interested-poland",
   "metadata": {},
   "outputs": [],
   "source": [
    "if grid\n",
    "plot(allAES, title = \"AES\")\n",
    "end"
   ]
  },
  {
   "cell_type": "code",
   "execution_count": 19,
   "id": "common-campaign",
   "metadata": {},
   "outputs": [
    {
     "data": {
      "text/plain": [
       "(50, 150, 1, 100, 0, 0)"
      ]
     },
     "execution_count": 19,
     "metadata": {},
     "output_type": "execute_result"
    }
   ],
   "source": [
    "idx2grid(1)"
   ]
  },
  {
   "cell_type": "code",
   "execution_count": 20,
   "id": "unnecessary-comment",
   "metadata": {},
   "outputs": [],
   "source": [
    "# using Plots\n",
    "\n",
    "# if ploting\n",
    "    \n",
    "#     bOrdem = allOrdemMin[bestCFG, :]\n",
    "#     bestJ = allJmin[bestCFG]\n",
    "\n",
    "#     println(\"Jmin: \", bestJ)\n",
    "#     println(\"Jotimo: \", Jmin)\n",
    "#     plot([0], [0], seriestype = :scatter, xlim=[-1.5, 1.5], ylim=[-1.5, 1.5], size = (500, 500), grid = true)\n",
    "#     xt(t) = sin(t)*raioBase\n",
    "#     yt(t) = cos(t)*raioBase\n",
    "#     plot!(xt, yt, 0, 2*pi, leg=false)\n",
    "#     plot!(pos[:, 1], pos[:, 2], seriestype = :scatter, mode=\"markers+text\", text=0:cidades-1)\n",
    "\n",
    "#     quiver!(pos[bOrdem, 1][:],pos[bOrdem, 2][:],quiver=(pos[[bOrdem[2:end]; bOrdem[1]], 1] - pos[bOrdem, 1][:],pos[[bOrdem[2:end]; bOrdem[1]], 2] - pos[bOrdem, 2][:])) \n",
    "# end"
   ]
  },
  {
   "cell_type": "code",
   "execution_count": 21,
   "id": "written-roommate",
   "metadata": {},
   "outputs": [],
   "source": [
    "# if plotting\n",
    "#     proximidade = 0.001\n",
    "#     vSR = round(SR(allJmin, Jmin, proximidade), digits=2)\n",
    "#     vMBF = round(MBF(allJmin), digits=2)\n",
    "#     vAES = round(AES(allExecs), digits=2)\n",
    "#     println(\"SR: \", vSR)\n",
    "#     println(\"MBF: \", vMBF)\n",
    "#     println(\"AES: \", vAES)\n",
    "# end"
   ]
  },
  {
   "cell_type": "code",
   "execution_count": 22,
   "id": "mechanical-hartford",
   "metadata": {},
   "outputs": [],
   "source": [
    "\n",
    "# header: C, meme, SR, MBF, AES, mu, gens, k, depth, maxS, runs\n",
    "if grid\n",
    "    for it = 1:maxIts\n",
    "        mu, gen, k, arun, depth, maxS = idx2grid(it, meme)\n",
    "        resultados = string(cidades, \",\", meme, \",\", allSR[it], \",\", allMBF[it], \",\", allAES[it], \",\", mu, \",\", gen, \",\", k, \",\", depth, \",\", maxS, \",\", arun,\"\\n\")\n",
    "    #     println(resultados)\n",
    "\n",
    "        open(\"resultados_melhor-Copy1.csv\",\"a\") do io\n",
    "            write(io, resultados)\n",
    "        end;\n",
    "    end\n",
    "end"
   ]
  }
 ],
 "metadata": {
  "kernelspec": {
   "display_name": "Julia 1.7.2",
   "language": "julia",
   "name": "julia-1.7"
  },
  "language_info": {
   "file_extension": ".jl",
   "mimetype": "application/julia",
   "name": "julia",
   "version": "1.7.2"
  }
 },
 "nbformat": 4,
 "nbformat_minor": 5
}
