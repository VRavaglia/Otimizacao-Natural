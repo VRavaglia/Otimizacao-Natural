{
 "cells": [
  {
   "cell_type": "markdown",
   "id": "built-amino",
   "metadata": {},
   "source": [
    "### O problema analizado é o caixeiro viajante com cidades dispostas ao longo de uma esctrela. O problema é equivalente ao de cidades dispostas ao longo de um circulo, mas com raio variável. Os mínimos continuam sendo os casos em que as cidades seguem ordem crescente ou decrescente.\n"
   ]
  },
  {
   "cell_type": "code",
   "execution_count": 1,
   "id": "introductory-agency",
   "metadata": {},
   "outputs": [
    {
     "data": {
      "text/plain": [
       "1:100"
      ]
     },
     "execution_count": 1,
     "metadata": {},
     "output_type": "execute_result"
    }
   ],
   "source": [
    "using LinearAlgebra\n",
    "using Plots\n",
    "using TimerOutputs\n",
    "using Waveforms\n",
    "using Distributed;\n",
    "using ProgressMeter\n",
    "using Profile\n",
    "using Dagger\n",
    "\n",
    "#Definiçoes\n",
    "\n",
    "const cidades = 100\n",
    "const raioBase = 0.8506508\n",
    "\n",
    "const fatorNormalizacao = 1\n",
    "const raioPentagono = (raioBase .+ 0.2*trianglewave.(10*pi.*(0:cidades-1)./(cidades)) .+ 0.2)\n",
    "const pos = raioPentagono.*[cos.(2 .* pi .* (0:cidades-1) ./ cidades) sin.(2 .* pi .* (0:cidades-1) ./ cidades)];\n",
    "\n",
    "const ordemOtima = 1:cidades"
   ]
  },
  {
   "cell_type": "code",
   "execution_count": 2,
   "id": "qualified-arrangement",
   "metadata": {},
   "outputs": [],
   "source": [
    "using LinearAlgebra\n",
    "\n",
    "custosTemp = zeros(Float32, cidades, cidades)\n",
    "\n",
    "for i = 1:cidades\n",
    "    for j in 1:cidades\n",
    "        custosTemp[i, j] = norm(pos[i, :]-pos[j, :])\n",
    "    end\n",
    "end\n",
    "\n",
    "const custos = custosTemp;"
   ]
  },
  {
   "cell_type": "code",
   "execution_count": 3,
   "id": "latter-investor",
   "metadata": {},
   "outputs": [
    {
     "data": {
      "text/plain": [
       "J (generic function with 1 method)"
      ]
     },
     "execution_count": 3,
     "metadata": {},
     "output_type": "execute_result"
    }
   ],
   "source": [
    "function J(ordem)\n",
    "    distTot = 0.0\n",
    "    for i = 2:cidades\n",
    "        distTot += custos[ordem[i], ordem[i-1]]    \n",
    "    end\n",
    "    \n",
    "    distTot += custos[ordem[end], ordem[1]]\n",
    "    \n",
    "    return distTot\n",
    "end"
   ]
  },
  {
   "cell_type": "code",
   "execution_count": 4,
   "id": "continuous-merchant",
   "metadata": {},
   "outputs": [
    {
     "data": {
      "text/plain": [
       "J (generic function with 2 methods)"
      ]
     },
     "execution_count": 4,
     "metadata": {},
     "output_type": "execute_result"
    }
   ],
   "source": [
    "function J(ordem, cIdx = 0)\n",
    "    distTot = 0.0\n",
    "    for i = 2:cidades\n",
    "        if cIdx == 0\n",
    "            distTot += custos[ordem[i], ordem[i-1]]\n",
    "        else    \n",
    "            distTot += custos[ordem[cIdx, i], ordem[cIdx, i-1]]\n",
    "        end\n",
    "    end\n",
    "    \n",
    "    if cIdx == 0\n",
    "        distTot += custos[ordem[end], ordem[1]]\n",
    "    else\n",
    "        distTot += custos[ordem[cIdx, end], ordem[cIdx, 1]]\n",
    "    end\n",
    "    \n",
    "    return distTot\n",
    "end"
   ]
  },
  {
   "cell_type": "code",
   "execution_count": 5,
   "id": "packed-bidder",
   "metadata": {},
   "outputs": [
    {
     "data": {
      "text/plain": [
       "PMX (generic function with 1 method)"
      ]
     },
     "execution_count": 5,
     "metadata": {},
     "output_type": "execute_result"
    }
   ],
   "source": [
    "function PMX(p1, p2, child)\n",
    "    csize = length(p1)\n",
    "    child .= 0\n",
    "    \n",
    "    #1\n",
    "    \n",
    "    i1 = rand(1:csize)\n",
    "    i2 = rand(1:csize)\n",
    "\n",
    "    if i1 > i2\n",
    "        i1, i2 = i2, i1\n",
    "    end\n",
    "    \n",
    "    # explicito para reduzir alocacoes\n",
    "    for i = i1:i2\n",
    "        child[i] = p1[i]\n",
    "    end\n",
    "    \n",
    "    #2\n",
    "    for i = i1:i2\n",
    "        rep2 = p2[i]\n",
    "        found = false\n",
    "        \n",
    "        # usar findall()[1] gera muitas alocacoes\n",
    "        rep_idx2 = findFirst(p2, rep2)\n",
    "        \n",
    "        # usar rep2 in child[i1:i2] gera muitas alocacoes\n",
    "        # por conta do slice [i1:i2]\n",
    "        for j = i1:i2\n",
    "            if rep2 == child[j]\n",
    "                found = true\n",
    "                break\n",
    "            end\n",
    "        end\n",
    "        while(!found)\n",
    "            rep1 = p1[rep_idx2]\n",
    "            rep_idx1 = findFirst(p1, rep1)\n",
    "            \n",
    "            if(rep_idx1 < i1 || rep_idx1 > i2)\n",
    "                child[rep_idx1] = rep2\n",
    "                found = true\n",
    "            else\n",
    "                rep_idx2 = findFirst(p2, rep1)\n",
    "            end\n",
    "        end\n",
    "    end    \n",
    "    #3\n",
    "    \n",
    "    for i = 1:csize\n",
    "        if child[i] == 0\n",
    "            child[i] = p2[i]\n",
    "        end\n",
    "    end\n",
    "    \n",
    "    return child\n",
    "end"
   ]
  },
  {
   "cell_type": "code",
   "execution_count": 6,
   "id": "geographic-season",
   "metadata": {},
   "outputs": [
    {
     "data": {
      "text/plain": [
       "findFirst (generic function with 1 method)"
      ]
     },
     "execution_count": 6,
     "metadata": {},
     "output_type": "execute_result"
    }
   ],
   "source": [
    "function findFirst(input, element)\n",
    "    idx = 0\n",
    "    for el in input\n",
    "        idx += 1\n",
    "        if element == el\n",
    "            return idx\n",
    "        end\n",
    "    end\n",
    "end"
   ]
  },
  {
   "cell_type": "code",
   "execution_count": 7,
   "id": "sudden-electron",
   "metadata": {},
   "outputs": [
    {
     "data": {
      "text/plain": [
       "reverse (generic function with 1 method)"
      ]
     },
     "execution_count": 7,
     "metadata": {},
     "output_type": "execute_result"
    }
   ],
   "source": [
    "function reverse(A, i1, i2)\n",
    "    max = length(A)\n",
    "    for i = i1:i2\n",
    "        A[i] = A[max-i]\n",
    "    end\n",
    "end"
   ]
  },
  {
   "cell_type": "code",
   "execution_count": 8,
   "id": "divine-acrobat",
   "metadata": {},
   "outputs": [
    {
     "data": {
      "text/plain": [
       "AES (generic function with 1 method)"
      ]
     },
     "execution_count": 8,
     "metadata": {},
     "output_type": "execute_result"
    }
   ],
   "source": [
    "#SR\n",
    "function SR(lista, min, proximidade)\n",
    "    taxa = 0\n",
    "    rodadas = length(lista)\n",
    "    \n",
    "    for l in lista\n",
    "        if(abs(min - l) <= proximidade)\n",
    "            taxa += 1/rodadas\n",
    "        end\n",
    "    end\n",
    "    \n",
    "    return taxa*100\n",
    "end\n",
    "\n",
    "using Statistics\n",
    "\n",
    "#MBF\n",
    "function MBF(lista, min)   \n",
    "    return min/mean(lista)\n",
    "end\n",
    "\n",
    "#AES\n",
    "function AES(execsPorIt)\n",
    "    taxa = 0\n",
    "    rodadas = 0\n",
    "    \n",
    "    for exec in execsPorIt\n",
    "        if exec > 0\n",
    "            taxa += exec\n",
    "            rodadas += 1\n",
    "        end\n",
    "    end\n",
    "    if rodadas > 0\n",
    "        taxa = taxa/rodadas\n",
    "    end\n",
    "    return taxa\n",
    "end"
   ]
  },
  {
   "cell_type": "code",
   "execution_count": 9,
   "id": "particular-dubai",
   "metadata": {},
   "outputs": [
    {
     "data": {
      "text/plain": [
       "SGA_cidades (generic function with 1 method)"
      ]
     },
     "execution_count": 9,
     "metadata": {},
     "output_type": "execute_result"
    }
   ],
   "source": [
    "function SGA_cidades(Xs, gens, k, Jmin, mu, meme, depth, maxSearch, taxaMut)\n",
    "    parents = Array{Int16}(undef, k, cidades)\n",
    "    xhat = Array{Int16}(undef, cidades)\n",
    "    child = Array{Int16}(undef, cidades)\n",
    "    p1 = Array{Int16}(undef, cidades)\n",
    "    p2 = Array{Int16}(undef, cidades)\n",
    "    Jhist = Array{Float32}(undef, gens)\n",
    "    execsHist = 0\n",
    "    scores = Array{Float32}(undef, mu)\n",
    "    for gen = 1:gens\n",
    "        # Pontuacao  \n",
    "        for i = 1:mu\n",
    "            scores[i] = J(Xs, i)\n",
    "            execsHist += 1\n",
    "        end\n",
    "        minIdx = argmin(scores)\n",
    "        Jhist[gen] = scores[minIdx]\n",
    "        if(abs(Jmin - scores[minIdx]) < 0.001)\n",
    "#             println(\"Minimo encontrado\");\n",
    "            Jhist[gen:end] .= Jmin\n",
    "            return scores[minIdx], Xs[minIdx, :], Jhist, execsHist\n",
    "        end\n",
    "        \n",
    "        # Selecao dos Pais\n",
    "        topIdx = sortperm(scores, rev=false)\n",
    "\n",
    "        # gerava alocacoes\n",
    "        # copy!(parents, Xs[topIdx[1:k], :])\n",
    "\n",
    "        for i = 1:k\n",
    "            for j = 1:cidades\n",
    "                parents[i, j] = Xs[topIdx[i], j]\n",
    "            end\n",
    "        end\n",
    "        \n",
    "        \n",
    "        # Crossover\n",
    "        for i = 1:mu\n",
    "            # gerava alocacoes\n",
    "            # copy!(p1, parents[rand(1:k), :])\n",
    "            # copy!(p2, parents[rand(1:k), :])\n",
    "\n",
    "            r1 = rand(1:k)\n",
    "            r2 = rand(1:k)\n",
    "            for j = 1:cidades\n",
    "                p1[j] = parents[r1, j]\n",
    "                p2[j] = parents[r2, j]\n",
    "            end\n",
    "            \n",
    "            Xs[i, :] = PMX(p1, p2, child)\n",
    "        end\n",
    "        \n",
    "        # Mutacao\n",
    "        for i = 1:mu\n",
    "            if rand() <= taxaMut\n",
    "                i1 = rand(1:cidades)\n",
    "                i2 = rand(1:cidades)\n",
    "                if i1 > i2\n",
    "                    i1, i2 = i2, i1\n",
    "                end\n",
    "\n",
    "\n",
    "                Xs[i, i1:i2] = Xs[i, i2:-1:i1]\n",
    "            end\n",
    "        end\n",
    "        \n",
    "        # Memetico\n",
    "        if meme\n",
    "            for i = 1:mu\n",
    "                for depths = 1:depth\n",
    "                    Jold = J(Xs, i)\n",
    "                    execsHist += 1;\n",
    "                    dJ = 1\n",
    "                    searches = 0\n",
    "                    while dJ >=0 && searches < maxSearch\n",
    "                        for j = 1:cidades \n",
    "                            xhat[j] = Xs[i, j]\n",
    "                        end\n",
    "                        i1 = rand(1:cidades)\n",
    "                        i2 = rand(1:cidades)\n",
    "                        if i1 > i2\n",
    "                            i1, i2 = i2, i1\n",
    "                        end\n",
    "                        xhat[i1:i2] = xhat[i2:-1:i1]\n",
    "                        dJ = J(xhat) - Jold\n",
    "                        execsHist += 1;\n",
    "                        searches += 1\n",
    "                    end\n",
    "                    if dJ < 0\n",
    "                        for j = 1:cidades \n",
    "                            Xs[i, j] = xhat[j]\n",
    "                        end\n",
    "                    else\n",
    "                        break\n",
    "                    end\n",
    "                end\n",
    "            end\n",
    "        end\n",
    "    end\n",
    "    # Pontuacao\n",
    "    minIdx = argmin(scores)\n",
    "#     println(\"Minimo nao encontrado:\");\n",
    "    execsHist = -1\n",
    "    return scores[minIdx], Xs[minIdx, :], Jhist, execsHist\n",
    "end"
   ]
  },
  {
   "cell_type": "code",
   "execution_count": 10,
   "id": "convertible-harris",
   "metadata": {},
   "outputs": [
    {
     "data": {
      "text/plain": [
       "false"
      ]
     },
     "execution_count": 10,
     "metadata": {},
     "output_type": "execute_result"
    }
   ],
   "source": [
    "const runs = [100]\n",
    "const mus = [250]\n",
    "const gens = [750]\n",
    "const ks = [1, 2, 4, 6, 8, 10]\n",
    "const taxaMuts = [0.4, 0.6, 0.8, 1]\n",
    "const depths = [1, 3, 5]\n",
    "const maxSearches = [50]\n",
    "const meme = false\n",
    "const grid = false\n",
    "\n",
    "\n",
    "\n",
    "# const runs = [100]\n",
    "# const mus = [200]\n",
    "# const gens = [600]\n",
    "# const ks = [1, 2]\n",
    "# const depths = [25]\n",
    "# const maxSearches = [100]\n"
   ]
  },
  {
   "cell_type": "code",
   "execution_count": 11,
   "id": "ethical-transcript",
   "metadata": {},
   "outputs": [
    {
     "data": {
      "text/plain": [
       "idx2grid (generic function with 2 methods)"
      ]
     },
     "execution_count": 11,
     "metadata": {},
     "output_type": "execute_result"
    }
   ],
   "source": [
    "function idx2grid(idx, meme = false)\n",
    "    its = 0\n",
    "    for mu in mus\n",
    "        for gen in gens\n",
    "            for k in ks\n",
    "                for run in runs\n",
    "                    for taxaM in taxaMuts\n",
    "                        if meme\n",
    "                            for depth in depths\n",
    "                                for maxS in maxSearches\n",
    "                                    its += 1\n",
    "                                    if its == idx\n",
    "                                        return mu, gen, k, run, depth, maxS, taxaM\n",
    "                                    end\n",
    "                                end\n",
    "                            end\n",
    "                        else\n",
    "                            its += 1\n",
    "                            if its == idx\n",
    "                                return mu, gen, k, run, 0, 0, taxaM\n",
    "                            end\n",
    "                        end\n",
    "                    end\n",
    "                end\n",
    "            end\n",
    "        end\n",
    "    end\n",
    "    return its\n",
    "end"
   ]
  },
  {
   "cell_type": "code",
   "execution_count": 12,
   "id": "unique-sucking",
   "metadata": {},
   "outputs": [
    {
     "data": {
      "text/plain": [
       "24"
      ]
     },
     "execution_count": 12,
     "metadata": {},
     "output_type": "execute_result"
    }
   ],
   "source": [
    "const maxIts = idx2grid(0, meme)"
   ]
  },
  {
   "cell_type": "code",
   "execution_count": 13,
   "id": "anonymous-stadium",
   "metadata": {},
   "outputs": [
    {
     "name": "stderr",
     "output_type": "stream",
     "text": [
      "\u001b[32mProgress: 100%|█████████████████████████████████████████| Time: 0:00:15\u001b[39m\n"
     ]
    },
    {
     "name": "stdout",
     "output_type": "stream",
     "text": [
      " 15.654555 seconds (10.36 M allocations: 938.141 MiB, 1.41% gc time, 10.70% compilation time)\n",
      "100.00000000000007\n",
      "1.0000000038574357\n",
      "61587.5\n"
     ]
    }
   ],
   "source": [
    "using ProgressMeter\n",
    "using Random\n",
    "\n",
    "\n",
    "if !grid\n",
    "Jmin = J(ordemOtima)\n",
    "mu = 250\n",
    "gen = 750\n",
    "taxaM = 0.8\n",
    "k = 1\n",
    "arun = 100\n",
    "depth = 1\n",
    "maxS = 50\n",
    "\n",
    "allJmin = zeros(arun)\n",
    "allExecs = zeros(arun)\n",
    "allDistancias = zeros(gen, arun)\n",
    "\n",
    "@time begin\n",
    "@showprogress for j = 1:arun\n",
    "    Random.seed!(j);\n",
    "    \n",
    "    Xs = Array{Int16}(undef, mu, cidades)\n",
    "    for i = 1:mu\n",
    "        Xs[i, :] = shuffle(1:cidades)\n",
    "    end\n",
    "     \n",
    "    time = @elapsed begin\n",
    "        minS, bestX, Jhist, execs = SGA_cidades(Xs, gen, k, Jmin, mu, meme, depth, maxS, taxaM);\n",
    "    end\n",
    "    allDistancias[:, j] = Jhist\n",
    "    allJmin[j] = minS\n",
    "    allExecs[j] = execs\n",
    "end\n",
    "end\n",
    "\n",
    "println(SR(allJmin, Jmin, 0.001))\n",
    "println(MBF(allJmin, Jmin))\n",
    "println(AES(allExecs))\n",
    "end"
   ]
  },
  {
   "cell_type": "code",
   "execution_count": 14,
   "id": "widespread-absence",
   "metadata": {},
   "outputs": [],
   "source": [
    "# using ProfileView\n",
    "# Xs = Array{Int16}(undef, mu, cidades)\n",
    "#     for i = 1:mu\n",
    "#         Xs[i, :] = shuffle(1:cidades)\n",
    "#     end\n",
    "# @profview SGA_cidades(Xs, gen, k, Jmin, mu, meme, depth, maxSearch);  # run once to trigger compilation (ignore this one)\n",
    "# Xs = Array{Int16}(undef, mu, cidades)\n",
    "#     for i = 1:mu\n",
    "#         Xs[i, :] = shuffle(1:cidades)\n",
    "#     end\n",
    "# @profview SGA_cidades(Xs, gen, k, Jmin, mu, meme, depth, maxSearch);"
   ]
  },
  {
   "cell_type": "code",
   "execution_count": 29,
   "id": "dominant-trial",
   "metadata": {
    "tags": []
   },
   "outputs": [],
   "source": [
    "using Measures\n",
    "using Plots\n",
    "if !grid\n",
    "step = 1\n",
    "step2 = 5\n",
    "plot(Jmin./allDistancias[:, 1:step2:arun],xtickfontsize=12,ytickfontsize=12, legendfontsize=10, xlabel=\"Gerações\", ylabel=\"Aptidão\")\n",
    "plot!(1:step:(gen+100), ones(gen+100, 1), label = \"Jotimo\", lw = 2)\n",
    "savefig(\"sem_meme_k1_mu250_gen750.png\")\n",
    "end"
   ]
  },
  {
   "cell_type": "code",
   "execution_count": 16,
   "id": "precise-activation",
   "metadata": {},
   "outputs": [],
   "source": [
    "using ProgressMeter\n",
    "using Random\n",
    "\n",
    "if grid\n",
    "allSR = Array{Float32}(undef, maxIts)\n",
    "allMBF = Array{Float32}(undef, maxIts)\n",
    "allAES = Array{Float32}(undef, maxIts)\n",
    "allTimes = Array{Float32}(undef, maxIts)\n",
    "\n",
    "Jmin = J(ordemOtima)\n",
    "proximidade = 0.001\n",
    "N = maxIts*sum(runs)\n",
    "p = Progress(N);\n",
    "update!(p,0)\n",
    "jj = Threads.Atomic{Int}(0)\n",
    "l = Threads.SpinLock()\n",
    "Threads.@threads for it in 1:maxIts\n",
    "# @showprogress for it in 1:maxIts\n",
    "    time = @elapsed begin\n",
    "    mu, gen, k, arun, depth, maxS, taxaM = idx2grid(it, meme)\n",
    "    allJmin = zeros(arun)\n",
    "    allExecs = zeros(arun)\n",
    "    for rrun = 1:arun\n",
    "        Random.seed!(rrun);\n",
    "        Xs = Array{Int16}(undef, mu, cidades)\n",
    "        for i = 1:mu\n",
    "            Xs[i, :] = shuffle(1:cidades)   \n",
    "        end\n",
    "        minS, ~, ~, execs = SGA_cidades(Xs, gen, k, Jmin, mu, meme, depth, maxS, taxaM);\n",
    "        allJmin[rrun] = minS\n",
    "        allExecs[rrun] = execs\n",
    "        Threads.atomic_add!(jj, 1)\n",
    "        Threads.lock(l)\n",
    "        update!(p, jj[])\n",
    "        Threads.unlock(l) \n",
    "    end\n",
    "    allSR[it] = SR(allJmin, Jmin, proximidade)\n",
    "    allMBF[it] = MBF(allJmin, Jmin)\n",
    "    allAES[it] = AES(allExecs)\n",
    "    end\n",
    "    allTimes[it] = time\n",
    "end\n",
    "end"
   ]
  },
  {
   "cell_type": "code",
   "execution_count": 17,
   "id": "vulnerable-liabilities",
   "metadata": {},
   "outputs": [
    {
     "ename": "LoadError",
     "evalue": "UndefVarError: allSR not defined",
     "output_type": "error",
     "traceback": [
      "UndefVarError: allSR not defined",
      "",
      "Stacktrace:",
      " [1] top-level scope",
      "   @ In[17]:1",
      " [2] eval",
      "   @ .\\boot.jl:373 [inlined]",
      " [3] include_string(mapexpr::typeof(REPL.softscope), mod::Module, code::String, filename::String)",
      "   @ Base .\\loading.jl:1196"
     ]
    }
   ],
   "source": [
    "println(allSR)\n",
    "println(allMBF)\n",
    "println(allAES)"
   ]
  },
  {
   "cell_type": "code",
   "execution_count": 18,
   "id": "sixth-nitrogen",
   "metadata": {},
   "outputs": [],
   "source": [
    "if grid\n",
    "histogram(allSR, title = \"SR\")\n",
    "end"
   ]
  },
  {
   "cell_type": "code",
   "execution_count": 19,
   "id": "attached-ghost",
   "metadata": {},
   "outputs": [],
   "source": [
    "if grid\n",
    "plot(allMBF, title = \"MBF\")\n",
    "end"
   ]
  },
  {
   "cell_type": "code",
   "execution_count": 20,
   "id": "expired-activity",
   "metadata": {},
   "outputs": [],
   "source": [
    "if grid\n",
    "plot(allAES, title = \"AES\")\n",
    "end"
   ]
  },
  {
   "cell_type": "code",
   "execution_count": 21,
   "id": "consistent-modern",
   "metadata": {},
   "outputs": [
    {
     "data": {
      "text/plain": [
       "(250, 750, 1, 100, 0, 0, 0.4)"
      ]
     },
     "execution_count": 21,
     "metadata": {},
     "output_type": "execute_result"
    }
   ],
   "source": [
    "idx2grid(1)"
   ]
  },
  {
   "cell_type": "code",
   "execution_count": 22,
   "id": "white-fusion",
   "metadata": {},
   "outputs": [],
   "source": [
    "# using Plots\n",
    "\n",
    "# if ploting\n",
    "    \n",
    "#     bOrdem = allOrdemMin[bestCFG, :]\n",
    "#     bestJ = allJmin[bestCFG]\n",
    "\n",
    "#     println(\"Jmin: \", bestJ)\n",
    "#     println(\"Jotimo: \", Jmin)\n",
    "#     plot([0], [0], seriestype = :scatter, xlim=[-1.5, 1.5], ylim=[-1.5, 1.5], size = (500, 500), grid = true)\n",
    "#     xt(t) = sin(t)*raioBase\n",
    "#     yt(t) = cos(t)*raioBase\n",
    "#     plot!(xt, yt, 0, 2*pi, leg=false)\n",
    "#     plot!(pos[:, 1], pos[:, 2], seriestype = :scatter, mode=\"markers+text\", text=0:cidades-1)\n",
    "\n",
    "#     quiver!(pos[bOrdem, 1][:],pos[bOrdem, 2][:],quiver=(pos[[bOrdem[2:end]; bOrdem[1]], 1] - pos[bOrdem, 1][:],pos[[bOrdem[2:end]; bOrdem[1]], 2] - pos[bOrdem, 2][:])) \n",
    "# end"
   ]
  },
  {
   "cell_type": "code",
   "execution_count": 23,
   "id": "little-thomas",
   "metadata": {},
   "outputs": [],
   "source": [
    "# if plotting\n",
    "#     proximidade = 0.001\n",
    "#     vSR = round(SR(allJmin, Jmin, proximidade), digits=2)\n",
    "#     vMBF = round(MBF(allJmin), digits=2)\n",
    "#     vAES = round(AES(allExecs), digits=2)\n",
    "#     println(\"SR: \", vSR)\n",
    "#     println(\"MBF: \", vMBF)\n",
    "#     println(\"AES: \", vAES)\n",
    "# end"
   ]
  },
  {
   "cell_type": "code",
   "execution_count": 24,
   "id": "generic-pharmacy",
   "metadata": {},
   "outputs": [],
   "source": [
    "\n",
    "# header: C,meme,SR,MBF,AES,mu,gens,k,depth,maxS,runs,t\n",
    "if grid\n",
    "    for it = 1:maxIts\n",
    "        mu, gen, k, arun, depth, maxS, taxaM = idx2grid(it, meme)\n",
    "        resultados = string(cidades, \",\", meme, \",\", allSR[it], \",\", allMBF[it], \",\", allAES[it], \",\", mu, \",\", gen, \",\", k, \",\", depth, \",\", maxS, \",\", arun, \",\", taxaM, \",\",allTimes[it],\"\\n\")\n",
    "    #     println(resultados)\n",
    "\n",
    "        open(\"resultados_melhor2.csv\",\"a\") do io\n",
    "            write(io, resultados)\n",
    "        end;\n",
    "    end\n",
    "end"
   ]
  }
 ],
 "metadata": {
  "kernelspec": {
   "display_name": "Julia 1.7.2",
   "language": "julia",
   "name": "julia-1.7"
  },
  "language_info": {
   "file_extension": ".jl",
   "mimetype": "application/julia",
   "name": "julia",
   "version": "1.7.2"
  }
 },
 "nbformat": 4,
 "nbformat_minor": 5
}
